{
 "cells": [
  {
   "cell_type": "markdown",
   "id": "1647691a",
   "metadata": {
    "toc": true
   },
   "source": [
    "<h1>Table of Contents<span class=\"tocSkip\"></span></h1>\n",
    "<div class=\"toc\"><ul class=\"toc-item\"><li><span><a href=\"#Изучение-данных-из-файлов\" data-toc-modified-id=\"Изучение-данных-из-файлов-1\"><span class=\"toc-item-num\">1&nbsp;&nbsp;</span>Изучение данных из файлов</a></span><ul class=\"toc-item\"><li><span><a href=\"#Откроем-файлы-и-изучим-их\" data-toc-modified-id=\"Откроем-файлы-и-изучим-их-1.1\"><span class=\"toc-item-num\">1.1&nbsp;&nbsp;</span>Откроем файлы и изучим их</a></span></li><li><span><a href=\"#Данные-о-фильмах-и-сериалах\" data-toc-modified-id=\"Данные-о-фильмах-и-сериалах-1.2\"><span class=\"toc-item-num\">1.2&nbsp;&nbsp;</span>Данные о фильмах и сериалах</a></span></li><li><span><a href=\"#Данные-об-актёрах--и-режисёрах\" data-toc-modified-id=\"Данные-об-актёрах--и-режисёрах-1.3\"><span class=\"toc-item-num\">1.3&nbsp;&nbsp;</span>Данные об актёрах  и режисёрах</a></span></li></ul></li><li><span><a href=\"#Предобработка-данных\" data-toc-modified-id=\"Предобработка-данных-2\"><span class=\"toc-item-num\">2&nbsp;&nbsp;</span>Предобработка данных</a></span><ul class=\"toc-item\"><li><span><a href=\"#Пропуски\" data-toc-modified-id=\"Пропуски-2.1\"><span class=\"toc-item-num\">2.1&nbsp;&nbsp;</span>Пропуски</a></span></li><li><span><a href=\"#Преобразуем-столбецы-жанра-и-страны-производителя\" data-toc-modified-id=\"Преобразуем-столбецы-жанра-и-страны-производителя-2.2\"><span class=\"toc-item-num\">2.2&nbsp;&nbsp;</span>Преобразуем столбецы жанра и страны производителя</a></span></li></ul></li><li><span><a href=\"#Анализ-данных-и-визуализация\" data-toc-modified-id=\"Анализ-данных-и-визуализация-3\"><span class=\"toc-item-num\">3&nbsp;&nbsp;</span>Анализ данных и визуализация</a></span><ul class=\"toc-item\"><li><span><a href=\"#Посмотрим-какие-жанры-пользуются-наибольшей-пополярностью\" data-toc-modified-id=\"Посмотрим-какие-жанры-пользуются-наибольшей-пополярностью-3.1\"><span class=\"toc-item-num\">3.1&nbsp;&nbsp;</span>Посмотрим какие жанры пользуются наибольшей пополярностью</a></span></li><li><span><a href=\"#Какие-фильмы-являются-самыми-обсуждаемыми\" data-toc-modified-id=\"Какие-фильмы-являются-самыми-обсуждаемыми-3.2\"><span class=\"toc-item-num\">3.2&nbsp;&nbsp;</span>Какие фильмы являются самыми обсуждаемыми</a></span></li><li><span><a href=\"#Какие-режиссеры-выпустили-наибольшее-кол-во-фильмов-и-сериалов\" data-toc-modified-id=\"Какие-режиссеры-выпустили-наибольшее-кол-во-фильмов-и-сериалов-3.3\"><span class=\"toc-item-num\">3.3&nbsp;&nbsp;</span>Какие режиссеры выпустили наибольшее кол-во фильмов и сериалов</a></span></li><li><span><a href=\"#Какие-возрастные-категории-самые-популярные\" data-toc-modified-id=\"Какие-возрастные-категории-самые-популярные-3.4\"><span class=\"toc-item-num\">3.4&nbsp;&nbsp;</span>Какие возрастные категории самые популярные</a></span></li></ul></li><li><span><a href=\"#Вывод\" data-toc-modified-id=\"Вывод-4\"><span class=\"toc-item-num\">4&nbsp;&nbsp;</span>Вывод</a></span></li></ul></div>"
   ]
  },
  {
   "cell_type": "markdown",
   "id": "0c3d0f78",
   "metadata": {},
   "source": [
    "# Исследование состояния просмотров фильмов/сериалов на платформе"
   ]
  },
  {
   "cell_type": "markdown",
   "id": "fa097509",
   "metadata": {},
   "source": [
    "**Описание задания**"
   ]
  },
  {
   "cell_type": "markdown",
   "id": "78a67df4",
   "metadata": {},
   "source": [
    "Представь, что ты работаешь аналитиком в компании Netflix. Завтра у тебя состоится\n",
    "встреча с топ-менеджерами и твоя задача подготовить верхнеуровневый борд, который покажет\n",
    "текущее состояние просмотров фильмов/сериалов на платформе.\n",
    "\n",
    "Точно хотелось бы увидеть какие жанры пользуется наибольшей популярностью (тут стоит\n",
    "учитывать не только балл, а также кол-во голосов). Какой/какие фильмы являются самыми\n",
    "обсуждаемыми на платформе. Какой режиссер/режиссеры выпустили наибольшее кол-во\n",
    "фильмов.\n",
    "\n",
    "Количество графиков и бордов в целом неограниченно, кроме вышеуказанных метрик – ты\n",
    "можешь построить любые другие, если они помогут сделать правильные выводы и оценить\n",
    "ситуацию по просмотрам. Главное, не забывай – мы строим верхнеуровненвый борд для топов!"
   ]
  },
  {
   "cell_type": "markdown",
   "id": "bc482b5d",
   "metadata": {},
   "source": [
    "## Изучение данных из файлов"
   ]
  },
  {
   "cell_type": "markdown",
   "id": "a3974bfe",
   "metadata": {},
   "source": [
    "### Откроем файлы и изучим их"
   ]
  },
  {
   "cell_type": "markdown",
   "id": "d233bc3d",
   "metadata": {},
   "source": [
    "Чтобы изучить данные датафрейма, сделать необходимые рассчёты, провести исследование и составить отчёт сразу импортируем библиотеки, который нам потребуются в данном проекте"
   ]
  },
  {
   "cell_type": "code",
   "execution_count": 25,
   "id": "e8f18559",
   "metadata": {},
   "outputs": [],
   "source": [
    "from io import BytesIO # импорт библиотеки BytesIO\n",
    "\n",
    "import ast # импорт библиотеки ast\n",
    "import numpy as np # импорт библиотеки numpy\n",
    "import pandas as pd # импорт библиотеки pandas\n",
    "import random # импорт библиотеки random\n",
    "import requests  # импорт библиотеки requests\n",
    "import seaborn as sns # импорт библиотеки seaborn"
   ]
  },
  {
   "cell_type": "markdown",
   "id": "7d06e512",
   "metadata": {},
   "source": [
    "Сохраним файл на `Google Sheets` и расшарим его, чтобы он окрывался с любого локального `Jupyter`:"
   ]
  },
  {
   "cell_type": "code",
   "execution_count": 26,
   "id": "2b54fc3e",
   "metadata": {},
   "outputs": [],
   "source": [
    "spreadsheet_id = '1GNjoTVINdQRPr5g2E9eezt7ARJSGgVvXcyI225ledek'\n",
    "file_name = 'https://docs.google.com/spreadsheets/d/{}/export?format=csv'.format(spreadsheet_id)\n",
    "r = requests.get(file_name)\n",
    "films = pd.read_csv(BytesIO(r.content), decimal=\",\")"
   ]
  },
  {
   "cell_type": "markdown",
   "id": "81efd35a",
   "metadata": {},
   "source": [
    "Прочитаем и сохраним файл, который предоставил заказчик"
   ]
  },
  {
   "cell_type": "code",
   "execution_count": 27,
   "id": "00657aa9",
   "metadata": {},
   "outputs": [],
   "source": [
    "spreadsheet_id = '1Bz9t-wdAti_i5KJxQns00V_Sm0T2HAmihdkcqlTQ4cU'\n",
    "file_name = 'https://docs.google.com/spreadsheets/d/{}/export?format=csv'.format(spreadsheet_id)\n",
    "r = requests.get(file_name)\n",
    "actors = pd.read_csv(BytesIO(r.content))"
   ]
  },
  {
   "cell_type": "markdown",
   "id": "153cb0be",
   "metadata": {},
   "source": [
    "Напишем функцию, которая будет отображать основные показатели датасета и строить корреляционную матрицу"
   ]
  },
  {
   "cell_type": "code",
   "execution_count": 28,
   "id": "cc329edf",
   "metadata": {},
   "outputs": [],
   "source": [
    "def df_info(df):\n",
    "    \"\"\"Изучение датасета\"\"\"\n",
    "    print('\\nПервые 5 строчек датафрейма')\n",
    "    display(df.head(5))\n",
    "    print('\\nИнформация о датафрейме\\n')\n",
    "    display(df.info())\n",
    "    print('\\nРасчёт значений в каждом столбце')\n",
    "    display(df.describe())\n",
    "    print('\\nКоличество дубликатов =', df.duplicated().sum())\n",
    "    print('\\nЧисло пропусков в каждом столбце')\n",
    "    display(df.isna().sum())"
   ]
  },
  {
   "cell_type": "markdown",
   "id": "7c6654fd",
   "metadata": {},
   "source": [
    "### Данные о фильмах и сериалах"
   ]
  },
  {
   "cell_type": "code",
   "execution_count": 29,
   "id": "edd4e499",
   "metadata": {
    "scrolled": false
   },
   "outputs": [
    {
     "name": "stdout",
     "output_type": "stream",
     "text": [
      "\n",
      "Первые 5 строчек датафрейма\n"
     ]
    },
    {
     "data": {
      "text/html": [
       "<div>\n",
       "<style scoped>\n",
       "    .dataframe tbody tr th:only-of-type {\n",
       "        vertical-align: middle;\n",
       "    }\n",
       "\n",
       "    .dataframe tbody tr th {\n",
       "        vertical-align: top;\n",
       "    }\n",
       "\n",
       "    .dataframe thead th {\n",
       "        text-align: right;\n",
       "    }\n",
       "</style>\n",
       "<table border=\"1\" class=\"dataframe\">\n",
       "  <thead>\n",
       "    <tr style=\"text-align: right;\">\n",
       "      <th></th>\n",
       "      <th>id</th>\n",
       "      <th>title</th>\n",
       "      <th>type</th>\n",
       "      <th>description</th>\n",
       "      <th>release_year</th>\n",
       "      <th>age_certification</th>\n",
       "      <th>runtime</th>\n",
       "      <th>genres</th>\n",
       "      <th>production_countries</th>\n",
       "      <th>seasons</th>\n",
       "      <th>imdb_id</th>\n",
       "      <th>imdb_score</th>\n",
       "      <th>imdb_votes</th>\n",
       "      <th>tmdb_popularity</th>\n",
       "      <th>tmdb_score</th>\n",
       "    </tr>\n",
       "  </thead>\n",
       "  <tbody>\n",
       "    <tr>\n",
       "      <th>0</th>\n",
       "      <td>ts300399</td>\n",
       "      <td>Five Came Back: The Reference Films</td>\n",
       "      <td>SHOW</td>\n",
       "      <td>This collection includes 12 World War II-era p...</td>\n",
       "      <td>1945.0</td>\n",
       "      <td>TV-MA</td>\n",
       "      <td>51.0</td>\n",
       "      <td>['documentation']</td>\n",
       "      <td>['US']</td>\n",
       "      <td>1.0</td>\n",
       "      <td>NaN</td>\n",
       "      <td>NaN</td>\n",
       "      <td>NaN</td>\n",
       "      <td>0.60</td>\n",
       "      <td>NaN</td>\n",
       "    </tr>\n",
       "    <tr>\n",
       "      <th>1</th>\n",
       "      <td>tm84618</td>\n",
       "      <td>Taxi Driver</td>\n",
       "      <td>MOVIE</td>\n",
       "      <td>A mentally unstable Vietnam War veteran works ...</td>\n",
       "      <td>1976.0</td>\n",
       "      <td>R</td>\n",
       "      <td>114.0</td>\n",
       "      <td>['drama', 'crime']</td>\n",
       "      <td>['US']</td>\n",
       "      <td>NaN</td>\n",
       "      <td>tt0075314</td>\n",
       "      <td>8.2</td>\n",
       "      <td>808582.0</td>\n",
       "      <td>40.97</td>\n",
       "      <td>8.18</td>\n",
       "    </tr>\n",
       "    <tr>\n",
       "      <th>2</th>\n",
       "      <td>tm154986</td>\n",
       "      <td>Deliverance</td>\n",
       "      <td>MOVIE</td>\n",
       "      <td>Intent on seeing the Cahulawassee River before...</td>\n",
       "      <td>1972.0</td>\n",
       "      <td>R</td>\n",
       "      <td>109.0</td>\n",
       "      <td>['drama', 'action', 'thriller', 'european']</td>\n",
       "      <td>['US']</td>\n",
       "      <td>NaN</td>\n",
       "      <td>tt0068473</td>\n",
       "      <td>7.7</td>\n",
       "      <td>107673.0</td>\n",
       "      <td>10.01</td>\n",
       "      <td>7.30</td>\n",
       "    </tr>\n",
       "    <tr>\n",
       "      <th>3</th>\n",
       "      <td>tm127384</td>\n",
       "      <td>Monty Python and the Holy Grail</td>\n",
       "      <td>MOVIE</td>\n",
       "      <td>King Arthur, accompanied by his squire, recrui...</td>\n",
       "      <td>1975.0</td>\n",
       "      <td>PG</td>\n",
       "      <td>91.0</td>\n",
       "      <td>['fantasy', 'action', 'comedy']</td>\n",
       "      <td>['GB']</td>\n",
       "      <td>NaN</td>\n",
       "      <td>tt0071853</td>\n",
       "      <td>8.2</td>\n",
       "      <td>534486.0</td>\n",
       "      <td>15.46</td>\n",
       "      <td>7.81</td>\n",
       "    </tr>\n",
       "    <tr>\n",
       "      <th>4</th>\n",
       "      <td>tm120801</td>\n",
       "      <td>The Dirty Dozen</td>\n",
       "      <td>MOVIE</td>\n",
       "      <td>12 American military prisoners in World War II...</td>\n",
       "      <td>1967.0</td>\n",
       "      <td>NaN</td>\n",
       "      <td>150.0</td>\n",
       "      <td>['war', 'action']</td>\n",
       "      <td>['GB', 'US']</td>\n",
       "      <td>NaN</td>\n",
       "      <td>tt0061578</td>\n",
       "      <td>7.7</td>\n",
       "      <td>72662.0</td>\n",
       "      <td>20.40</td>\n",
       "      <td>7.60</td>\n",
       "    </tr>\n",
       "  </tbody>\n",
       "</table>\n",
       "</div>"
      ],
      "text/plain": [
       "         id                                title   type  \\\n",
       "0  ts300399  Five Came Back: The Reference Films   SHOW   \n",
       "1   tm84618                          Taxi Driver  MOVIE   \n",
       "2  tm154986                          Deliverance  MOVIE   \n",
       "3  tm127384      Monty Python and the Holy Grail  MOVIE   \n",
       "4  tm120801                      The Dirty Dozen  MOVIE   \n",
       "\n",
       "                                         description  release_year  \\\n",
       "0  This collection includes 12 World War II-era p...        1945.0   \n",
       "1  A mentally unstable Vietnam War veteran works ...        1976.0   \n",
       "2  Intent on seeing the Cahulawassee River before...        1972.0   \n",
       "3  King Arthur, accompanied by his squire, recrui...        1975.0   \n",
       "4  12 American military prisoners in World War II...        1967.0   \n",
       "\n",
       "  age_certification  runtime                                       genres  \\\n",
       "0             TV-MA     51.0                            ['documentation']   \n",
       "1                 R    114.0                           ['drama', 'crime']   \n",
       "2                 R    109.0  ['drama', 'action', 'thriller', 'european']   \n",
       "3                PG     91.0              ['fantasy', 'action', 'comedy']   \n",
       "4               NaN    150.0                            ['war', 'action']   \n",
       "\n",
       "  production_countries  seasons    imdb_id  imdb_score  imdb_votes  \\\n",
       "0               ['US']      1.0        NaN         NaN         NaN   \n",
       "1               ['US']      NaN  tt0075314         8.2    808582.0   \n",
       "2               ['US']      NaN  tt0068473         7.7    107673.0   \n",
       "3               ['GB']      NaN  tt0071853         8.2    534486.0   \n",
       "4         ['GB', 'US']      NaN  tt0061578         7.7     72662.0   \n",
       "\n",
       "   tmdb_popularity  tmdb_score  \n",
       "0             0.60         NaN  \n",
       "1            40.97        8.18  \n",
       "2            10.01        7.30  \n",
       "3            15.46        7.81  \n",
       "4            20.40        7.60  "
      ]
     },
     "metadata": {},
     "output_type": "display_data"
    },
    {
     "name": "stdout",
     "output_type": "stream",
     "text": [
      "\n",
      "Информация о датафрейме\n",
      "\n",
      "<class 'pandas.core.frame.DataFrame'>\n",
      "RangeIndex: 5850 entries, 0 to 5849\n",
      "Data columns (total 15 columns):\n",
      " #   Column                Non-Null Count  Dtype  \n",
      "---  ------                --------------  -----  \n",
      " 0   id                    5850 non-null   object \n",
      " 1   title                 5849 non-null   object \n",
      " 2   type                  5850 non-null   object \n",
      " 3   description           5832 non-null   object \n",
      " 4   release_year          5850 non-null   float64\n",
      " 5   age_certification     3231 non-null   object \n",
      " 6   runtime               5850 non-null   float64\n",
      " 7   genres                5850 non-null   object \n",
      " 8   production_countries  5850 non-null   object \n",
      " 9   seasons               2106 non-null   float64\n",
      " 10  imdb_id               5447 non-null   object \n",
      " 11  imdb_score            5368 non-null   float64\n",
      " 12  imdb_votes            5352 non-null   float64\n",
      " 13  tmdb_popularity       5759 non-null   float64\n",
      " 14  tmdb_score            5539 non-null   float64\n",
      "dtypes: float64(7), object(8)\n",
      "memory usage: 685.7+ KB\n"
     ]
    },
    {
     "data": {
      "text/plain": [
       "None"
      ]
     },
     "metadata": {},
     "output_type": "display_data"
    },
    {
     "name": "stdout",
     "output_type": "stream",
     "text": [
      "\n",
      "Расчёт значений в каждом столбце\n"
     ]
    },
    {
     "data": {
      "text/html": [
       "<div>\n",
       "<style scoped>\n",
       "    .dataframe tbody tr th:only-of-type {\n",
       "        vertical-align: middle;\n",
       "    }\n",
       "\n",
       "    .dataframe tbody tr th {\n",
       "        vertical-align: top;\n",
       "    }\n",
       "\n",
       "    .dataframe thead th {\n",
       "        text-align: right;\n",
       "    }\n",
       "</style>\n",
       "<table border=\"1\" class=\"dataframe\">\n",
       "  <thead>\n",
       "    <tr style=\"text-align: right;\">\n",
       "      <th></th>\n",
       "      <th>release_year</th>\n",
       "      <th>runtime</th>\n",
       "      <th>seasons</th>\n",
       "      <th>imdb_score</th>\n",
       "      <th>imdb_votes</th>\n",
       "      <th>tmdb_popularity</th>\n",
       "      <th>tmdb_score</th>\n",
       "    </tr>\n",
       "  </thead>\n",
       "  <tbody>\n",
       "    <tr>\n",
       "      <th>count</th>\n",
       "      <td>5850.000000</td>\n",
       "      <td>5850.000000</td>\n",
       "      <td>2106.000000</td>\n",
       "      <td>5368.000000</td>\n",
       "      <td>5.352000e+03</td>\n",
       "      <td>5759.000000</td>\n",
       "      <td>5539.000000</td>\n",
       "    </tr>\n",
       "    <tr>\n",
       "      <th>mean</th>\n",
       "      <td>2016.417094</td>\n",
       "      <td>76.888889</td>\n",
       "      <td>2.162868</td>\n",
       "      <td>6.510861</td>\n",
       "      <td>2.343938e+04</td>\n",
       "      <td>22.638411</td>\n",
       "      <td>6.829193</td>\n",
       "    </tr>\n",
       "    <tr>\n",
       "      <th>std</th>\n",
       "      <td>6.937726</td>\n",
       "      <td>39.002509</td>\n",
       "      <td>2.689041</td>\n",
       "      <td>1.163826</td>\n",
       "      <td>9.582047e+04</td>\n",
       "      <td>81.680224</td>\n",
       "      <td>1.170382</td>\n",
       "    </tr>\n",
       "    <tr>\n",
       "      <th>min</th>\n",
       "      <td>1945.000000</td>\n",
       "      <td>0.000000</td>\n",
       "      <td>1.000000</td>\n",
       "      <td>1.500000</td>\n",
       "      <td>5.000000e+00</td>\n",
       "      <td>0.010000</td>\n",
       "      <td>0.500000</td>\n",
       "    </tr>\n",
       "    <tr>\n",
       "      <th>25%</th>\n",
       "      <td>2016.000000</td>\n",
       "      <td>44.000000</td>\n",
       "      <td>1.000000</td>\n",
       "      <td>5.800000</td>\n",
       "      <td>5.167500e+02</td>\n",
       "      <td>2.730000</td>\n",
       "      <td>6.100000</td>\n",
       "    </tr>\n",
       "    <tr>\n",
       "      <th>50%</th>\n",
       "      <td>2018.000000</td>\n",
       "      <td>83.000000</td>\n",
       "      <td>1.000000</td>\n",
       "      <td>6.600000</td>\n",
       "      <td>2.233500e+03</td>\n",
       "      <td>6.820000</td>\n",
       "      <td>6.900000</td>\n",
       "    </tr>\n",
       "    <tr>\n",
       "      <th>75%</th>\n",
       "      <td>2020.000000</td>\n",
       "      <td>104.000000</td>\n",
       "      <td>2.000000</td>\n",
       "      <td>7.300000</td>\n",
       "      <td>9.494000e+03</td>\n",
       "      <td>16.590000</td>\n",
       "      <td>7.535000</td>\n",
       "    </tr>\n",
       "    <tr>\n",
       "      <th>max</th>\n",
       "      <td>2022.000000</td>\n",
       "      <td>240.000000</td>\n",
       "      <td>42.000000</td>\n",
       "      <td>9.600000</td>\n",
       "      <td>2.294231e+06</td>\n",
       "      <td>2274.040000</td>\n",
       "      <td>10.000000</td>\n",
       "    </tr>\n",
       "  </tbody>\n",
       "</table>\n",
       "</div>"
      ],
      "text/plain": [
       "       release_year      runtime      seasons   imdb_score    imdb_votes  \\\n",
       "count   5850.000000  5850.000000  2106.000000  5368.000000  5.352000e+03   \n",
       "mean    2016.417094    76.888889     2.162868     6.510861  2.343938e+04   \n",
       "std        6.937726    39.002509     2.689041     1.163826  9.582047e+04   \n",
       "min     1945.000000     0.000000     1.000000     1.500000  5.000000e+00   \n",
       "25%     2016.000000    44.000000     1.000000     5.800000  5.167500e+02   \n",
       "50%     2018.000000    83.000000     1.000000     6.600000  2.233500e+03   \n",
       "75%     2020.000000   104.000000     2.000000     7.300000  9.494000e+03   \n",
       "max     2022.000000   240.000000    42.000000     9.600000  2.294231e+06   \n",
       "\n",
       "       tmdb_popularity   tmdb_score  \n",
       "count      5759.000000  5539.000000  \n",
       "mean         22.638411     6.829193  \n",
       "std          81.680224     1.170382  \n",
       "min           0.010000     0.500000  \n",
       "25%           2.730000     6.100000  \n",
       "50%           6.820000     6.900000  \n",
       "75%          16.590000     7.535000  \n",
       "max        2274.040000    10.000000  "
      ]
     },
     "metadata": {},
     "output_type": "display_data"
    },
    {
     "name": "stdout",
     "output_type": "stream",
     "text": [
      "\n",
      "Количество дубликатов = 0\n",
      "\n",
      "Число пропусков в каждом столбце\n"
     ]
    },
    {
     "data": {
      "text/plain": [
       "id                         0\n",
       "title                      1\n",
       "type                       0\n",
       "description               18\n",
       "release_year               0\n",
       "age_certification       2619\n",
       "runtime                    0\n",
       "genres                     0\n",
       "production_countries       0\n",
       "seasons                 3744\n",
       "imdb_id                  403\n",
       "imdb_score               482\n",
       "imdb_votes               498\n",
       "tmdb_popularity           91\n",
       "tmdb_score               311\n",
       "dtype: int64"
      ]
     },
     "metadata": {},
     "output_type": "display_data"
    }
   ],
   "source": [
    "df_info(films)"
   ]
  },
  {
   "cell_type": "markdown",
   "id": "5662d151",
   "metadata": {},
   "source": [
    "В таблице films 5850 строк. Типы данных - int, object, float\n",
    "\n",
    "Согласно документации к данным:\n",
    "\n",
    "* id - идентификатор заголовка в JustWatch\n",
    "* title - название фильма/сериала\n",
    "* show_type - тип: фильм или сериал\n",
    "* description - краткое описание\n",
    "* release_year - год выпуска\n",
    "* age_certification - возврастная категория \n",
    "* runtime - продолжительность эпизода/фильма\n",
    "* genres - жанр\n",
    "* production_countries - страна производитель\n",
    "* seasons - число сезонов для сериала\n",
    "* imdb_id - идентификатор фильма/сериала на IMDB\n",
    "* imdb_score - оценка фильма/сериала на IMDB\n",
    "* imdb_votes - число голосов на IMDB.\n",
    "* tmdb_popularity - популярность на TMDB.\n",
    "* tmdb_score - оценка на TMDB."
   ]
  },
  {
   "cell_type": "markdown",
   "id": "95bf0137",
   "metadata": {},
   "source": [
    "### Данные об актёрах  и режисёрах"
   ]
  },
  {
   "cell_type": "code",
   "execution_count": 30,
   "id": "a26342aa",
   "metadata": {
    "scrolled": false
   },
   "outputs": [
    {
     "name": "stdout",
     "output_type": "stream",
     "text": [
      "\n",
      "Первые 5 строчек датафрейма\n"
     ]
    },
    {
     "data": {
      "text/html": [
       "<div>\n",
       "<style scoped>\n",
       "    .dataframe tbody tr th:only-of-type {\n",
       "        vertical-align: middle;\n",
       "    }\n",
       "\n",
       "    .dataframe tbody tr th {\n",
       "        vertical-align: top;\n",
       "    }\n",
       "\n",
       "    .dataframe thead th {\n",
       "        text-align: right;\n",
       "    }\n",
       "</style>\n",
       "<table border=\"1\" class=\"dataframe\">\n",
       "  <thead>\n",
       "    <tr style=\"text-align: right;\">\n",
       "      <th></th>\n",
       "      <th>person_id</th>\n",
       "      <th>id</th>\n",
       "      <th>name</th>\n",
       "      <th>character_name</th>\n",
       "      <th>role</th>\n",
       "    </tr>\n",
       "  </thead>\n",
       "  <tbody>\n",
       "    <tr>\n",
       "      <th>0</th>\n",
       "      <td>3748</td>\n",
       "      <td>tm84618</td>\n",
       "      <td>Robert De Niro</td>\n",
       "      <td>Travis Bickle</td>\n",
       "      <td>ACTOR</td>\n",
       "    </tr>\n",
       "    <tr>\n",
       "      <th>1</th>\n",
       "      <td>14658</td>\n",
       "      <td>tm84618</td>\n",
       "      <td>Jodie Foster</td>\n",
       "      <td>Iris Steensma</td>\n",
       "      <td>ACTOR</td>\n",
       "    </tr>\n",
       "    <tr>\n",
       "      <th>2</th>\n",
       "      <td>7064</td>\n",
       "      <td>tm84618</td>\n",
       "      <td>Albert Brooks</td>\n",
       "      <td>Tom</td>\n",
       "      <td>ACTOR</td>\n",
       "    </tr>\n",
       "    <tr>\n",
       "      <th>3</th>\n",
       "      <td>3739</td>\n",
       "      <td>tm84618</td>\n",
       "      <td>Harvey Keitel</td>\n",
       "      <td>Matthew 'Sport' Higgins</td>\n",
       "      <td>ACTOR</td>\n",
       "    </tr>\n",
       "    <tr>\n",
       "      <th>4</th>\n",
       "      <td>48933</td>\n",
       "      <td>tm84618</td>\n",
       "      <td>Cybill Shepherd</td>\n",
       "      <td>Betsy</td>\n",
       "      <td>ACTOR</td>\n",
       "    </tr>\n",
       "  </tbody>\n",
       "</table>\n",
       "</div>"
      ],
      "text/plain": [
       "   person_id       id             name           character_name   role\n",
       "0       3748  tm84618   Robert De Niro            Travis Bickle  ACTOR\n",
       "1      14658  tm84618     Jodie Foster            Iris Steensma  ACTOR\n",
       "2       7064  tm84618    Albert Brooks                      Tom  ACTOR\n",
       "3       3739  tm84618    Harvey Keitel  Matthew 'Sport' Higgins  ACTOR\n",
       "4      48933  tm84618  Cybill Shepherd                    Betsy  ACTOR"
      ]
     },
     "metadata": {},
     "output_type": "display_data"
    },
    {
     "name": "stdout",
     "output_type": "stream",
     "text": [
      "\n",
      "Информация о датафрейме\n",
      "\n",
      "<class 'pandas.core.frame.DataFrame'>\n",
      "RangeIndex: 77801 entries, 0 to 77800\n",
      "Data columns (total 5 columns):\n",
      " #   Column          Non-Null Count  Dtype \n",
      "---  ------          --------------  ----- \n",
      " 0   person_id       77801 non-null  int64 \n",
      " 1   id              77801 non-null  object\n",
      " 2   name            77801 non-null  object\n",
      " 3   character_name  68029 non-null  object\n",
      " 4   role            77801 non-null  object\n",
      "dtypes: int64(1), object(4)\n",
      "memory usage: 3.0+ MB\n"
     ]
    },
    {
     "data": {
      "text/plain": [
       "None"
      ]
     },
     "metadata": {},
     "output_type": "display_data"
    },
    {
     "name": "stdout",
     "output_type": "stream",
     "text": [
      "\n",
      "Расчёт значений в каждом столбце\n"
     ]
    },
    {
     "data": {
      "text/html": [
       "<div>\n",
       "<style scoped>\n",
       "    .dataframe tbody tr th:only-of-type {\n",
       "        vertical-align: middle;\n",
       "    }\n",
       "\n",
       "    .dataframe tbody tr th {\n",
       "        vertical-align: top;\n",
       "    }\n",
       "\n",
       "    .dataframe thead th {\n",
       "        text-align: right;\n",
       "    }\n",
       "</style>\n",
       "<table border=\"1\" class=\"dataframe\">\n",
       "  <thead>\n",
       "    <tr style=\"text-align: right;\">\n",
       "      <th></th>\n",
       "      <th>person_id</th>\n",
       "    </tr>\n",
       "  </thead>\n",
       "  <tbody>\n",
       "    <tr>\n",
       "      <th>count</th>\n",
       "      <td>7.780100e+04</td>\n",
       "    </tr>\n",
       "    <tr>\n",
       "      <th>mean</th>\n",
       "      <td>5.294888e+05</td>\n",
       "    </tr>\n",
       "    <tr>\n",
       "      <th>std</th>\n",
       "      <td>6.430167e+05</td>\n",
       "    </tr>\n",
       "    <tr>\n",
       "      <th>min</th>\n",
       "      <td>7.000000e+00</td>\n",
       "    </tr>\n",
       "    <tr>\n",
       "      <th>25%</th>\n",
       "      <td>4.530600e+04</td>\n",
       "    </tr>\n",
       "    <tr>\n",
       "      <th>50%</th>\n",
       "      <td>1.983580e+05</td>\n",
       "    </tr>\n",
       "    <tr>\n",
       "      <th>75%</th>\n",
       "      <td>8.880960e+05</td>\n",
       "    </tr>\n",
       "    <tr>\n",
       "      <th>max</th>\n",
       "      <td>2.462818e+06</td>\n",
       "    </tr>\n",
       "  </tbody>\n",
       "</table>\n",
       "</div>"
      ],
      "text/plain": [
       "          person_id\n",
       "count  7.780100e+04\n",
       "mean   5.294888e+05\n",
       "std    6.430167e+05\n",
       "min    7.000000e+00\n",
       "25%    4.530600e+04\n",
       "50%    1.983580e+05\n",
       "75%    8.880960e+05\n",
       "max    2.462818e+06"
      ]
     },
     "metadata": {},
     "output_type": "display_data"
    },
    {
     "name": "stdout",
     "output_type": "stream",
     "text": [
      "\n",
      "Количество дубликатов = 0\n",
      "\n",
      "Число пропусков в каждом столбце\n"
     ]
    },
    {
     "data": {
      "text/plain": [
       "person_id            0\n",
       "id                   0\n",
       "name                 0\n",
       "character_name    9772\n",
       "role                 0\n",
       "dtype: int64"
      ]
     },
     "metadata": {},
     "output_type": "display_data"
    }
   ],
   "source": [
    "df_info(actors)"
   ]
  },
  {
   "cell_type": "markdown",
   "id": "82d38bf5",
   "metadata": {},
   "source": [
    "В таблице films 77801 строк. Типы данных - int, object\n",
    "\n",
    "Согласно документации к данным:\n",
    "\n",
    "* person_ID - идентификатор пользователя в JustWatch\n",
    "* id - идентификатор заголовка в JustWatch\n",
    "* name - имя актера или режиссера\n",
    "* character_name - имя персонажа.\n",
    "* role - артёр или режисёр"
   ]
  },
  {
   "cell_type": "markdown",
   "id": "74963280",
   "metadata": {},
   "source": [
    "**Вывод**\n",
    "\n",
    "В двух датафреймах `films` и `actors` указаны данные: \n",
    "1. `films` - о фильмах и сериалах с их характеристиками и рейтингами \n",
    "2. `actors` - о актёрах и режисёрах с указанием фильмов и сериоалов в которых они снимались или режесировали\n",
    "\n",
    "Предварительно можно утверждать, что, данных достаточно для анализа данных и построения графиков для борда, но встречаются пропуски в данных и некоторые колонки нужно будет преобразовать.\n",
    "\n",
    "Чтобы двигаться дальше, нужно устранить проблемы в данных."
   ]
  },
  {
   "cell_type": "markdown",
   "id": "6e560be1",
   "metadata": {},
   "source": [
    "## Предобработка данных"
   ]
  },
  {
   "cell_type": "markdown",
   "id": "189a0954",
   "metadata": {},
   "source": [
    "### Пропуски"
   ]
  },
  {
   "cell_type": "markdown",
   "id": "df887c9a",
   "metadata": {},
   "source": [
    "Посмотрим на пропуск в столбцах, где значение пропусков статистически не значимо "
   ]
  },
  {
   "cell_type": "code",
   "execution_count": 31,
   "id": "b26c490c",
   "metadata": {},
   "outputs": [
    {
     "data": {
      "text/html": [
       "<div>\n",
       "<style scoped>\n",
       "    .dataframe tbody tr th:only-of-type {\n",
       "        vertical-align: middle;\n",
       "    }\n",
       "\n",
       "    .dataframe tbody tr th {\n",
       "        vertical-align: top;\n",
       "    }\n",
       "\n",
       "    .dataframe thead th {\n",
       "        text-align: right;\n",
       "    }\n",
       "</style>\n",
       "<table border=\"1\" class=\"dataframe\">\n",
       "  <thead>\n",
       "    <tr style=\"text-align: right;\">\n",
       "      <th></th>\n",
       "      <th>id</th>\n",
       "      <th>title</th>\n",
       "      <th>type</th>\n",
       "      <th>description</th>\n",
       "      <th>release_year</th>\n",
       "      <th>age_certification</th>\n",
       "      <th>runtime</th>\n",
       "      <th>genres</th>\n",
       "      <th>production_countries</th>\n",
       "      <th>seasons</th>\n",
       "      <th>imdb_id</th>\n",
       "      <th>imdb_score</th>\n",
       "      <th>imdb_votes</th>\n",
       "      <th>tmdb_popularity</th>\n",
       "      <th>tmdb_score</th>\n",
       "    </tr>\n",
       "  </thead>\n",
       "  <tbody>\n",
       "    <tr>\n",
       "      <th>1704</th>\n",
       "      <td>tm1063792</td>\n",
       "      <td>NaN</td>\n",
       "      <td>MOVIE</td>\n",
       "      <td>NaN</td>\n",
       "      <td>2015.0</td>\n",
       "      <td>NaN</td>\n",
       "      <td>11.0</td>\n",
       "      <td>[]</td>\n",
       "      <td>[]</td>\n",
       "      <td>NaN</td>\n",
       "      <td>tt4661188</td>\n",
       "      <td>NaN</td>\n",
       "      <td>NaN</td>\n",
       "      <td>NaN</td>\n",
       "      <td>NaN</td>\n",
       "    </tr>\n",
       "  </tbody>\n",
       "</table>\n",
       "</div>"
      ],
      "text/plain": [
       "             id title   type description  release_year age_certification  \\\n",
       "1704  tm1063792   NaN  MOVIE         NaN        2015.0               NaN   \n",
       "\n",
       "      runtime genres production_countries  seasons    imdb_id  imdb_score  \\\n",
       "1704     11.0     []                   []      NaN  tt4661188         NaN   \n",
       "\n",
       "      imdb_votes  tmdb_popularity  tmdb_score  \n",
       "1704         NaN              NaN         NaN  "
      ]
     },
     "execution_count": 31,
     "metadata": {},
     "output_type": "execute_result"
    }
   ],
   "source": [
    "films[films['title'].isna()]"
   ]
  },
  {
   "cell_type": "code",
   "execution_count": 32,
   "id": "eaba9f2d",
   "metadata": {},
   "outputs": [
    {
     "data": {
      "text/html": [
       "<div>\n",
       "<style scoped>\n",
       "    .dataframe tbody tr th:only-of-type {\n",
       "        vertical-align: middle;\n",
       "    }\n",
       "\n",
       "    .dataframe tbody tr th {\n",
       "        vertical-align: top;\n",
       "    }\n",
       "\n",
       "    .dataframe thead th {\n",
       "        text-align: right;\n",
       "    }\n",
       "</style>\n",
       "<table border=\"1\" class=\"dataframe\">\n",
       "  <thead>\n",
       "    <tr style=\"text-align: right;\">\n",
       "      <th></th>\n",
       "      <th>id</th>\n",
       "      <th>title</th>\n",
       "      <th>type</th>\n",
       "      <th>description</th>\n",
       "      <th>release_year</th>\n",
       "      <th>age_certification</th>\n",
       "      <th>runtime</th>\n",
       "      <th>genres</th>\n",
       "      <th>production_countries</th>\n",
       "      <th>seasons</th>\n",
       "      <th>imdb_id</th>\n",
       "      <th>imdb_score</th>\n",
       "      <th>imdb_votes</th>\n",
       "      <th>tmdb_popularity</th>\n",
       "      <th>tmdb_score</th>\n",
       "    </tr>\n",
       "  </thead>\n",
       "  <tbody>\n",
       "    <tr>\n",
       "      <th>1111</th>\n",
       "      <td>ts271005</td>\n",
       "      <td>е№ёз¦Џж–™зђ†</td>\n",
       "      <td>SHOW</td>\n",
       "      <td>NaN</td>\n",
       "      <td>2014.0</td>\n",
       "      <td>TV-14</td>\n",
       "      <td>44.0</td>\n",
       "      <td>[]</td>\n",
       "      <td>[]</td>\n",
       "      <td>1.0</td>\n",
       "      <td>NaN</td>\n",
       "      <td>NaN</td>\n",
       "      <td>NaN</td>\n",
       "      <td>0.60</td>\n",
       "      <td>NaN</td>\n",
       "    </tr>\n",
       "    <tr>\n",
       "      <th>1114</th>\n",
       "      <td>tm681614</td>\n",
       "      <td>Grandmother's Farm</td>\n",
       "      <td>MOVIE</td>\n",
       "      <td>NaN</td>\n",
       "      <td>2013.0</td>\n",
       "      <td>NaN</td>\n",
       "      <td>71.0</td>\n",
       "      <td>['comedy', 'horror']</td>\n",
       "      <td>[]</td>\n",
       "      <td>NaN</td>\n",
       "      <td>tt10033686</td>\n",
       "      <td>2.9</td>\n",
       "      <td>78.0</td>\n",
       "      <td>NaN</td>\n",
       "      <td>NaN</td>\n",
       "    </tr>\n",
       "    <tr>\n",
       "      <th>1704</th>\n",
       "      <td>tm1063792</td>\n",
       "      <td>NaN</td>\n",
       "      <td>MOVIE</td>\n",
       "      <td>NaN</td>\n",
       "      <td>2015.0</td>\n",
       "      <td>NaN</td>\n",
       "      <td>11.0</td>\n",
       "      <td>[]</td>\n",
       "      <td>[]</td>\n",
       "      <td>NaN</td>\n",
       "      <td>tt4661188</td>\n",
       "      <td>NaN</td>\n",
       "      <td>NaN</td>\n",
       "      <td>NaN</td>\n",
       "      <td>NaN</td>\n",
       "    </tr>\n",
       "    <tr>\n",
       "      <th>2105</th>\n",
       "      <td>ts82770</td>\n",
       "      <td>CamarГіn Revolution</td>\n",
       "      <td>SHOW</td>\n",
       "      <td>NaN</td>\n",
       "      <td>2018.0</td>\n",
       "      <td>TV-14</td>\n",
       "      <td>52.0</td>\n",
       "      <td>['documentation', 'reality']</td>\n",
       "      <td>['ES']</td>\n",
       "      <td>1.0</td>\n",
       "      <td>NaN</td>\n",
       "      <td>NaN</td>\n",
       "      <td>NaN</td>\n",
       "      <td>1.29</td>\n",
       "      <td>7.0</td>\n",
       "    </tr>\n",
       "    <tr>\n",
       "      <th>2189</th>\n",
       "      <td>ts82375</td>\n",
       "      <td>Beyblade Burst Turbo</td>\n",
       "      <td>SHOW</td>\n",
       "      <td>NaN</td>\n",
       "      <td>2018.0</td>\n",
       "      <td>TV-Y7</td>\n",
       "      <td>22.0</td>\n",
       "      <td>['scifi', 'action']</td>\n",
       "      <td>['JP']</td>\n",
       "      <td>1.0</td>\n",
       "      <td>NaN</td>\n",
       "      <td>NaN</td>\n",
       "      <td>NaN</td>\n",
       "      <td>0.60</td>\n",
       "      <td>0.5</td>\n",
       "    </tr>\n",
       "    <tr>\n",
       "      <th>2485</th>\n",
       "      <td>ts268283</td>\n",
       "      <td>RIDE ON TIME</td>\n",
       "      <td>SHOW</td>\n",
       "      <td>NaN</td>\n",
       "      <td>2018.0</td>\n",
       "      <td>TV-PG</td>\n",
       "      <td>22.0</td>\n",
       "      <td>[]</td>\n",
       "      <td>['JP']</td>\n",
       "      <td>3.0</td>\n",
       "      <td>NaN</td>\n",
       "      <td>NaN</td>\n",
       "      <td>NaN</td>\n",
       "      <td>1.33</td>\n",
       "      <td>NaN</td>\n",
       "    </tr>\n",
       "    <tr>\n",
       "      <th>2754</th>\n",
       "      <td>ts106612</td>\n",
       "      <td>Chicken Soup for the Soul's Being Dad</td>\n",
       "      <td>SHOW</td>\n",
       "      <td>NaN</td>\n",
       "      <td>2018.0</td>\n",
       "      <td>TV-PG</td>\n",
       "      <td>40.0</td>\n",
       "      <td>['reality']</td>\n",
       "      <td>[]</td>\n",
       "      <td>1.0</td>\n",
       "      <td>tt8908110</td>\n",
       "      <td>NaN</td>\n",
       "      <td>NaN</td>\n",
       "      <td>NaN</td>\n",
       "      <td>NaN</td>\n",
       "    </tr>\n",
       "    <tr>\n",
       "      <th>2798</th>\n",
       "      <td>tm407349</td>\n",
       "      <td>The Birth Reborn 2</td>\n",
       "      <td>MOVIE</td>\n",
       "      <td>NaN</td>\n",
       "      <td>2018.0</td>\n",
       "      <td>PG</td>\n",
       "      <td>91.0</td>\n",
       "      <td>['documentation']</td>\n",
       "      <td>['BR']</td>\n",
       "      <td>NaN</td>\n",
       "      <td>tt16114198</td>\n",
       "      <td>6.6</td>\n",
       "      <td>5.0</td>\n",
       "      <td>1.40</td>\n",
       "      <td>5.8</td>\n",
       "    </tr>\n",
       "    <tr>\n",
       "      <th>3700</th>\n",
       "      <td>ts312044</td>\n",
       "      <td>Beyblade Burst Surge</td>\n",
       "      <td>SHOW</td>\n",
       "      <td>NaN</td>\n",
       "      <td>2020.0</td>\n",
       "      <td>TV-Y</td>\n",
       "      <td>23.0</td>\n",
       "      <td>['animation']</td>\n",
       "      <td>['JP']</td>\n",
       "      <td>1.0</td>\n",
       "      <td>tt18554728</td>\n",
       "      <td>8.3</td>\n",
       "      <td>30.0</td>\n",
       "      <td>7.50</td>\n",
       "      <td>9.7</td>\n",
       "    </tr>\n",
       "    <tr>\n",
       "      <th>4110</th>\n",
       "      <td>ts223062</td>\n",
       "      <td>аё›аёЈаёґаёЁаё™аёІаёҐа№€аёІаё‚а№‰аёІаёЎа№Ђаё§а...</td>\n",
       "      <td>SHOW</td>\n",
       "      <td>NaN</td>\n",
       "      <td>2019.0</td>\n",
       "      <td>TV-14</td>\n",
       "      <td>60.0</td>\n",
       "      <td>[]</td>\n",
       "      <td>['TH']</td>\n",
       "      <td>1.0</td>\n",
       "      <td>NaN</td>\n",
       "      <td>NaN</td>\n",
       "      <td>NaN</td>\n",
       "      <td>1.47</td>\n",
       "      <td>7.0</td>\n",
       "    </tr>\n",
       "    <tr>\n",
       "      <th>4274</th>\n",
       "      <td>tm1172010</td>\n",
       "      <td>The Lockdown Plan</td>\n",
       "      <td>MOVIE</td>\n",
       "      <td>NaN</td>\n",
       "      <td>2020.0</td>\n",
       "      <td>NaN</td>\n",
       "      <td>49.0</td>\n",
       "      <td>[]</td>\n",
       "      <td>[]</td>\n",
       "      <td>NaN</td>\n",
       "      <td>tt13079112</td>\n",
       "      <td>6.5</td>\n",
       "      <td>NaN</td>\n",
       "      <td>NaN</td>\n",
       "      <td>NaN</td>\n",
       "    </tr>\n",
       "    <tr>\n",
       "      <th>4358</th>\n",
       "      <td>ts255867</td>\n",
       "      <td>лЅЂлЎњлЎњ лЏ™н™”л‚лќј</td>\n",
       "      <td>SHOW</td>\n",
       "      <td>NaN</td>\n",
       "      <td>2020.0</td>\n",
       "      <td>TV-Y</td>\n",
       "      <td>14.0</td>\n",
       "      <td>['animation']</td>\n",
       "      <td>['KR']</td>\n",
       "      <td>1.0</td>\n",
       "      <td>NaN</td>\n",
       "      <td>NaN</td>\n",
       "      <td>NaN</td>\n",
       "      <td>0.60</td>\n",
       "      <td>NaN</td>\n",
       "    </tr>\n",
       "    <tr>\n",
       "      <th>4552</th>\n",
       "      <td>tm896976</td>\n",
       "      <td>True: Rainbow Rescue</td>\n",
       "      <td>MOVIE</td>\n",
       "      <td>NaN</td>\n",
       "      <td>2020.0</td>\n",
       "      <td>NaN</td>\n",
       "      <td>23.0</td>\n",
       "      <td>['animation']</td>\n",
       "      <td>['US']</td>\n",
       "      <td>NaN</td>\n",
       "      <td>NaN</td>\n",
       "      <td>NaN</td>\n",
       "      <td>NaN</td>\n",
       "      <td>2.41</td>\n",
       "      <td>10.0</td>\n",
       "    </tr>\n",
       "    <tr>\n",
       "      <th>4581</th>\n",
       "      <td>tm840152</td>\n",
       "      <td>Amsterdam to Anatolia</td>\n",
       "      <td>MOVIE</td>\n",
       "      <td>NaN</td>\n",
       "      <td>2019.0</td>\n",
       "      <td>NaN</td>\n",
       "      <td>6.0</td>\n",
       "      <td>['thriller', 'drama']</td>\n",
       "      <td>['NL', 'PS', 'US', 'LB']</td>\n",
       "      <td>NaN</td>\n",
       "      <td>NaN</td>\n",
       "      <td>NaN</td>\n",
       "      <td>NaN</td>\n",
       "      <td>1.02</td>\n",
       "      <td>6.0</td>\n",
       "    </tr>\n",
       "    <tr>\n",
       "      <th>4606</th>\n",
       "      <td>tm855232</td>\n",
       "      <td>Luccas Neto in: The End of Christmas</td>\n",
       "      <td>MOVIE</td>\n",
       "      <td>NaN</td>\n",
       "      <td>2019.0</td>\n",
       "      <td>NaN</td>\n",
       "      <td>71.0</td>\n",
       "      <td>[]</td>\n",
       "      <td>[]</td>\n",
       "      <td>NaN</td>\n",
       "      <td>NaN</td>\n",
       "      <td>NaN</td>\n",
       "      <td>NaN</td>\n",
       "      <td>1.60</td>\n",
       "      <td>7.8</td>\n",
       "    </tr>\n",
       "    <tr>\n",
       "      <th>4668</th>\n",
       "      <td>tm902993</td>\n",
       "      <td>Mama Drama</td>\n",
       "      <td>MOVIE</td>\n",
       "      <td>NaN</td>\n",
       "      <td>2020.0</td>\n",
       "      <td>NaN</td>\n",
       "      <td>85.0</td>\n",
       "      <td>['drama']</td>\n",
       "      <td>['US']</td>\n",
       "      <td>NaN</td>\n",
       "      <td>tt12424356</td>\n",
       "      <td>6.3</td>\n",
       "      <td>8.0</td>\n",
       "      <td>NaN</td>\n",
       "      <td>NaN</td>\n",
       "    </tr>\n",
       "    <tr>\n",
       "      <th>4675</th>\n",
       "      <td>ts304136</td>\n",
       "      <td>л§€лІ•лІ„мЉ¤ нѓЂмљ”</td>\n",
       "      <td>SHOW</td>\n",
       "      <td>NaN</td>\n",
       "      <td>2020.0</td>\n",
       "      <td>TV-Y7</td>\n",
       "      <td>24.0</td>\n",
       "      <td>[]</td>\n",
       "      <td>['KR']</td>\n",
       "      <td>1.0</td>\n",
       "      <td>NaN</td>\n",
       "      <td>NaN</td>\n",
       "      <td>NaN</td>\n",
       "      <td>0.60</td>\n",
       "      <td>NaN</td>\n",
       "    </tr>\n",
       "    <tr>\n",
       "      <th>5483</th>\n",
       "      <td>tm1237253</td>\n",
       "      <td>My Little Pony: A New Generation: Sing-Along</td>\n",
       "      <td>MOVIE</td>\n",
       "      <td>NaN</td>\n",
       "      <td>2022.0</td>\n",
       "      <td>NaN</td>\n",
       "      <td>90.0</td>\n",
       "      <td>[]</td>\n",
       "      <td>[]</td>\n",
       "      <td>NaN</td>\n",
       "      <td>NaN</td>\n",
       "      <td>NaN</td>\n",
       "      <td>NaN</td>\n",
       "      <td>NaN</td>\n",
       "      <td>NaN</td>\n",
       "    </tr>\n",
       "  </tbody>\n",
       "</table>\n",
       "</div>"
      ],
      "text/plain": [
       "             id                                              title   type  \\\n",
       "1111   ts271005                                       е№ёз¦Џж–™зђ†   SHOW   \n",
       "1114   tm681614                                 Grandmother's Farm  MOVIE   \n",
       "1704  tm1063792                                                NaN  MOVIE   \n",
       "2105    ts82770                                CamarГіn Revolution   SHOW   \n",
       "2189    ts82375                               Beyblade Burst Turbo   SHOW   \n",
       "2485   ts268283                                       RIDE ON TIME   SHOW   \n",
       "2754   ts106612              Chicken Soup for the Soul's Being Dad   SHOW   \n",
       "2798   tm407349                                 The Birth Reborn 2  MOVIE   \n",
       "3700   ts312044                               Beyblade Burst Surge   SHOW   \n",
       "4110   ts223062  аё›аёЈаёґаёЁаё™аёІаёҐа№€аёІаё‚а№‰аёІаёЎа№Ђаё§а...   SHOW   \n",
       "4274  tm1172010                                  The Lockdown Plan  MOVIE   \n",
       "4358   ts255867                             лЅЂлЎњлЎњ лЏ™н™”л‚лќј   SHOW   \n",
       "4552   tm896976                               True: Rainbow Rescue  MOVIE   \n",
       "4581   tm840152                              Amsterdam to Anatolia  MOVIE   \n",
       "4606   tm855232               Luccas Neto in: The End of Christmas  MOVIE   \n",
       "4668   tm902993                                         Mama Drama  MOVIE   \n",
       "4675   ts304136                                л§€лІ•лІ„мЉ¤ нѓЂмљ”   SHOW   \n",
       "5483  tm1237253       My Little Pony: A New Generation: Sing-Along  MOVIE   \n",
       "\n",
       "     description  release_year age_certification  runtime  \\\n",
       "1111         NaN        2014.0             TV-14     44.0   \n",
       "1114         NaN        2013.0               NaN     71.0   \n",
       "1704         NaN        2015.0               NaN     11.0   \n",
       "2105         NaN        2018.0             TV-14     52.0   \n",
       "2189         NaN        2018.0             TV-Y7     22.0   \n",
       "2485         NaN        2018.0             TV-PG     22.0   \n",
       "2754         NaN        2018.0             TV-PG     40.0   \n",
       "2798         NaN        2018.0                PG     91.0   \n",
       "3700         NaN        2020.0              TV-Y     23.0   \n",
       "4110         NaN        2019.0             TV-14     60.0   \n",
       "4274         NaN        2020.0               NaN     49.0   \n",
       "4358         NaN        2020.0              TV-Y     14.0   \n",
       "4552         NaN        2020.0               NaN     23.0   \n",
       "4581         NaN        2019.0               NaN      6.0   \n",
       "4606         NaN        2019.0               NaN     71.0   \n",
       "4668         NaN        2020.0               NaN     85.0   \n",
       "4675         NaN        2020.0             TV-Y7     24.0   \n",
       "5483         NaN        2022.0               NaN     90.0   \n",
       "\n",
       "                            genres      production_countries  seasons  \\\n",
       "1111                            []                        []      1.0   \n",
       "1114          ['comedy', 'horror']                        []      NaN   \n",
       "1704                            []                        []      NaN   \n",
       "2105  ['documentation', 'reality']                    ['ES']      1.0   \n",
       "2189           ['scifi', 'action']                    ['JP']      1.0   \n",
       "2485                            []                    ['JP']      3.0   \n",
       "2754                   ['reality']                        []      1.0   \n",
       "2798             ['documentation']                    ['BR']      NaN   \n",
       "3700                 ['animation']                    ['JP']      1.0   \n",
       "4110                            []                    ['TH']      1.0   \n",
       "4274                            []                        []      NaN   \n",
       "4358                 ['animation']                    ['KR']      1.0   \n",
       "4552                 ['animation']                    ['US']      NaN   \n",
       "4581         ['thriller', 'drama']  ['NL', 'PS', 'US', 'LB']      NaN   \n",
       "4606                            []                        []      NaN   \n",
       "4668                     ['drama']                    ['US']      NaN   \n",
       "4675                            []                    ['KR']      1.0   \n",
       "5483                            []                        []      NaN   \n",
       "\n",
       "         imdb_id  imdb_score  imdb_votes  tmdb_popularity  tmdb_score  \n",
       "1111         NaN         NaN         NaN             0.60         NaN  \n",
       "1114  tt10033686         2.9        78.0              NaN         NaN  \n",
       "1704   tt4661188         NaN         NaN              NaN         NaN  \n",
       "2105         NaN         NaN         NaN             1.29         7.0  \n",
       "2189         NaN         NaN         NaN             0.60         0.5  \n",
       "2485         NaN         NaN         NaN             1.33         NaN  \n",
       "2754   tt8908110         NaN         NaN              NaN         NaN  \n",
       "2798  tt16114198         6.6         5.0             1.40         5.8  \n",
       "3700  tt18554728         8.3        30.0             7.50         9.7  \n",
       "4110         NaN         NaN         NaN             1.47         7.0  \n",
       "4274  tt13079112         6.5         NaN              NaN         NaN  \n",
       "4358         NaN         NaN         NaN             0.60         NaN  \n",
       "4552         NaN         NaN         NaN             2.41        10.0  \n",
       "4581         NaN         NaN         NaN             1.02         6.0  \n",
       "4606         NaN         NaN         NaN             1.60         7.8  \n",
       "4668  tt12424356         6.3         8.0              NaN         NaN  \n",
       "4675         NaN         NaN         NaN             0.60         NaN  \n",
       "5483         NaN         NaN         NaN              NaN         NaN  "
      ]
     },
     "execution_count": 32,
     "metadata": {},
     "output_type": "execute_result"
    }
   ],
   "source": [
    "films[films['description'].isna()]"
   ]
  },
  {
   "cell_type": "markdown",
   "id": "d2ab4a3e",
   "metadata": {},
   "source": [
    "Удалим данные строки, тк в этих 19 строчках значительная часть данных пропущена и их удаления не повлияет на исследование"
   ]
  },
  {
   "cell_type": "code",
   "execution_count": 33,
   "id": "bf319a4c",
   "metadata": {},
   "outputs": [],
   "source": [
    "films.dropna(subset=['title', 'description'], inplace=True)"
   ]
  },
  {
   "cell_type": "code",
   "execution_count": 34,
   "id": "aa21d232",
   "metadata": {},
   "outputs": [
    {
     "data": {
      "text/plain": [
       "id                         0\n",
       "title                      0\n",
       "type                       0\n",
       "description                0\n",
       "release_year               0\n",
       "age_certification       2611\n",
       "runtime                    0\n",
       "genres                     0\n",
       "production_countries       0\n",
       "seasons                 3735\n",
       "imdb_id                  392\n",
       "imdb_score               469\n",
       "imdb_votes               484\n",
       "tmdb_popularity           85\n",
       "tmdb_score               301\n",
       "dtype: int64"
      ]
     },
     "execution_count": 34,
     "metadata": {},
     "output_type": "execute_result"
    }
   ],
   "source": [
    "films.isna().sum()"
   ]
  },
  {
   "cell_type": "markdown",
   "id": "46bf3137",
   "metadata": {},
   "source": [
    "**Вывод**\n",
    "\n",
    "Мы удалили строки с пропусками в столбцах `title` и `description`, тк их было статистически незначительное число.\n",
    "\n",
    "Оставшиеся пропуски трогать не будем, тк по столбцу `seasons` пропуски объясняются тем, что у фильмов нет сезонов, а они есть только у сериалов, а остальные пропуски объясняются отсуствием рейтинов IMDB/TMDB и отсутсвтием возрастной категории фильма/сериала."
   ]
  },
  {
   "cell_type": "markdown",
   "id": "45a724f9",
   "metadata": {},
   "source": [
    "### Преобразуем столбецы жанра и страны производителя"
   ]
  },
  {
   "cell_type": "markdown",
   "id": "bba0ee98",
   "metadata": {},
   "source": [
    "Для исследования и построения графиков нам нужно понимать к какому жанру относятся фильмы/сериалы, но в столбце к одному фильму/сериалу может относиться несколько жанров"
   ]
  },
  {
   "cell_type": "code",
   "execution_count": 35,
   "id": "ad2c576f",
   "metadata": {},
   "outputs": [
    {
     "data": {
      "text/plain": [
       "['comedy']                                                       484\n",
       "['documentation']                                                328\n",
       "['drama']                                                        327\n",
       "['comedy', 'drama']                                              135\n",
       "['drama', 'romance']                                             124\n",
       "                                                                ... \n",
       "['drama', 'war', 'action', 'thriller', 'history', 'european']      1\n",
       "['thriller', 'crime', 'drama', 'western']                          1\n",
       "['drama', 'scifi', 'fantasy', 'horror']                            1\n",
       "['horror', 'fantasy', 'thriller']                                  1\n",
       "['documentation', 'music', 'reality']                              1\n",
       "Name: genres, Length: 1726, dtype: int64"
      ]
     },
     "execution_count": 35,
     "metadata": {},
     "output_type": "execute_result"
    }
   ],
   "source": [
    "films['genres'].value_counts()"
   ]
  },
  {
   "cell_type": "markdown",
   "id": "c3dc1d7d",
   "metadata": {},
   "source": [
    "Напишем функцию, чтобы оставить один тип жанра на каждом фильме и сериале"
   ]
  },
  {
   "cell_type": "code",
   "execution_count": 36,
   "id": "badb65a1",
   "metadata": {},
   "outputs": [],
   "source": [
    "def column_category(column):\n",
    "    column_list = ast.literal_eval(column)\n",
    "    if len(column_list) == 0:\n",
    "        return np.nan\n",
    "    elif len(column_list) == 1:\n",
    "        return column_list[0]\n",
    "    else:\n",
    "        return random.choice(column_list)"
   ]
  },
  {
   "cell_type": "markdown",
   "id": "0c1e93fe",
   "metadata": {},
   "source": [
    "Присвоим каждому фильму и сериалу только один вид жанра и посмотрим какие жанры получились"
   ]
  },
  {
   "cell_type": "code",
   "execution_count": 37,
   "id": "1aa02e1f",
   "metadata": {},
   "outputs": [
    {
     "data": {
      "text/plain": [
       "drama            1234\n",
       "comedy           1147\n",
       "documentation     594\n",
       "thriller          387\n",
       "romance           339\n",
       "action            318\n",
       "crime             307\n",
       "animation         229\n",
       "family            214\n",
       "reality           157\n",
       "scifi             148\n",
       "fantasy           140\n",
       "horror            131\n",
       "european          125\n",
       "music             108\n",
       "history            69\n",
       "sport              66\n",
       "war                50\n",
       "western            18\n",
       "Name: genres, dtype: int64"
      ]
     },
     "execution_count": 37,
     "metadata": {},
     "output_type": "execute_result"
    }
   ],
   "source": [
    "films['genres'] = films['genres'].apply(column_category)\n",
    "films['genres'].value_counts()"
   ]
  },
  {
   "cell_type": "markdown",
   "id": "82c671d9",
   "metadata": {},
   "source": [
    "Присвоим каждому фильму и сериалу страну производителя"
   ]
  },
  {
   "cell_type": "code",
   "execution_count": 38,
   "id": "0a5aa82b",
   "metadata": {},
   "outputs": [
    {
     "data": {
      "text/plain": [
       "US    2105\n",
       "IN     611\n",
       "GB     308\n",
       "JP     271\n",
       "KR     222\n",
       "      ... \n",
       "BY       1\n",
       "HR       1\n",
       "IQ       1\n",
       "SY       1\n",
       "FO       1\n",
       "Name: production_countries, Length: 92, dtype: int64"
      ]
     },
     "execution_count": 38,
     "metadata": {},
     "output_type": "execute_result"
    }
   ],
   "source": [
    "films['production_countries'] = films['production_countries'].apply(column_category)\n",
    "films['production_countries'].value_counts()"
   ]
  },
  {
   "cell_type": "markdown",
   "id": "4a38d4ad",
   "metadata": {},
   "source": [
    "Теперь посмотрим данные по преобразованному датафрейму"
   ]
  },
  {
   "cell_type": "code",
   "execution_count": 39,
   "id": "f44c7b7c",
   "metadata": {},
   "outputs": [
    {
     "name": "stdout",
     "output_type": "stream",
     "text": [
      "\n",
      "Первые 5 строчек датафрейма\n"
     ]
    },
    {
     "data": {
      "text/html": [
       "<div>\n",
       "<style scoped>\n",
       "    .dataframe tbody tr th:only-of-type {\n",
       "        vertical-align: middle;\n",
       "    }\n",
       "\n",
       "    .dataframe tbody tr th {\n",
       "        vertical-align: top;\n",
       "    }\n",
       "\n",
       "    .dataframe thead th {\n",
       "        text-align: right;\n",
       "    }\n",
       "</style>\n",
       "<table border=\"1\" class=\"dataframe\">\n",
       "  <thead>\n",
       "    <tr style=\"text-align: right;\">\n",
       "      <th></th>\n",
       "      <th>id</th>\n",
       "      <th>title</th>\n",
       "      <th>type</th>\n",
       "      <th>description</th>\n",
       "      <th>release_year</th>\n",
       "      <th>age_certification</th>\n",
       "      <th>runtime</th>\n",
       "      <th>genres</th>\n",
       "      <th>production_countries</th>\n",
       "      <th>seasons</th>\n",
       "      <th>imdb_id</th>\n",
       "      <th>imdb_score</th>\n",
       "      <th>imdb_votes</th>\n",
       "      <th>tmdb_popularity</th>\n",
       "      <th>tmdb_score</th>\n",
       "    </tr>\n",
       "  </thead>\n",
       "  <tbody>\n",
       "    <tr>\n",
       "      <th>0</th>\n",
       "      <td>ts300399</td>\n",
       "      <td>Five Came Back: The Reference Films</td>\n",
       "      <td>SHOW</td>\n",
       "      <td>This collection includes 12 World War II-era p...</td>\n",
       "      <td>1945.0</td>\n",
       "      <td>TV-MA</td>\n",
       "      <td>51.0</td>\n",
       "      <td>documentation</td>\n",
       "      <td>US</td>\n",
       "      <td>1.0</td>\n",
       "      <td>NaN</td>\n",
       "      <td>NaN</td>\n",
       "      <td>NaN</td>\n",
       "      <td>0.60</td>\n",
       "      <td>NaN</td>\n",
       "    </tr>\n",
       "    <tr>\n",
       "      <th>1</th>\n",
       "      <td>tm84618</td>\n",
       "      <td>Taxi Driver</td>\n",
       "      <td>MOVIE</td>\n",
       "      <td>A mentally unstable Vietnam War veteran works ...</td>\n",
       "      <td>1976.0</td>\n",
       "      <td>R</td>\n",
       "      <td>114.0</td>\n",
       "      <td>crime</td>\n",
       "      <td>US</td>\n",
       "      <td>NaN</td>\n",
       "      <td>tt0075314</td>\n",
       "      <td>8.2</td>\n",
       "      <td>808582.0</td>\n",
       "      <td>40.97</td>\n",
       "      <td>8.18</td>\n",
       "    </tr>\n",
       "    <tr>\n",
       "      <th>2</th>\n",
       "      <td>tm154986</td>\n",
       "      <td>Deliverance</td>\n",
       "      <td>MOVIE</td>\n",
       "      <td>Intent on seeing the Cahulawassee River before...</td>\n",
       "      <td>1972.0</td>\n",
       "      <td>R</td>\n",
       "      <td>109.0</td>\n",
       "      <td>drama</td>\n",
       "      <td>US</td>\n",
       "      <td>NaN</td>\n",
       "      <td>tt0068473</td>\n",
       "      <td>7.7</td>\n",
       "      <td>107673.0</td>\n",
       "      <td>10.01</td>\n",
       "      <td>7.30</td>\n",
       "    </tr>\n",
       "    <tr>\n",
       "      <th>3</th>\n",
       "      <td>tm127384</td>\n",
       "      <td>Monty Python and the Holy Grail</td>\n",
       "      <td>MOVIE</td>\n",
       "      <td>King Arthur, accompanied by his squire, recrui...</td>\n",
       "      <td>1975.0</td>\n",
       "      <td>PG</td>\n",
       "      <td>91.0</td>\n",
       "      <td>comedy</td>\n",
       "      <td>GB</td>\n",
       "      <td>NaN</td>\n",
       "      <td>tt0071853</td>\n",
       "      <td>8.2</td>\n",
       "      <td>534486.0</td>\n",
       "      <td>15.46</td>\n",
       "      <td>7.81</td>\n",
       "    </tr>\n",
       "    <tr>\n",
       "      <th>4</th>\n",
       "      <td>tm120801</td>\n",
       "      <td>The Dirty Dozen</td>\n",
       "      <td>MOVIE</td>\n",
       "      <td>12 American military prisoners in World War II...</td>\n",
       "      <td>1967.0</td>\n",
       "      <td>NaN</td>\n",
       "      <td>150.0</td>\n",
       "      <td>action</td>\n",
       "      <td>US</td>\n",
       "      <td>NaN</td>\n",
       "      <td>tt0061578</td>\n",
       "      <td>7.7</td>\n",
       "      <td>72662.0</td>\n",
       "      <td>20.40</td>\n",
       "      <td>7.60</td>\n",
       "    </tr>\n",
       "  </tbody>\n",
       "</table>\n",
       "</div>"
      ],
      "text/plain": [
       "         id                                title   type  \\\n",
       "0  ts300399  Five Came Back: The Reference Films   SHOW   \n",
       "1   tm84618                          Taxi Driver  MOVIE   \n",
       "2  tm154986                          Deliverance  MOVIE   \n",
       "3  tm127384      Monty Python and the Holy Grail  MOVIE   \n",
       "4  tm120801                      The Dirty Dozen  MOVIE   \n",
       "\n",
       "                                         description  release_year  \\\n",
       "0  This collection includes 12 World War II-era p...        1945.0   \n",
       "1  A mentally unstable Vietnam War veteran works ...        1976.0   \n",
       "2  Intent on seeing the Cahulawassee River before...        1972.0   \n",
       "3  King Arthur, accompanied by his squire, recrui...        1975.0   \n",
       "4  12 American military prisoners in World War II...        1967.0   \n",
       "\n",
       "  age_certification  runtime         genres production_countries  seasons  \\\n",
       "0             TV-MA     51.0  documentation                   US      1.0   \n",
       "1                 R    114.0          crime                   US      NaN   \n",
       "2                 R    109.0          drama                   US      NaN   \n",
       "3                PG     91.0         comedy                   GB      NaN   \n",
       "4               NaN    150.0         action                   US      NaN   \n",
       "\n",
       "     imdb_id  imdb_score  imdb_votes  tmdb_popularity  tmdb_score  \n",
       "0        NaN         NaN         NaN             0.60         NaN  \n",
       "1  tt0075314         8.2    808582.0            40.97        8.18  \n",
       "2  tt0068473         7.7    107673.0            10.01        7.30  \n",
       "3  tt0071853         8.2    534486.0            15.46        7.81  \n",
       "4  tt0061578         7.7     72662.0            20.40        7.60  "
      ]
     },
     "metadata": {},
     "output_type": "display_data"
    },
    {
     "name": "stdout",
     "output_type": "stream",
     "text": [
      "\n",
      "Информация о датафрейме\n",
      "\n",
      "<class 'pandas.core.frame.DataFrame'>\n",
      "Int64Index: 5832 entries, 0 to 5849\n",
      "Data columns (total 15 columns):\n",
      " #   Column                Non-Null Count  Dtype  \n",
      "---  ------                --------------  -----  \n",
      " 0   id                    5832 non-null   object \n",
      " 1   title                 5832 non-null   object \n",
      " 2   type                  5832 non-null   object \n",
      " 3   description           5832 non-null   object \n",
      " 4   release_year          5832 non-null   float64\n",
      " 5   age_certification     3221 non-null   object \n",
      " 6   runtime               5832 non-null   float64\n",
      " 7   genres                5781 non-null   object \n",
      " 8   production_countries  5610 non-null   object \n",
      " 9   seasons               2097 non-null   float64\n",
      " 10  imdb_id               5440 non-null   object \n",
      " 11  imdb_score            5363 non-null   float64\n",
      " 12  imdb_votes            5348 non-null   float64\n",
      " 13  tmdb_popularity       5747 non-null   float64\n",
      " 14  tmdb_score            5531 non-null   float64\n",
      "dtypes: float64(7), object(8)\n",
      "memory usage: 729.0+ KB\n"
     ]
    },
    {
     "data": {
      "text/plain": [
       "None"
      ]
     },
     "metadata": {},
     "output_type": "display_data"
    },
    {
     "name": "stdout",
     "output_type": "stream",
     "text": [
      "\n",
      "Расчёт значений в каждом столбце\n"
     ]
    },
    {
     "data": {
      "text/html": [
       "<div>\n",
       "<style scoped>\n",
       "    .dataframe tbody tr th:only-of-type {\n",
       "        vertical-align: middle;\n",
       "    }\n",
       "\n",
       "    .dataframe tbody tr th {\n",
       "        vertical-align: top;\n",
       "    }\n",
       "\n",
       "    .dataframe thead th {\n",
       "        text-align: right;\n",
       "    }\n",
       "</style>\n",
       "<table border=\"1\" class=\"dataframe\">\n",
       "  <thead>\n",
       "    <tr style=\"text-align: right;\">\n",
       "      <th></th>\n",
       "      <th>release_year</th>\n",
       "      <th>runtime</th>\n",
       "      <th>seasons</th>\n",
       "      <th>imdb_score</th>\n",
       "      <th>imdb_votes</th>\n",
       "      <th>tmdb_popularity</th>\n",
       "      <th>tmdb_score</th>\n",
       "    </tr>\n",
       "  </thead>\n",
       "  <tbody>\n",
       "    <tr>\n",
       "      <th>count</th>\n",
       "      <td>5832.000000</td>\n",
       "      <td>5832.000000</td>\n",
       "      <td>2097.000000</td>\n",
       "      <td>5363.000000</td>\n",
       "      <td>5.348000e+03</td>\n",
       "      <td>5747.000000</td>\n",
       "      <td>5531.000000</td>\n",
       "    </tr>\n",
       "    <tr>\n",
       "      <th>mean</th>\n",
       "      <td>2016.411008</td>\n",
       "      <td>76.989369</td>\n",
       "      <td>2.166905</td>\n",
       "      <td>6.511225</td>\n",
       "      <td>2.345689e+04</td>\n",
       "      <td>22.682128</td>\n",
       "      <td>6.829344</td>\n",
       "    </tr>\n",
       "    <tr>\n",
       "      <th>std</th>\n",
       "      <td>6.946445</td>\n",
       "      <td>38.990941</td>\n",
       "      <td>2.693786</td>\n",
       "      <td>1.163063</td>\n",
       "      <td>9.585417e+04</td>\n",
       "      <td>81.759818</td>\n",
       "      <td>1.166502</td>\n",
       "    </tr>\n",
       "    <tr>\n",
       "      <th>min</th>\n",
       "      <td>1945.000000</td>\n",
       "      <td>0.000000</td>\n",
       "      <td>1.000000</td>\n",
       "      <td>1.500000</td>\n",
       "      <td>5.000000e+00</td>\n",
       "      <td>0.010000</td>\n",
       "      <td>1.000000</td>\n",
       "    </tr>\n",
       "    <tr>\n",
       "      <th>25%</th>\n",
       "      <td>2016.000000</td>\n",
       "      <td>44.000000</td>\n",
       "      <td>1.000000</td>\n",
       "      <td>5.800000</td>\n",
       "      <td>5.180000e+02</td>\n",
       "      <td>2.740000</td>\n",
       "      <td>6.100000</td>\n",
       "    </tr>\n",
       "    <tr>\n",
       "      <th>50%</th>\n",
       "      <td>2018.000000</td>\n",
       "      <td>83.000000</td>\n",
       "      <td>1.000000</td>\n",
       "      <td>6.600000</td>\n",
       "      <td>2.238500e+03</td>\n",
       "      <td>6.830000</td>\n",
       "      <td>6.900000</td>\n",
       "    </tr>\n",
       "    <tr>\n",
       "      <th>75%</th>\n",
       "      <td>2020.000000</td>\n",
       "      <td>105.000000</td>\n",
       "      <td>2.000000</td>\n",
       "      <td>7.300000</td>\n",
       "      <td>9.500250e+03</td>\n",
       "      <td>16.645000</td>\n",
       "      <td>7.525000</td>\n",
       "    </tr>\n",
       "    <tr>\n",
       "      <th>max</th>\n",
       "      <td>2022.000000</td>\n",
       "      <td>240.000000</td>\n",
       "      <td>42.000000</td>\n",
       "      <td>9.600000</td>\n",
       "      <td>2.294231e+06</td>\n",
       "      <td>2274.040000</td>\n",
       "      <td>10.000000</td>\n",
       "    </tr>\n",
       "  </tbody>\n",
       "</table>\n",
       "</div>"
      ],
      "text/plain": [
       "       release_year      runtime      seasons   imdb_score    imdb_votes  \\\n",
       "count   5832.000000  5832.000000  2097.000000  5363.000000  5.348000e+03   \n",
       "mean    2016.411008    76.989369     2.166905     6.511225  2.345689e+04   \n",
       "std        6.946445    38.990941     2.693786     1.163063  9.585417e+04   \n",
       "min     1945.000000     0.000000     1.000000     1.500000  5.000000e+00   \n",
       "25%     2016.000000    44.000000     1.000000     5.800000  5.180000e+02   \n",
       "50%     2018.000000    83.000000     1.000000     6.600000  2.238500e+03   \n",
       "75%     2020.000000   105.000000     2.000000     7.300000  9.500250e+03   \n",
       "max     2022.000000   240.000000    42.000000     9.600000  2.294231e+06   \n",
       "\n",
       "       tmdb_popularity   tmdb_score  \n",
       "count      5747.000000  5531.000000  \n",
       "mean         22.682128     6.829344  \n",
       "std          81.759818     1.166502  \n",
       "min           0.010000     1.000000  \n",
       "25%           2.740000     6.100000  \n",
       "50%           6.830000     6.900000  \n",
       "75%          16.645000     7.525000  \n",
       "max        2274.040000    10.000000  "
      ]
     },
     "metadata": {},
     "output_type": "display_data"
    },
    {
     "name": "stdout",
     "output_type": "stream",
     "text": [
      "\n",
      "Количество дубликатов = 0\n",
      "\n",
      "Число пропусков в каждом столбце\n"
     ]
    },
    {
     "data": {
      "text/plain": [
       "id                         0\n",
       "title                      0\n",
       "type                       0\n",
       "description                0\n",
       "release_year               0\n",
       "age_certification       2611\n",
       "runtime                    0\n",
       "genres                    51\n",
       "production_countries     222\n",
       "seasons                 3735\n",
       "imdb_id                  392\n",
       "imdb_score               469\n",
       "imdb_votes               484\n",
       "tmdb_popularity           85\n",
       "tmdb_score               301\n",
       "dtype: int64"
      ]
     },
     "metadata": {},
     "output_type": "display_data"
    }
   ],
   "source": [
    "df_info(films)"
   ]
  },
  {
   "cell_type": "markdown",
   "id": "992d2467",
   "metadata": {},
   "source": [
    "**Вывод**\n",
    "\n",
    "Мы преобразовали часть данных и удалили некоторые пропуски.\n",
    "Теперь можно приступать к построению визуализации."
   ]
  },
  {
   "cell_type": "markdown",
   "id": "008248df",
   "metadata": {},
   "source": [
    "## Анализ данных и визуализация"
   ]
  },
  {
   "cell_type": "markdown",
   "id": "120a8879",
   "metadata": {},
   "source": [
    "### Посмотрим какие жанры пользуются наибольшей пополярностью"
   ]
  },
  {
   "cell_type": "markdown",
   "id": "de462ce7",
   "metadata": {},
   "source": [
    "**Сумма число голосов на IMDB по жанрам**"
   ]
  },
  {
   "cell_type": "code",
   "execution_count": 40,
   "id": "5dc72657",
   "metadata": {
    "scrolled": false
   },
   "outputs": [
    {
     "data": {
      "image/png": "[encoded data removed]",
      "text/plain": [
       "<Figure size 864x576 with 1 Axes>"
      ]
     },
     "metadata": {},
     "output_type": "display_data"
    }
   ],
   "source": [
    "imdb_votes = films.groupby('genres')[['imdb_votes']].sum().sort_values(by='imdb_votes', ascending=False).reset_index()\n",
    "sns.barplot(x='imdb_votes',y='genres',data=imdb_votes)\n",
    "sns.set(rc={\"figure.figsize\":(12,8)})"
   ]
  },
  {
   "cell_type": "markdown",
   "id": "bec06594",
   "metadata": {},
   "source": [
    "**Сумма популярности на TMDB по жанрам**"
   ]
  },
  {
   "cell_type": "code",
   "execution_count": 41,
   "id": "61004e68",
   "metadata": {
    "scrolled": false
   },
   "outputs": [
    {
     "data": {
      "image/png": "[encoded data removed]",
      "text/plain": [
       "<Figure size 864x576 with 1 Axes>"
      ]
     },
     "metadata": {},
     "output_type": "display_data"
    }
   ],
   "source": [
    "tmdb_popularity = films.groupby('genres')[['tmdb_popularity']].sum().sort_values(by='tmdb_popularity', ascending=False).reset_index()\n",
    "sns.barplot(x='tmdb_popularity',y='genres',data=tmdb_popularity)\n",
    "sns.set(rc={\"figure.figsize\":(12,8)})"
   ]
  },
  {
   "cell_type": "markdown",
   "id": "f3fd2b6d",
   "metadata": {},
   "source": [
    "**Рейтинг на IMDB по жанрам**"
   ]
  },
  {
   "cell_type": "code",
   "execution_count": 42,
   "id": "98229f63",
   "metadata": {},
   "outputs": [
    {
     "data": {
      "image/png": "[encoded data removed]",
      "text/plain": [
       "<Figure size 864x576 with 1 Axes>"
      ]
     },
     "metadata": {},
     "output_type": "display_data"
    }
   ],
   "source": [
    "imdb_score = films.groupby('genres')[['imdb_score']].median().sort_values(by='imdb_score', ascending=False).reset_index()\n",
    "sns.barplot(x='imdb_score',y='genres',data=imdb_score)\n",
    "sns.set(rc={\"figure.figsize\":(12,8)})"
   ]
  },
  {
   "cell_type": "markdown",
   "id": "6a2614de",
   "metadata": {},
   "source": [
    "**Рейтинг на TMDB по жанрам**"
   ]
  },
  {
   "cell_type": "code",
   "execution_count": 43,
   "id": "a08acc32",
   "metadata": {},
   "outputs": [
    {
     "data": {
      "image/png": "[encoded data removed]",
      "text/plain": [
       "<Figure size 864x576 with 1 Axes>"
      ]
     },
     "metadata": {},
     "output_type": "display_data"
    }
   ],
   "source": [
    "tmdb_score = films.groupby('genres')[['tmdb_score']].median().sort_values(by='tmdb_score', ascending=False).reset_index()\n",
    "sns.barplot(x='tmdb_score',y='genres',data=tmdb_score)\n",
    "sns.set(rc={\"figure.figsize\":(12,8)})"
   ]
  },
  {
   "cell_type": "markdown",
   "id": "94d15fdb",
   "metadata": {},
   "source": [
    "**Вывод**\n",
    "\n",
    "По суммарному числу голосов на IMDB и популярности на TMDB лидером среди жанров стали драмы. \n",
    "\n",
    "Второе и третье место делят триллеры и комедии в рейтинге IMDB соответственно.\n",
    "\n",
    "Второе и третье место делят комедии и триллеры в рейтинге TMDB соответственно.\n",
    "\n",
    "При этом если смотреть на оценки фильмов и сериалов, которые ставят пользователи, то лучшие оценки не получают самые популярные жанры.\n",
    "\n",
    "В обоих рейтингах самые популярные жанры даже не попали в первую пятёрку по самой высокой оценке жанра. "
   ]
  },
  {
   "cell_type": "markdown",
   "id": "cd33ea4e",
   "metadata": {},
   "source": [
    "### Какие фильмы являются самыми обсуждаемыми"
   ]
  },
  {
   "cell_type": "markdown",
   "id": "edaf39a7",
   "metadata": {},
   "source": [
    "**Посмотрим какие фильмы и сериалы попали в ТОП-5 по числу голосов на IMDB**"
   ]
  },
  {
   "cell_type": "code",
   "execution_count": 44,
   "id": "0d28e89a",
   "metadata": {},
   "outputs": [
    {
     "name": "stdout",
     "output_type": "stream",
     "text": [
      "\n",
      "Фильмы и сериалы ТОП-5 по числу голосов на IMDB и их характеристики\n"
     ]
    },
    {
     "data": {
      "text/html": [
       "<div>\n",
       "<style scoped>\n",
       "    .dataframe tbody tr th:only-of-type {\n",
       "        vertical-align: middle;\n",
       "    }\n",
       "\n",
       "    .dataframe tbody tr th {\n",
       "        vertical-align: top;\n",
       "    }\n",
       "\n",
       "    .dataframe thead th {\n",
       "        text-align: right;\n",
       "    }\n",
       "</style>\n",
       "<table border=\"1\" class=\"dataframe\">\n",
       "  <thead>\n",
       "    <tr style=\"text-align: right;\">\n",
       "      <th></th>\n",
       "      <th>title</th>\n",
       "      <th>imdb_votes</th>\n",
       "      <th>type</th>\n",
       "      <th>release_year</th>\n",
       "      <th>age_certification</th>\n",
       "      <th>runtime</th>\n",
       "      <th>genres</th>\n",
       "      <th>production_countries</th>\n",
       "      <th>seasons</th>\n",
       "      <th>imdb_score</th>\n",
       "      <th>tmdb_popularity</th>\n",
       "      <th>tmdb_score</th>\n",
       "    </tr>\n",
       "  </thead>\n",
       "  <tbody>\n",
       "    <tr>\n",
       "      <th>1</th>\n",
       "      <td>Inception</td>\n",
       "      <td>2294231.0</td>\n",
       "      <td>MOVIE</td>\n",
       "      <td>2010.0</td>\n",
       "      <td>PG-13</td>\n",
       "      <td>148.0</td>\n",
       "      <td>action</td>\n",
       "      <td>GB</td>\n",
       "      <td>NaN</td>\n",
       "      <td>8.8</td>\n",
       "      <td>108.28</td>\n",
       "      <td>8.40</td>\n",
       "    </tr>\n",
       "    <tr>\n",
       "      <th>2</th>\n",
       "      <td>Forrest Gump</td>\n",
       "      <td>2021343.0</td>\n",
       "      <td>MOVIE</td>\n",
       "      <td>1994.0</td>\n",
       "      <td>PG-13</td>\n",
       "      <td>142.0</td>\n",
       "      <td>drama</td>\n",
       "      <td>US</td>\n",
       "      <td>NaN</td>\n",
       "      <td>8.8</td>\n",
       "      <td>63.45</td>\n",
       "      <td>8.48</td>\n",
       "    </tr>\n",
       "    <tr>\n",
       "      <th>3</th>\n",
       "      <td>Breaking Bad</td>\n",
       "      <td>1775990.0</td>\n",
       "      <td>SHOW</td>\n",
       "      <td>2008.0</td>\n",
       "      <td>TV-MA</td>\n",
       "      <td>48.0</td>\n",
       "      <td>crime</td>\n",
       "      <td>US</td>\n",
       "      <td>5.0</td>\n",
       "      <td>9.5</td>\n",
       "      <td>353.85</td>\n",
       "      <td>8.79</td>\n",
       "    </tr>\n",
       "    <tr>\n",
       "      <th>4</th>\n",
       "      <td>The Dark Knight Rises</td>\n",
       "      <td>1669067.0</td>\n",
       "      <td>MOVIE</td>\n",
       "      <td>2012.0</td>\n",
       "      <td>PG-13</td>\n",
       "      <td>165.0</td>\n",
       "      <td>crime</td>\n",
       "      <td>US</td>\n",
       "      <td>NaN</td>\n",
       "      <td>8.4</td>\n",
       "      <td>91.76</td>\n",
       "      <td>7.77</td>\n",
       "    </tr>\n",
       "    <tr>\n",
       "      <th>5</th>\n",
       "      <td>Se7en</td>\n",
       "      <td>1606270.0</td>\n",
       "      <td>MOVIE</td>\n",
       "      <td>1995.0</td>\n",
       "      <td>R</td>\n",
       "      <td>127.0</td>\n",
       "      <td>thriller</td>\n",
       "      <td>US</td>\n",
       "      <td>NaN</td>\n",
       "      <td>8.6</td>\n",
       "      <td>51.63</td>\n",
       "      <td>8.35</td>\n",
       "    </tr>\n",
       "  </tbody>\n",
       "</table>\n",
       "</div>"
      ],
      "text/plain": [
       "                   title  imdb_votes   type  release_year age_certification  \\\n",
       "1              Inception   2294231.0  MOVIE        2010.0             PG-13   \n",
       "2           Forrest Gump   2021343.0  MOVIE        1994.0             PG-13   \n",
       "3           Breaking Bad   1775990.0   SHOW        2008.0             TV-MA   \n",
       "4  The Dark Knight Rises   1669067.0  MOVIE        2012.0             PG-13   \n",
       "5                  Se7en   1606270.0  MOVIE        1995.0                 R   \n",
       "\n",
       "   runtime    genres production_countries  seasons  imdb_score  \\\n",
       "1    148.0    action                   GB      NaN         8.8   \n",
       "2    142.0     drama                   US      NaN         8.8   \n",
       "3     48.0     crime                   US      5.0         9.5   \n",
       "4    165.0     crime                   US      NaN         8.4   \n",
       "5    127.0  thriller                   US      NaN         8.6   \n",
       "\n",
       "   tmdb_popularity  tmdb_score  \n",
       "1           108.28        8.40  \n",
       "2            63.45        8.48  \n",
       "3           353.85        8.79  \n",
       "4            91.76        7.77  \n",
       "5            51.63        8.35  "
      ]
     },
     "metadata": {},
     "output_type": "display_data"
    },
    {
     "data": {
      "image/png": "[encoded data removed]",
      "text/plain": [
       "<Figure size 864x576 with 1 Axes>"
      ]
     },
     "metadata": {},
     "output_type": "display_data"
    }
   ],
   "source": [
    "top_imdb_votes = films[['title', 'imdb_votes', 'type', 'release_year', 'age_certification', 'runtime',\n",
    "                        'genres', 'production_countries', 'seasons', 'imdb_score', 'tmdb_popularity',\n",
    "                        'tmdb_score']].sort_values(by='imdb_votes', ascending=False).head(5).reset_index(drop=True)\n",
    "top_imdb_votes.index = np.arange(1, len(top_imdb_votes) + 1)\n",
    "print('\\nФильмы и сериалы ТОП-5 по числу голосов на IMDB и их характеристики')\n",
    "display(top_imdb_votes)\n",
    "sns.barplot(x='title',y='imdb_votes',data=top_imdb_votes)\n",
    "sns.set(rc={\"figure.figsize\":(12,5)})"
   ]
  },
  {
   "cell_type": "markdown",
   "id": "14a73186",
   "metadata": {},
   "source": [
    "**Посмотрим какие фильмы и сериалы попали в ТОП-5 по популярности на TMDB**"
   ]
  },
  {
   "cell_type": "code",
   "execution_count": 45,
   "id": "1f21855f",
   "metadata": {},
   "outputs": [
    {
     "name": "stdout",
     "output_type": "stream",
     "text": [
      "\n",
      "Фильмы и сериалы ТОП-5 по популярности на TMDB и их характеристики\n"
     ]
    },
    {
     "data": {
      "text/html": [
       "<div>\n",
       "<style scoped>\n",
       "    .dataframe tbody tr th:only-of-type {\n",
       "        vertical-align: middle;\n",
       "    }\n",
       "\n",
       "    .dataframe tbody tr th {\n",
       "        vertical-align: top;\n",
       "    }\n",
       "\n",
       "    .dataframe thead th {\n",
       "        text-align: right;\n",
       "    }\n",
       "</style>\n",
       "<table border=\"1\" class=\"dataframe\">\n",
       "  <thead>\n",
       "    <tr style=\"text-align: right;\">\n",
       "      <th></th>\n",
       "      <th>title</th>\n",
       "      <th>tmdb_popularity</th>\n",
       "      <th>type</th>\n",
       "      <th>release_year</th>\n",
       "      <th>age_certification</th>\n",
       "      <th>runtime</th>\n",
       "      <th>genres</th>\n",
       "      <th>production_countries</th>\n",
       "      <th>seasons</th>\n",
       "      <th>imdb_score</th>\n",
       "      <th>imdb_votes</th>\n",
       "      <th>tmdb_score</th>\n",
       "    </tr>\n",
       "  </thead>\n",
       "  <tbody>\n",
       "    <tr>\n",
       "      <th>1</th>\n",
       "      <td>Incantation</td>\n",
       "      <td>2274.04</td>\n",
       "      <td>MOVIE</td>\n",
       "      <td>2022.0</td>\n",
       "      <td>NaN</td>\n",
       "      <td>111.0</td>\n",
       "      <td>horror</td>\n",
       "      <td>TW</td>\n",
       "      <td>NaN</td>\n",
       "      <td>6.2</td>\n",
       "      <td>5660.0</td>\n",
       "      <td>7.40</td>\n",
       "    </tr>\n",
       "    <tr>\n",
       "      <th>2</th>\n",
       "      <td>Stranger Things</td>\n",
       "      <td>2226.23</td>\n",
       "      <td>SHOW</td>\n",
       "      <td>2016.0</td>\n",
       "      <td>TV-14</td>\n",
       "      <td>61.0</td>\n",
       "      <td>drama</td>\n",
       "      <td>US</td>\n",
       "      <td>5.0</td>\n",
       "      <td>8.7</td>\n",
       "      <td>1101055.0</td>\n",
       "      <td>8.64</td>\n",
       "    </tr>\n",
       "    <tr>\n",
       "      <th>3</th>\n",
       "      <td>The Sea Beast</td>\n",
       "      <td>1723.36</td>\n",
       "      <td>MOVIE</td>\n",
       "      <td>2022.0</td>\n",
       "      <td>PG</td>\n",
       "      <td>115.0</td>\n",
       "      <td>comedy</td>\n",
       "      <td>US</td>\n",
       "      <td>NaN</td>\n",
       "      <td>7.1</td>\n",
       "      <td>18852.0</td>\n",
       "      <td>7.63</td>\n",
       "    </tr>\n",
       "    <tr>\n",
       "      <th>4</th>\n",
       "      <td>Valley of the Dead</td>\n",
       "      <td>1668.30</td>\n",
       "      <td>MOVIE</td>\n",
       "      <td>2022.0</td>\n",
       "      <td>R</td>\n",
       "      <td>101.0</td>\n",
       "      <td>comedy</td>\n",
       "      <td>ES</td>\n",
       "      <td>NaN</td>\n",
       "      <td>6.5</td>\n",
       "      <td>114.0</td>\n",
       "      <td>6.30</td>\n",
       "    </tr>\n",
       "    <tr>\n",
       "      <th>5</th>\n",
       "      <td>The Man from Toronto</td>\n",
       "      <td>1439.91</td>\n",
       "      <td>MOVIE</td>\n",
       "      <td>2022.0</td>\n",
       "      <td>PG-13</td>\n",
       "      <td>110.0</td>\n",
       "      <td>comedy</td>\n",
       "      <td>US</td>\n",
       "      <td>NaN</td>\n",
       "      <td>5.8</td>\n",
       "      <td>31497.0</td>\n",
       "      <td>6.45</td>\n",
       "    </tr>\n",
       "  </tbody>\n",
       "</table>\n",
       "</div>"
      ],
      "text/plain": [
       "                  title  tmdb_popularity   type  release_year  \\\n",
       "1           Incantation          2274.04  MOVIE        2022.0   \n",
       "2       Stranger Things          2226.23   SHOW        2016.0   \n",
       "3         The Sea Beast          1723.36  MOVIE        2022.0   \n",
       "4    Valley of the Dead          1668.30  MOVIE        2022.0   \n",
       "5  The Man from Toronto          1439.91  MOVIE        2022.0   \n",
       "\n",
       "  age_certification  runtime  genres production_countries  seasons  \\\n",
       "1               NaN    111.0  horror                   TW      NaN   \n",
       "2             TV-14     61.0   drama                   US      5.0   \n",
       "3                PG    115.0  comedy                   US      NaN   \n",
       "4                 R    101.0  comedy                   ES      NaN   \n",
       "5             PG-13    110.0  comedy                   US      NaN   \n",
       "\n",
       "   imdb_score  imdb_votes  tmdb_score  \n",
       "1         6.2      5660.0        7.40  \n",
       "2         8.7   1101055.0        8.64  \n",
       "3         7.1     18852.0        7.63  \n",
       "4         6.5       114.0        6.30  \n",
       "5         5.8     31497.0        6.45  "
      ]
     },
     "metadata": {},
     "output_type": "display_data"
    },
    {
     "data": {
      "image/png": "[encoded data removed]",
      "text/plain": [
       "<Figure size 864x360 with 1 Axes>"
      ]
     },
     "metadata": {},
     "output_type": "display_data"
    }
   ],
   "source": [
    "top_tmdb_popularity = films[['title', 'tmdb_popularity', 'type', 'release_year', 'age_certification', 'runtime', \n",
    "                             'genres', 'production_countries', 'seasons', 'imdb_score', 'imdb_votes', \n",
    "                             'tmdb_score']].sort_values(by='tmdb_popularity', ascending=False).head(5).reset_index(drop=True)\n",
    "top_tmdb_popularity.index = np.arange(1, len(top_imdb_votes) + 1)\n",
    "print('\\nФильмы и сериалы ТОП-5 по популярности на TMDB и их характеристики')\n",
    "display(top_tmdb_popularity)\n",
    "sns.barplot(x='title',y='tmdb_popularity',data=top_tmdb_popularity)\n",
    "sns.set(rc={\"figure.figsize\":(12,5)})"
   ]
  },
  {
   "cell_type": "markdown",
   "id": "77632a0c",
   "metadata": {},
   "source": [
    "### Какие режиссеры выпустили наибольшее кол-во фильмов и сериалов"
   ]
  },
  {
   "cell_type": "markdown",
   "id": "558d18aa",
   "metadata": {},
   "source": [
    "Список режисёров, которые выпустили наибольшее число фильмов и сериалов по убыванию"
   ]
  },
  {
   "cell_type": "code",
   "execution_count": 46,
   "id": "d14ee2ac",
   "metadata": {},
   "outputs": [
    {
     "name": "stdout",
     "output_type": "stream",
     "text": [
      "\n",
      "Режисёры, которые выпустили наибольшее число фильмов и сериалов по убыванию\n"
     ]
    },
    {
     "data": {
      "text/html": [
       "<div>\n",
       "<style scoped>\n",
       "    .dataframe tbody tr th:only-of-type {\n",
       "        vertical-align: middle;\n",
       "    }\n",
       "\n",
       "    .dataframe tbody tr th {\n",
       "        vertical-align: top;\n",
       "    }\n",
       "\n",
       "    .dataframe thead th {\n",
       "        text-align: right;\n",
       "    }\n",
       "</style>\n",
       "<table border=\"1\" class=\"dataframe\">\n",
       "  <thead>\n",
       "    <tr style=\"text-align: right;\">\n",
       "      <th></th>\n",
       "      <th>name_director</th>\n",
       "      <th>counts_films</th>\n",
       "    </tr>\n",
       "  </thead>\n",
       "  <tbody>\n",
       "    <tr>\n",
       "      <th>1</th>\n",
       "      <td>RaГєl Campos</td>\n",
       "      <td>20</td>\n",
       "    </tr>\n",
       "    <tr>\n",
       "      <th>2</th>\n",
       "      <td>Jan Suter</td>\n",
       "      <td>19</td>\n",
       "    </tr>\n",
       "    <tr>\n",
       "      <th>3</th>\n",
       "      <td>Ryan Polito</td>\n",
       "      <td>17</td>\n",
       "    </tr>\n",
       "    <tr>\n",
       "      <th>4</th>\n",
       "      <td>Jay Karas</td>\n",
       "      <td>15</td>\n",
       "    </tr>\n",
       "    <tr>\n",
       "      <th>5</th>\n",
       "      <td>Marcus Raboy</td>\n",
       "      <td>14</td>\n",
       "    </tr>\n",
       "    <tr>\n",
       "      <th>6</th>\n",
       "      <td>Jay Chapman</td>\n",
       "      <td>12</td>\n",
       "    </tr>\n",
       "    <tr>\n",
       "      <th>7</th>\n",
       "      <td>Cathy Garcia-Molina</td>\n",
       "      <td>12</td>\n",
       "    </tr>\n",
       "    <tr>\n",
       "      <th>8</th>\n",
       "      <td>Youssef Chahine</td>\n",
       "      <td>11</td>\n",
       "    </tr>\n",
       "    <tr>\n",
       "      <th>9</th>\n",
       "      <td>Troy Miller</td>\n",
       "      <td>8</td>\n",
       "    </tr>\n",
       "    <tr>\n",
       "      <th>10</th>\n",
       "      <td>Suhas Kadav</td>\n",
       "      <td>8</td>\n",
       "    </tr>\n",
       "    <tr>\n",
       "      <th>11</th>\n",
       "      <td>Justin G. Dyck</td>\n",
       "      <td>8</td>\n",
       "    </tr>\n",
       "    <tr>\n",
       "      <th>12</th>\n",
       "      <td>Anurag Kashyap</td>\n",
       "      <td>8</td>\n",
       "    </tr>\n",
       "    <tr>\n",
       "      <th>13</th>\n",
       "      <td>Kunle Afolayan</td>\n",
       "      <td>8</td>\n",
       "    </tr>\n",
       "    <tr>\n",
       "      <th>14</th>\n",
       "      <td>Fernando AyllГіn</td>\n",
       "      <td>7</td>\n",
       "    </tr>\n",
       "    <tr>\n",
       "      <th>15</th>\n",
       "      <td>Lance Bangs</td>\n",
       "      <td>7</td>\n",
       "    </tr>\n",
       "  </tbody>\n",
       "</table>\n",
       "</div>"
      ],
      "text/plain": [
       "          name_director  counts_films\n",
       "1          RaГєl Campos            20\n",
       "2             Jan Suter            19\n",
       "3           Ryan Polito            17\n",
       "4             Jay Karas            15\n",
       "5          Marcus Raboy            14\n",
       "6           Jay Chapman            12\n",
       "7   Cathy Garcia-Molina            12\n",
       "8       Youssef Chahine            11\n",
       "9           Troy Miller             8\n",
       "10          Suhas Kadav             8\n",
       "11       Justin G. Dyck             8\n",
       "12       Anurag Kashyap             8\n",
       "13       Kunle Afolayan             8\n",
       "14     Fernando AyllГіn             7\n",
       "15          Lance Bangs             7"
      ]
     },
     "metadata": {},
     "output_type": "display_data"
    },
    {
     "data": {
      "image/png": "[encoded data removed]",
      "text/plain": [
       "<Figure size 864x360 with 1 Axes>"
      ]
     },
     "metadata": {},
     "output_type": "display_data"
    }
   ],
   "source": [
    "top_director = pd.DataFrame(actors[actors['role']=='DIRECTOR'].name.value_counts().head(15).reset_index()) \n",
    "top_director.index = np.arange(1, len(top_director) + 1)\n",
    "top_director.columns = ['name_director', 'counts_films']\n",
    "print('\\nРежисёры, которые выпустили наибольшее число фильмов и сериалов по убыванию')\n",
    "display(top_director)\n",
    "sns.barplot(x='counts_films',y='name_director',data=top_director)\n",
    "sns.set(rc={\"figure.figsize\":(12,8)})"
   ]
  },
  {
   "cell_type": "markdown",
   "id": "8649ed35",
   "metadata": {},
   "source": [
    "### Какие возрастные категории самые популярные"
   ]
  },
  {
   "cell_type": "markdown",
   "id": "002b0675",
   "metadata": {},
   "source": [
    "**Сумма голосов на IMDB по возрастным категориям**"
   ]
  },
  {
   "cell_type": "code",
   "execution_count": 47,
   "id": "8ec09efd",
   "metadata": {},
   "outputs": [
    {
     "data": {
      "image/png": "[encoded data removed]",
      "text/plain": [
       "<Figure size 864x576 with 1 Axes>"
      ]
     },
     "metadata": {},
     "output_type": "display_data"
    }
   ],
   "source": [
    "imdb_votes_age_cert = films.groupby('age_certification')[['imdb_votes']].sum().sort_values(\n",
    "    by='imdb_votes', ascending=False).reset_index()\n",
    "sns.barplot(x='imdb_votes',y='age_certification',data=imdb_votes_age_cert)\n",
    "sns.set(rc={\"figure.figsize\":(12,8)})"
   ]
  },
  {
   "cell_type": "markdown",
   "id": "720f0645",
   "metadata": {},
   "source": [
    "**Сумма популярности на TMDB по возрастным категориям**"
   ]
  },
  {
   "cell_type": "code",
   "execution_count": 48,
   "id": "a920600e",
   "metadata": {},
   "outputs": [
    {
     "data": {
      "image/png": "[encoded data removed]",
      "text/plain": [
       "<Figure size 864x576 with 1 Axes>"
      ]
     },
     "metadata": {},
     "output_type": "display_data"
    }
   ],
   "source": [
    "tmdb_popularity_age_cert = films.groupby('age_certification')[['tmdb_popularity']].sum().sort_values(\n",
    "    by='tmdb_popularity', ascending=False).reset_index()\n",
    "sns.barplot(x='tmdb_popularity',y='age_certification',data=tmdb_popularity_age_cert)\n",
    "sns.set(rc={\"figure.figsize\":(12,8)})"
   ]
  },
  {
   "cell_type": "markdown",
   "id": "6bcdc466",
   "metadata": {},
   "source": [
    "## Вывод"
   ]
  },
  {
   "cell_type": "markdown",
   "id": "b634e505",
   "metadata": {},
   "source": [
    "Данный проект выполнялся без уточнения параметров у заказчика.\n",
    "\n",
    "Инструмент для изучения данных, работы с ними и визуализации был выбран на моё усмотрение, но в реальной жизни все ожидания по визуализации и метрикам были бы уточнены при возможности у заказчика.\n",
    "\n",
    "Для построения верхнеуровневого борда, я бы использовал 9 графиков из пункта \"3. Анализ данных и визуализация\" данного отчёта, если бы нужен был именно 1 борд.\n",
    "\n",
    "Если можно использовать отчёт, то данная тетрадка имеет структуру полноценного проекта и можно представить для обсуждения топов все графики из пункта \"3. Анализ данных и визуализация\" вместе с таблицами."
   ]
  }
 ],
 "metadata": {
  "kernelspec": {
   "display_name": "Python 3 (ipykernel)",
   "language": "python",
   "name": "python3"
  },
  "language_info": {
   "codemirror_mode": {
    "name": "ipython",
    "version": 3
   },
   "file_extension": ".py",
   "mimetype": "text/x-python",
   "name": "python",
   "nbconvert_exporter": "python",
   "pygments_lexer": "ipython3",
   "version": "3.9.7"
  },
  "toc": {
   "base_numbering": 1,
   "nav_menu": {
    "height": "164px",
    "width": "204px"
   },
   "number_sections": true,
   "sideBar": true,
   "skip_h1_title": true,
   "title_cell": "Table of Contents",
   "title_sidebar": "Contents",
   "toc_cell": true,
   "toc_position": {
    "height": "calc(100% - 180px)",
    "left": "10px",
    "top": "150px",
    "width": "384px"
   },
   "toc_section_display": true,
   "toc_window_display": true
  }
 },
 "nbformat": 4,
 "nbformat_minor": 5
}
