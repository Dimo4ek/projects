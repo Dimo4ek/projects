{
 "cells": [
  {
   "cell_type": "markdown",
   "metadata": {},
   "source": [
    "# Надёжность заёмщиков\n",
    "\n",
    "Кредитный отдел банка просит разобраться, влияет ли семейное положение и количество детей клиента на факт погашения кредита в срок. Для исследования предоставлена статистика о платёжеспособности клиентов.\n",
    "\n",
    "По результатам исследования будет строиться модель кредитного скоринга, который оценит способность потенциального заёмщика вернуть кредит банку."
   ]
  },
  {
   "cell_type": "markdown",
   "metadata": {},
   "source": [
    "## Шаг 1. Откройте файл с данными и изучите общую информацию"
   ]
  },
  {
   "cell_type": "markdown",
   "metadata": {},
   "source": [
    "Чтобы изучить данные датафрейма, сделать необходимые рассчёты, провести исследование и составить отчёт сразу импортируем библиотеки, который нам потребуются в данном проекте"
   ]
  },
  {
   "cell_type": "code",
   "execution_count": 1,
   "metadata": {},
   "outputs": [],
   "source": [
    "from collections import Counter\n",
    "from io import BytesIO\n",
    "from pymystem3 import Mystem\n",
    "\n",
    "import pandas as pd\n",
    "import requests"
   ]
  },
  {
   "cell_type": "markdown",
   "metadata": {},
   "source": [
    "Напишем функцию, чтобы прочитать и сохранить  данные из Google Sheets"
   ]
  },
  {
   "cell_type": "code",
   "execution_count": 2,
   "metadata": {},
   "outputs": [],
   "source": [
    "def table(spreadsheet_id):\n",
    "    spreadsheet_id = spreadsheet_id\n",
    "    file_name = 'https://docs.google.com/spreadsheets/d/{}/export?format=csv'.format(spreadsheet_id)\n",
    "    r = requests.get(file_name)\n",
    "    table = pd.read_csv(BytesIO(r.content))\n",
    "    return table"
   ]
  },
  {
   "cell_type": "markdown",
   "metadata": {},
   "source": [
    "Прочитаем и сохраним файл, который предоставил заказчик"
   ]
  },
  {
   "cell_type": "code",
   "execution_count": 3,
   "metadata": {
    "scrolled": false
   },
   "outputs": [
    {
     "data": {
      "text/html": [
       "<div>\n",
       "<style scoped>\n",
       "    .dataframe tbody tr th:only-of-type {\n",
       "        vertical-align: middle;\n",
       "    }\n",
       "\n",
       "    .dataframe tbody tr th {\n",
       "        vertical-align: top;\n",
       "    }\n",
       "\n",
       "    .dataframe thead th {\n",
       "        text-align: right;\n",
       "    }\n",
       "</style>\n",
       "<table border=\"1\" class=\"dataframe\">\n",
       "  <thead>\n",
       "    <tr style=\"text-align: right;\">\n",
       "      <th></th>\n",
       "      <th>children</th>\n",
       "      <th>days_employed</th>\n",
       "      <th>dob_years</th>\n",
       "      <th>education</th>\n",
       "      <th>education_id</th>\n",
       "      <th>family_status</th>\n",
       "      <th>family_status_id</th>\n",
       "      <th>gender</th>\n",
       "      <th>income_type</th>\n",
       "      <th>debt</th>\n",
       "      <th>total_income</th>\n",
       "      <th>purpose</th>\n",
       "    </tr>\n",
       "  </thead>\n",
       "  <tbody>\n",
       "    <tr>\n",
       "      <th>0</th>\n",
       "      <td>1</td>\n",
       "      <td>-8437.673028</td>\n",
       "      <td>42</td>\n",
       "      <td>высшее</td>\n",
       "      <td>0</td>\n",
       "      <td>женат / замужем</td>\n",
       "      <td>0</td>\n",
       "      <td>F</td>\n",
       "      <td>сотрудник</td>\n",
       "      <td>0</td>\n",
       "      <td>253875.639453</td>\n",
       "      <td>покупка жилья</td>\n",
       "    </tr>\n",
       "    <tr>\n",
       "      <th>1</th>\n",
       "      <td>1</td>\n",
       "      <td>-4024.803754</td>\n",
       "      <td>36</td>\n",
       "      <td>среднее</td>\n",
       "      <td>1</td>\n",
       "      <td>женат / замужем</td>\n",
       "      <td>0</td>\n",
       "      <td>F</td>\n",
       "      <td>сотрудник</td>\n",
       "      <td>0</td>\n",
       "      <td>112080.014102</td>\n",
       "      <td>приобретение автомобиля</td>\n",
       "    </tr>\n",
       "    <tr>\n",
       "      <th>2</th>\n",
       "      <td>0</td>\n",
       "      <td>-5623.422610</td>\n",
       "      <td>33</td>\n",
       "      <td>Среднее</td>\n",
       "      <td>1</td>\n",
       "      <td>женат / замужем</td>\n",
       "      <td>0</td>\n",
       "      <td>M</td>\n",
       "      <td>сотрудник</td>\n",
       "      <td>0</td>\n",
       "      <td>145885.952297</td>\n",
       "      <td>покупка жилья</td>\n",
       "    </tr>\n",
       "    <tr>\n",
       "      <th>3</th>\n",
       "      <td>3</td>\n",
       "      <td>-4124.747207</td>\n",
       "      <td>32</td>\n",
       "      <td>среднее</td>\n",
       "      <td>1</td>\n",
       "      <td>женат / замужем</td>\n",
       "      <td>0</td>\n",
       "      <td>M</td>\n",
       "      <td>сотрудник</td>\n",
       "      <td>0</td>\n",
       "      <td>267628.550329</td>\n",
       "      <td>дополнительное образование</td>\n",
       "    </tr>\n",
       "    <tr>\n",
       "      <th>4</th>\n",
       "      <td>0</td>\n",
       "      <td>340266.072047</td>\n",
       "      <td>53</td>\n",
       "      <td>среднее</td>\n",
       "      <td>1</td>\n",
       "      <td>гражданский брак</td>\n",
       "      <td>1</td>\n",
       "      <td>F</td>\n",
       "      <td>пенсионер</td>\n",
       "      <td>0</td>\n",
       "      <td>158616.077870</td>\n",
       "      <td>сыграть свадьбу</td>\n",
       "    </tr>\n",
       "    <tr>\n",
       "      <th>5</th>\n",
       "      <td>0</td>\n",
       "      <td>-926.185831</td>\n",
       "      <td>27</td>\n",
       "      <td>высшее</td>\n",
       "      <td>0</td>\n",
       "      <td>гражданский брак</td>\n",
       "      <td>1</td>\n",
       "      <td>M</td>\n",
       "      <td>компаньон</td>\n",
       "      <td>0</td>\n",
       "      <td>255763.565419</td>\n",
       "      <td>покупка жилья</td>\n",
       "    </tr>\n",
       "    <tr>\n",
       "      <th>6</th>\n",
       "      <td>0</td>\n",
       "      <td>-2879.202052</td>\n",
       "      <td>43</td>\n",
       "      <td>высшее</td>\n",
       "      <td>0</td>\n",
       "      <td>женат / замужем</td>\n",
       "      <td>0</td>\n",
       "      <td>F</td>\n",
       "      <td>компаньон</td>\n",
       "      <td>0</td>\n",
       "      <td>240525.971920</td>\n",
       "      <td>операции с жильем</td>\n",
       "    </tr>\n",
       "    <tr>\n",
       "      <th>7</th>\n",
       "      <td>0</td>\n",
       "      <td>-152.779569</td>\n",
       "      <td>50</td>\n",
       "      <td>СРЕДНЕЕ</td>\n",
       "      <td>1</td>\n",
       "      <td>женат / замужем</td>\n",
       "      <td>0</td>\n",
       "      <td>M</td>\n",
       "      <td>сотрудник</td>\n",
       "      <td>0</td>\n",
       "      <td>135823.934197</td>\n",
       "      <td>образование</td>\n",
       "    </tr>\n",
       "    <tr>\n",
       "      <th>8</th>\n",
       "      <td>2</td>\n",
       "      <td>-6929.865299</td>\n",
       "      <td>35</td>\n",
       "      <td>ВЫСШЕЕ</td>\n",
       "      <td>0</td>\n",
       "      <td>гражданский брак</td>\n",
       "      <td>1</td>\n",
       "      <td>F</td>\n",
       "      <td>сотрудник</td>\n",
       "      <td>0</td>\n",
       "      <td>95856.832424</td>\n",
       "      <td>на проведение свадьбы</td>\n",
       "    </tr>\n",
       "    <tr>\n",
       "      <th>9</th>\n",
       "      <td>0</td>\n",
       "      <td>-2188.756445</td>\n",
       "      <td>41</td>\n",
       "      <td>среднее</td>\n",
       "      <td>1</td>\n",
       "      <td>женат / замужем</td>\n",
       "      <td>0</td>\n",
       "      <td>M</td>\n",
       "      <td>сотрудник</td>\n",
       "      <td>0</td>\n",
       "      <td>144425.938277</td>\n",
       "      <td>покупка жилья для семьи</td>\n",
       "    </tr>\n",
       "  </tbody>\n",
       "</table>\n",
       "</div>"
      ],
      "text/plain": [
       "   children  days_employed  dob_years education  education_id  \\\n",
       "0         1   -8437.673028         42    высшее             0   \n",
       "1         1   -4024.803754         36   среднее             1   \n",
       "2         0   -5623.422610         33   Среднее             1   \n",
       "3         3   -4124.747207         32   среднее             1   \n",
       "4         0  340266.072047         53   среднее             1   \n",
       "5         0    -926.185831         27    высшее             0   \n",
       "6         0   -2879.202052         43    высшее             0   \n",
       "7         0    -152.779569         50   СРЕДНЕЕ             1   \n",
       "8         2   -6929.865299         35    ВЫСШЕЕ             0   \n",
       "9         0   -2188.756445         41   среднее             1   \n",
       "\n",
       "      family_status  family_status_id gender income_type  debt   total_income  \\\n",
       "0   женат / замужем                 0      F   сотрудник     0  253875.639453   \n",
       "1   женат / замужем                 0      F   сотрудник     0  112080.014102   \n",
       "2   женат / замужем                 0      M   сотрудник     0  145885.952297   \n",
       "3   женат / замужем                 0      M   сотрудник     0  267628.550329   \n",
       "4  гражданский брак                 1      F   пенсионер     0  158616.077870   \n",
       "5  гражданский брак                 1      M   компаньон     0  255763.565419   \n",
       "6   женат / замужем                 0      F   компаньон     0  240525.971920   \n",
       "7   женат / замужем                 0      M   сотрудник     0  135823.934197   \n",
       "8  гражданский брак                 1      F   сотрудник     0   95856.832424   \n",
       "9   женат / замужем                 0      M   сотрудник     0  144425.938277   \n",
       "\n",
       "                      purpose  \n",
       "0               покупка жилья  \n",
       "1     приобретение автомобиля  \n",
       "2               покупка жилья  \n",
       "3  дополнительное образование  \n",
       "4             сыграть свадьбу  \n",
       "5               покупка жилья  \n",
       "6           операции с жильем  \n",
       "7                 образование  \n",
       "8       на проведение свадьбы  \n",
       "9     покупка жилья для семьи  "
      ]
     },
     "execution_count": 3,
     "metadata": {},
     "output_type": "execute_result"
    }
   ],
   "source": [
    "df = table('1pVhghFnWxLW6IZCLMms3xO7J6ErJGY2_cJosZyvs7_A')# чтение файла с данными и сохранение в df\n",
    "df.head(10) # получение первых 10 строк таблицы df"
   ]
  },
  {
   "cell_type": "markdown",
   "metadata": {},
   "source": [
    "Получим общую информацию о таблице:"
   ]
  },
  {
   "cell_type": "code",
   "execution_count": 4,
   "metadata": {},
   "outputs": [
    {
     "name": "stdout",
     "output_type": "stream",
     "text": [
      "<class 'pandas.core.frame.DataFrame'>\n",
      "RangeIndex: 21525 entries, 0 to 21524\n",
      "Data columns (total 12 columns):\n",
      " #   Column            Non-Null Count  Dtype  \n",
      "---  ------            --------------  -----  \n",
      " 0   children          21525 non-null  int64  \n",
      " 1   days_employed     19351 non-null  float64\n",
      " 2   dob_years         21525 non-null  int64  \n",
      " 3   education         21525 non-null  object \n",
      " 4   education_id      21525 non-null  int64  \n",
      " 5   family_status     21525 non-null  object \n",
      " 6   family_status_id  21525 non-null  int64  \n",
      " 7   gender            21525 non-null  object \n",
      " 8   income_type       21525 non-null  object \n",
      " 9   debt              21525 non-null  int64  \n",
      " 10  total_income      19351 non-null  float64\n",
      " 11  purpose           21525 non-null  object \n",
      "dtypes: float64(2), int64(5), object(5)\n",
      "memory usage: 2.0+ MB\n"
     ]
    }
   ],
   "source": [
    "df.info() # получение общей информации о данных в таблице df"
   ]
  },
  {
   "cell_type": "markdown",
   "metadata": {},
   "source": [
    "В таблице 12 столбцов. Типы данных в столбцах — `float`, `int`, `object`.\n",
    "\n",
    "Согласно документации к данным:\n",
    "* `children` — количество детей в семье\n",
    "* `days_employed` — общий трудовой стаж в днях\n",
    "* `dob_years` — возраст клиента в годах\n",
    "* `education` — уровень образования клиента\n",
    "* `education_id` — идентификатор уровня образования\n",
    "* `family_status` — семейное положение\n",
    "* `family_status_id` — идентификатор семейного положения\n",
    "* `gender` — пол клиента\n",
    "* `income_type` — тип занятости\n",
    "* `debt` — имел ли задолженность по возврату кредитов\n",
    "* `total_income` — ежемесячный доход\n",
    "* `purpose` — цель получения кредита\n",
    "\n",
    "\n",
    "Количество значений в столбцах различается. Значит, в данных есть пропущенные значения.\n"
   ]
  },
  {
   "cell_type": "markdown",
   "metadata": {},
   "source": [
    "**Вывод**"
   ]
  },
  {
   "cell_type": "markdown",
   "metadata": {},
   "source": [
    "В каждой строке таблицы — данные о заёмщике банка. Часть колонок описывает самого заёмщика: возраст, пол, образование, семейное положение, число детей, трудовой стаж, тип должности и ежемесячном доходе. Остальные данные рассказывают о данных для получения кредита: имел ли задолжность по возврату кредитов, цель получения кредита.\n",
    "\n",
    "Предварительно можно утверждать, что, данных достаточно для проверки гипотез. Но встречаются различные проблемы в данных.\n",
    "\n",
    "Чтобы двигаться дальше, нужно устранить проблемы в данных."
   ]
  },
  {
   "cell_type": "markdown",
   "metadata": {},
   "source": [
    "## Шаг 2. Предобработка данных"
   ]
  },
  {
   "cell_type": "markdown",
   "metadata": {},
   "source": [
    "Исправим данные и приведём их к пригодному для анализа виду."
   ]
  },
  {
   "cell_type": "markdown",
   "metadata": {},
   "source": [
    "### Обработка пропусков"
   ]
  },
  {
   "cell_type": "markdown",
   "metadata": {},
   "source": [
    "Сначала посчитаем, сколько в таблице пропущенных значений:"
   ]
  },
  {
   "cell_type": "code",
   "execution_count": 5,
   "metadata": {},
   "outputs": [
    {
     "data": {
      "text/plain": [
       "children               0\n",
       "days_employed       2174\n",
       "dob_years              0\n",
       "education              0\n",
       "education_id           0\n",
       "family_status          0\n",
       "family_status_id       0\n",
       "gender                 0\n",
       "income_type            0\n",
       "debt                   0\n",
       "total_income        2174\n",
       "purpose                0\n",
       "dtype: int64"
      ]
     },
     "execution_count": 5,
     "metadata": {},
     "output_type": "execute_result"
    }
   ],
   "source": [
    "df.isna().sum() # подсчёт пропусков"
   ]
  },
  {
   "cell_type": "markdown",
   "metadata": {},
   "source": [
    "В таблице имеются пропуски в двух столбцах по ежемесячному доходу и по общему трудовому стажу. В данном случае нужно заменить пропуски в количественных переменных.\n",
    "\n",
    "Сравним среднее и медианное значение в столбцах с пропусками, предварительно сгруппировав заёмщиков по типу занятости.\n",
    "\n",
    "Медианное значение ежемесячного дохода заёмщиков сгруппированных по типу занятости:"
   ]
  },
  {
   "cell_type": "code",
   "execution_count": 6,
   "metadata": {},
   "outputs": [
    {
     "data": {
      "text/plain": [
       "income_type\n",
       "безработный        131339.751676\n",
       "в декрете           53829.130729\n",
       "госслужащий        150447.935283\n",
       "компаньон          172357.950966\n",
       "пенсионер          118514.486412\n",
       "предприниматель    499163.144947\n",
       "сотрудник          142594.396847\n",
       "студент             98201.625314\n",
       "Name: total_income, dtype: float64"
      ]
     },
     "execution_count": 6,
     "metadata": {},
     "output_type": "execute_result"
    }
   ],
   "source": [
    "df.groupby('income_type')['total_income'].median() # группируем по типу занятости доход и считаем медиану"
   ]
  },
  {
   "cell_type": "markdown",
   "metadata": {},
   "source": [
    "Среднее значение ежемесячного дохода заёмщиков сгруппированных по типу занятости:"
   ]
  },
  {
   "cell_type": "code",
   "execution_count": 7,
   "metadata": {},
   "outputs": [
    {
     "data": {
      "text/plain": [
       "income_type\n",
       "безработный        131339.751676\n",
       "в декрете           53829.130729\n",
       "госслужащий        170898.309923\n",
       "компаньон          202417.461462\n",
       "пенсионер          137127.465690\n",
       "предприниматель    499163.144947\n",
       "сотрудник          161380.260488\n",
       "студент             98201.625314\n",
       "Name: total_income, dtype: float64"
      ]
     },
     "execution_count": 7,
     "metadata": {},
     "output_type": "execute_result"
    }
   ],
   "source": [
    "df.groupby('income_type')['total_income'].mean() # группируем по типу занятости доход и считаем среднее значение"
   ]
  },
  {
   "cell_type": "markdown",
   "metadata": {},
   "source": [
    "Медианное значение общего трудового стажа заёмщиков сгруппированных по типу занятости:"
   ]
  },
  {
   "cell_type": "code",
   "execution_count": 8,
   "metadata": {},
   "outputs": [
    {
     "data": {
      "text/plain": [
       "income_type\n",
       "безработный        366413.652744\n",
       "в декрете           -3296.759962\n",
       "госслужащий         -2689.368353\n",
       "компаньон           -1547.382223\n",
       "пенсионер          365213.306266\n",
       "предприниматель      -520.848083\n",
       "сотрудник           -1574.202821\n",
       "студент              -578.751554\n",
       "Name: days_employed, dtype: float64"
      ]
     },
     "execution_count": 8,
     "metadata": {},
     "output_type": "execute_result"
    }
   ],
   "source": [
    "df.groupby('income_type')['days_employed'].median() # группируем по типу занятости стаж и считаем медиану"
   ]
  },
  {
   "cell_type": "markdown",
   "metadata": {},
   "source": [
    "Среднее значение общего трудового стажа заёмщиков сгруппированных по типу занятости:"
   ]
  },
  {
   "cell_type": "code",
   "execution_count": 9,
   "metadata": {},
   "outputs": [
    {
     "data": {
      "text/plain": [
       "income_type\n",
       "безработный        366413.652744\n",
       "в декрете           -3296.759962\n",
       "госслужащий         -3399.896902\n",
       "компаньон           -2111.524398\n",
       "пенсионер          365003.491245\n",
       "предприниматель      -520.848083\n",
       "сотрудник           -2326.499216\n",
       "студент              -578.751554\n",
       "Name: days_employed, dtype: float64"
      ]
     },
     "execution_count": 9,
     "metadata": {},
     "output_type": "execute_result"
    }
   ],
   "source": [
    "df.groupby('income_type')['days_employed'].mean() # группируем по типу занятости стаж и считаем среднее значение"
   ]
  },
  {
   "cell_type": "markdown",
   "metadata": {},
   "source": [
    "**Вывод** "
   ]
  },
  {
   "cell_type": "markdown",
   "metadata": {},
   "source": [
    "При сравнении среднего и медианного значение данных рассматриваемых столбцов видно, что среднее значение у работающих заёмщиков завышено по сравнению с медианным в обоих столбцах. \n",
    "Следовательно использовать медианных значения будет более корректно."
   ]
  },
  {
   "cell_type": "markdown",
   "metadata": {},
   "source": [
    "**Заменим пропущенные значения ежемесячного дохода медианным значением для каждого типа занятости:**"
   ]
  },
  {
   "cell_type": "code",
   "execution_count": 10,
   "metadata": {},
   "outputs": [],
   "source": [
    "df['total_income'] = df.groupby('income_type')['total_income'].transform(lambda x: x.fillna(x.median())) # используем метод transform из библиотеки pandas\n",
    "df['days_employed'] = df.groupby('income_type')['days_employed'].transform(lambda x: x.fillna(x.median())) # используем метод transform из библиотеки pandas"
   ]
  },
  {
   "cell_type": "markdown",
   "metadata": {},
   "source": [
    "Убедимся, что в таблице не осталось пропусков. Для этого ещё раз посчитаем пропущенные значения:"
   ]
  },
  {
   "cell_type": "code",
   "execution_count": 11,
   "metadata": {},
   "outputs": [
    {
     "data": {
      "text/plain": [
       "children            0\n",
       "days_employed       0\n",
       "dob_years           0\n",
       "education           0\n",
       "education_id        0\n",
       "family_status       0\n",
       "family_status_id    0\n",
       "gender              0\n",
       "income_type         0\n",
       "debt                0\n",
       "total_income        0\n",
       "purpose             0\n",
       "dtype: int64"
      ]
     },
     "execution_count": 11,
     "metadata": {},
     "output_type": "execute_result"
    }
   ],
   "source": [
    "df.isna().sum()"
   ]
  },
  {
   "cell_type": "markdown",
   "metadata": {},
   "source": [
    "**Вывод**"
   ]
  },
  {
   "cell_type": "markdown",
   "metadata": {},
   "source": [
    "Причины в пропусках данных связаны с заполнением кредитной заявки и указанием дохода и/или стажа работы. Видимо, если потенциальный заёмщик не имеет дохода или не работает, то он оставляет поле пустым, а поля доход и стаж работы по всей видимости связаны, тк пропуски наблюдаются в одинаковых строчках, то есть для каждого заёмщика и число пропусков совпадает. \n",
    "\n",
    "Значения были успешно заменены и пропусков более не наблюдается.\n",
    "\n",
    "Вызывают вопросы отрицательные значения в столбце общий трудовой стаж, но к этому вопросу вернёмся позднее, если эти данные будут влиять на исследование."
   ]
  },
  {
   "cell_type": "markdown",
   "metadata": {},
   "source": [
    "### Замена типа данных"
   ]
  },
  {
   "cell_type": "markdown",
   "metadata": {},
   "source": [
    "Заменим вещественные данные на целочисленные"
   ]
  },
  {
   "cell_type": "code",
   "execution_count": 12,
   "metadata": {},
   "outputs": [],
   "source": [
    "df['total_income'] = df['total_income'].astype('int') # заменим вещественные данные на числовые используя метод astype в доходе заёмщиков\n",
    "df['days_employed'] = df['days_employed'].astype('int') # заменим вещественные данные на числовые используя метод astype в стаже заёмщиков"
   ]
  },
  {
   "cell_type": "markdown",
   "metadata": {},
   "source": [
    "Убедимся, что в таблице в столбцах не осталось вещественных данных:"
   ]
  },
  {
   "cell_type": "code",
   "execution_count": 13,
   "metadata": {
    "scrolled": true
   },
   "outputs": [
    {
     "name": "stdout",
     "output_type": "stream",
     "text": [
      "<class 'pandas.core.frame.DataFrame'>\n",
      "RangeIndex: 21525 entries, 0 to 21524\n",
      "Data columns (total 12 columns):\n",
      " #   Column            Non-Null Count  Dtype \n",
      "---  ------            --------------  ----- \n",
      " 0   children          21525 non-null  int64 \n",
      " 1   days_employed     21525 non-null  int32 \n",
      " 2   dob_years         21525 non-null  int64 \n",
      " 3   education         21525 non-null  object\n",
      " 4   education_id      21525 non-null  int64 \n",
      " 5   family_status     21525 non-null  object\n",
      " 6   family_status_id  21525 non-null  int64 \n",
      " 7   gender            21525 non-null  object\n",
      " 8   income_type       21525 non-null  object\n",
      " 9   debt              21525 non-null  int64 \n",
      " 10  total_income      21525 non-null  int32 \n",
      " 11  purpose           21525 non-null  object\n",
      "dtypes: int32(2), int64(5), object(5)\n",
      "memory usage: 1.8+ MB\n"
     ]
    }
   ],
   "source": [
    "df.info()"
   ]
  },
  {
   "cell_type": "markdown",
   "metadata": {},
   "source": [
    "Удалим отрицательные значения из столбца стажа работы, тк для работающих заёмщиков данные по стажу указаны корректно в днях:"
   ]
  },
  {
   "cell_type": "code",
   "execution_count": 14,
   "metadata": {},
   "outputs": [],
   "source": [
    "df['days_employed'] = df['days_employed'].abs() # заменим все значения в столбце 'days_employed' на их же значения по модулю используя метод abs()"
   ]
  },
  {
   "cell_type": "markdown",
   "metadata": {},
   "source": [
    "Удалим отрицательные значения из столбца дети, тк отрицательного числа детей быть не может:"
   ]
  },
  {
   "cell_type": "code",
   "execution_count": 15,
   "metadata": {},
   "outputs": [],
   "source": [
    "df['children'] = df['children'].abs()"
   ]
  },
  {
   "cell_type": "markdown",
   "metadata": {},
   "source": [
    "**Вывод**"
   ]
  },
  {
   "cell_type": "markdown",
   "metadata": {},
   "source": [
    "Вещественные данные были заменены на целочисленные.\n",
    "<br>\n",
    "Использовался метод `astype()`, а не `to_numeric()`, тк нужно было привести столбцы к целочисленным значениям, а метод `to_numeric()` заменяет на вещественные.\n",
    "<br>\n",
    "<br>\n",
    "Кроме прочего, значения в столбеце со стажем работы были приведены к положительным значениям, тк для работающих заёмщиков по типу занятости данные по стажу указаны корректно в днях, а для неработающих по типу занятости эти данные использовать не имеет смысла. \n"
   ]
  },
  {
   "cell_type": "markdown",
   "metadata": {},
   "source": [
    "### Обработка дубликатов"
   ]
  },
  {
   "cell_type": "markdown",
   "metadata": {},
   "source": [
    "Посчитаем дубликаты в таблице, чтобы в дальнейшем избавиться от них.<br>\n",
    "Для этого проверим все столбцы с типом `object`.<br>\n",
    "Проверяем столбец `education`:"
   ]
  },
  {
   "cell_type": "code",
   "execution_count": 16,
   "metadata": {
    "scrolled": true
   },
   "outputs": [
    {
     "data": {
      "text/plain": [
       "среднее                13750\n",
       "высшее                  4718\n",
       "СРЕДНЕЕ                  772\n",
       "Среднее                  711\n",
       "неоконченное высшее      668\n",
       "ВЫСШЕЕ                   274\n",
       "Высшее                   268\n",
       "начальное                250\n",
       "Неоконченное высшее       47\n",
       "НЕОКОНЧЕННОЕ ВЫСШЕЕ       29\n",
       "НАЧАЛЬНОЕ                 17\n",
       "Начальное                 15\n",
       "ученая степень             4\n",
       "Ученая степень             1\n",
       "УЧЕНАЯ СТЕПЕНЬ             1\n",
       "Name: education, dtype: int64"
      ]
     },
     "execution_count": 16,
     "metadata": {},
     "output_type": "execute_result"
    }
   ],
   "source": [
    "df['education'].value_counts() # Просмотр уникальных значений образования и подсчёт их количества "
   ]
  },
  {
   "cell_type": "markdown",
   "metadata": {},
   "source": [
    "Проверяем столбец `family_status`:"
   ]
  },
  {
   "cell_type": "code",
   "execution_count": 17,
   "metadata": {},
   "outputs": [
    {
     "data": {
      "text/plain": [
       "женат / замужем          12380\n",
       "гражданский брак          4177\n",
       "Не женат / не замужем     2813\n",
       "в разводе                 1195\n",
       "вдовец / вдова             960\n",
       "Name: family_status, dtype: int64"
      ]
     },
     "execution_count": 17,
     "metadata": {},
     "output_type": "execute_result"
    }
   ],
   "source": [
    "df['family_status'].value_counts() # Просмотр уникальных значений семейного положения и подсчёт их количества "
   ]
  },
  {
   "cell_type": "markdown",
   "metadata": {},
   "source": [
    "Проверяем столбец `gender`:"
   ]
  },
  {
   "cell_type": "code",
   "execution_count": 18,
   "metadata": {
    "scrolled": true
   },
   "outputs": [
    {
     "data": {
      "text/plain": [
       "F      14236\n",
       "M       7288\n",
       "XNA        1\n",
       "Name: gender, dtype: int64"
      ]
     },
     "execution_count": 18,
     "metadata": {},
     "output_type": "execute_result"
    }
   ],
   "source": [
    "df['gender'].value_counts() # Просмотр уникальных значений семейного положения и подсчёт их количества "
   ]
  },
  {
   "cell_type": "markdown",
   "metadata": {},
   "source": [
    "Посмотрим данные этого заёмщика c полом XNA"
   ]
  },
  {
   "cell_type": "code",
   "execution_count": 19,
   "metadata": {},
   "outputs": [
    {
     "data": {
      "text/html": [
       "<div>\n",
       "<style scoped>\n",
       "    .dataframe tbody tr th:only-of-type {\n",
       "        vertical-align: middle;\n",
       "    }\n",
       "\n",
       "    .dataframe tbody tr th {\n",
       "        vertical-align: top;\n",
       "    }\n",
       "\n",
       "    .dataframe thead th {\n",
       "        text-align: right;\n",
       "    }\n",
       "</style>\n",
       "<table border=\"1\" class=\"dataframe\">\n",
       "  <thead>\n",
       "    <tr style=\"text-align: right;\">\n",
       "      <th></th>\n",
       "      <th>children</th>\n",
       "      <th>days_employed</th>\n",
       "      <th>dob_years</th>\n",
       "      <th>education</th>\n",
       "      <th>education_id</th>\n",
       "      <th>family_status</th>\n",
       "      <th>family_status_id</th>\n",
       "      <th>gender</th>\n",
       "      <th>income_type</th>\n",
       "      <th>debt</th>\n",
       "      <th>total_income</th>\n",
       "      <th>purpose</th>\n",
       "    </tr>\n",
       "  </thead>\n",
       "  <tbody>\n",
       "    <tr>\n",
       "      <th>10701</th>\n",
       "      <td>0</td>\n",
       "      <td>2358</td>\n",
       "      <td>24</td>\n",
       "      <td>неоконченное высшее</td>\n",
       "      <td>2</td>\n",
       "      <td>гражданский брак</td>\n",
       "      <td>1</td>\n",
       "      <td>XNA</td>\n",
       "      <td>компаньон</td>\n",
       "      <td>0</td>\n",
       "      <td>203905</td>\n",
       "      <td>покупка недвижимости</td>\n",
       "    </tr>\n",
       "  </tbody>\n",
       "</table>\n",
       "</div>"
      ],
      "text/plain": [
       "       children  days_employed  dob_years            education  education_id  \\\n",
       "10701         0           2358         24  неоконченное высшее             2   \n",
       "\n",
       "          family_status  family_status_id gender income_type  debt  \\\n",
       "10701  гражданский брак                 1    XNA   компаньон     0   \n",
       "\n",
       "       total_income               purpose  \n",
       "10701        203905  покупка недвижимости  "
      ]
     },
     "execution_count": 19,
     "metadata": {},
     "output_type": "execute_result"
    }
   ],
   "source": [
    "df[df['gender'] == 'XNA'] "
   ]
  },
  {
   "cell_type": "markdown",
   "metadata": {},
   "source": [
    "Остальные данные по клиенту с гендером XNA вполне валидны, следовательно есть смысл оставить данную строку, а гендер заменим на F, тк их примерно в 2 раза больше, чем M, а следовательно это в меньшей степени повлияет на исследование."
   ]
  },
  {
   "cell_type": "code",
   "execution_count": 20,
   "metadata": {},
   "outputs": [],
   "source": [
    "def xna(gender): # создадим функцию которой передаём корректные значения в столбце гендер и далее пропишем условия для каждого варианта возможного значения\n",
    "    if gender == 'XNA':\n",
    "        return 'F'\n",
    "    if gender == 'F':\n",
    "        return 'F'\n",
    "    if gender == 'M':\n",
    "        return 'M'\n",
    "df['gender'] = df['gender'].apply(xna) # с помощью функции apply перепишим значения в столбце 'gender' используя функцию в которую прописали более подходящее значение гендера\n"
   ]
  },
  {
   "cell_type": "markdown",
   "metadata": {},
   "source": [
    "Просмотр уникальных значений семейного положения и подсчёт их количества "
   ]
  },
  {
   "cell_type": "code",
   "execution_count": 21,
   "metadata": {
    "scrolled": true
   },
   "outputs": [
    {
     "data": {
      "text/plain": [
       "F    14237\n",
       "M     7288\n",
       "Name: gender, dtype: int64"
      ]
     },
     "execution_count": 21,
     "metadata": {},
     "output_type": "execute_result"
    }
   ],
   "source": [
    "df['gender'].value_counts() "
   ]
  },
  {
   "cell_type": "markdown",
   "metadata": {},
   "source": [
    "Проверяем столбец `income_type`:"
   ]
  },
  {
   "cell_type": "code",
   "execution_count": 22,
   "metadata": {},
   "outputs": [
    {
     "data": {
      "text/plain": [
       "сотрудник          11119\n",
       "компаньон           5085\n",
       "пенсионер           3856\n",
       "госслужащий         1459\n",
       "безработный            2\n",
       "предприниматель        2\n",
       "студент                1\n",
       "в декрете              1\n",
       "Name: income_type, dtype: int64"
      ]
     },
     "execution_count": 22,
     "metadata": {},
     "output_type": "execute_result"
    }
   ],
   "source": [
    "df['income_type'].value_counts() # Просмотр уникальных значений типа занятости и подсчёт их количества "
   ]
  },
  {
   "cell_type": "markdown",
   "metadata": {},
   "source": [
    "Проверяем столбец `purpose`:"
   ]
  },
  {
   "cell_type": "code",
   "execution_count": 23,
   "metadata": {},
   "outputs": [
    {
     "data": {
      "text/plain": [
       "свадьба                                   797\n",
       "на проведение свадьбы                     777\n",
       "сыграть свадьбу                           774\n",
       "операции с недвижимостью                  676\n",
       "покупка коммерческой недвижимости         664\n",
       "покупка жилья для сдачи                   653\n",
       "операции с жильем                         653\n",
       "операции с коммерческой недвижимостью     651\n",
       "покупка жилья                             647\n",
       "жилье                                     647\n",
       "покупка жилья для семьи                   641\n",
       "строительство собственной недвижимости    635\n",
       "недвижимость                              634\n",
       "операции со своей недвижимостью           630\n",
       "строительство жилой недвижимости          626\n",
       "покупка недвижимости                      624\n",
       "строительство недвижимости                620\n",
       "покупка своего жилья                      620\n",
       "ремонт жилью                              612\n",
       "покупка жилой недвижимости                607\n",
       "на покупку своего автомобиля              505\n",
       "заняться высшим образованием              496\n",
       "автомобиль                                495\n",
       "сделка с подержанным автомобилем          489\n",
       "свой автомобиль                           480\n",
       "на покупку подержанного автомобиля        479\n",
       "автомобили                                478\n",
       "на покупку автомобиля                     472\n",
       "дополнительное образование                462\n",
       "приобретение автомобиля                   462\n",
       "сделка с автомобилем                      455\n",
       "высшее образование                        453\n",
       "образование                               447\n",
       "получение дополнительного образования     447\n",
       "получение образования                     443\n",
       "профильное образование                    436\n",
       "получение высшего образования             426\n",
       "заняться образованием                     412\n",
       "Name: purpose, dtype: int64"
      ]
     },
     "execution_count": 23,
     "metadata": {},
     "output_type": "execute_result"
    }
   ],
   "source": [
    "df['purpose'].value_counts() # Просмотр уникальных значений целей получения кредита и подсчёт их количества "
   ]
  },
  {
   "cell_type": "markdown",
   "metadata": {},
   "source": [
    "В столбцах `family_status`, `gender` и `income_type` дубликатов не обнаружено, а ошибочное значение из столбца `gender` мы удалили\n",
    "<br>\n",
    "Дубликаты есть в столбцах `education` и `purpose`."
   ]
  },
  {
   "cell_type": "markdown",
   "metadata": {},
   "source": [
    "Сначала приведём к нижнему регистру значения в стобцах `education`, `family_status` и `gender`, чтобы весь `DataFrame` был в нижнем регистре:"
   ]
  },
  {
   "cell_type": "code",
   "execution_count": 24,
   "metadata": {},
   "outputs": [],
   "source": [
    "df['education'] = df['education'].str.lower() # Приводим к нижнему регистру столбец 'education'\n",
    "df['family_status'] = df['family_status'].str.lower() # Приводим к нижнему регистру столбец 'family_status'\n",
    "df['gender'] = df['gender'].str.lower() # Приводим к нижнему регистру столбец 'gender'"
   ]
  },
  {
   "cell_type": "markdown",
   "metadata": {},
   "source": [
    "Проверим остались ли дубликаты в столбце `education`:"
   ]
  },
  {
   "cell_type": "code",
   "execution_count": 25,
   "metadata": {},
   "outputs": [
    {
     "data": {
      "text/plain": [
       "среднее                15233\n",
       "высшее                  5260\n",
       "неоконченное высшее      744\n",
       "начальное                282\n",
       "ученая степень             6\n",
       "Name: education, dtype: int64"
      ]
     },
     "execution_count": 25,
     "metadata": {},
     "output_type": "execute_result"
    }
   ],
   "source": [
    "df['education'].value_counts() # Просмотр уникальных значений образования и подсчёт их количества"
   ]
  },
  {
   "cell_type": "markdown",
   "metadata": {},
   "source": [
    "**Вывод**"
   ]
  },
  {
   "cell_type": "markdown",
   "metadata": {},
   "source": [
    "Дубликаты из всех столбцов с типом `object` удалены, кроме столбца `purpose`, с данным столбцом мы будем работать в следующих пунктах.\n",
    "<br>\n",
    "<br>\n",
    "Поиск дубликатов осуществлялся методом `value_counts()`, а для удаления дубликатов в столбце `education` было достаточно воспользоваться методом `str.lower()`, чтобы привести все значения в столбце к нижнему регистру.\n",
    "<br>\n",
    "<br>\n",
    "Возможные причины появления дубликатов - это возможность в произвольной форме заполнять поля `education` и `purpose` со стороны потенциальных заёмщиков."
   ]
  },
  {
   "cell_type": "markdown",
   "metadata": {},
   "source": [
    "### Лемматизация"
   ]
  },
  {
   "cell_type": "markdown",
   "metadata": {},
   "source": [
    "Для дальнейшего создания нового столбца с категорезированными данными из столбца `purpose` воспользуемся изначально лемматизацией, чтобы привести слова к их словарной форме и посмотреть какие слова встречаются чаще всего.\n",
    "<br>\n",
    "Воспользуемся библиотекой `pymystem3`:"
   ]
  },
  {
   "cell_type": "code",
   "execution_count": 26,
   "metadata": {},
   "outputs": [
    {
     "name": "stdout",
     "output_type": "stream",
     "text": [
      "Wall time: 3.42 s\n"
     ]
    },
    {
     "data": {
      "text/plain": [
       "Counter({'покупка': 5912,\n",
       "         ' ': 55201,\n",
       "         'жилье': 4473,\n",
       "         'приобретение': 462,\n",
       "         'автомобиль': 4315,\n",
       "         'дополнительный': 909,\n",
       "         'образование': 4022,\n",
       "         'сыграть': 774,\n",
       "         'свадьба': 2348,\n",
       "         'операция': 2610,\n",
       "         'с': 2924,\n",
       "         'на': 2233,\n",
       "         'проведение': 777,\n",
       "         'для': 1294,\n",
       "         'семья': 641,\n",
       "         'недвижимость': 6367,\n",
       "         'коммерческий': 1315,\n",
       "         'жилой': 1233,\n",
       "         'строительство': 1881,\n",
       "         'собственный': 635,\n",
       "         'подержать': 858,\n",
       "         'свой': 2235,\n",
       "         'со': 630,\n",
       "         'заниматься': 908,\n",
       "         'сделка': 944,\n",
       "         'получение': 1316,\n",
       "         'высокий': 1375,\n",
       "         'подержанный': 110,\n",
       "         'профильный': 436,\n",
       "         'сдача': 653,\n",
       "         'ремонт': 612,\n",
       "         '\\n': 1})"
      ]
     },
     "execution_count": 26,
     "metadata": {},
     "output_type": "execute_result"
    }
   ],
   "source": [
    "%%time\n",
    "\n",
    "m = Mystem()\n",
    "\n",
    "str_porpose = ' '.join(df['purpose']) #Записываем все значения строк из столбца 'purpose' в одну строку через пробел\n",
    "lemmas = m.lemmatize(str_porpose) #Лемматизируем строку со всеми значениями, которую получили на предыдущем шаге из стобца 'purpose'\n",
    "Counter(lemmas) #Считаем число лемматизированные слов, чтобы выбрать наиболее встречающиеся причины"
   ]
  },
  {
   "cell_type": "markdown",
   "metadata": {},
   "source": [
    "**Вывод**"
   ]
  },
  {
   "cell_type": "markdown",
   "metadata": {},
   "source": [
    "По результатам леммитизации будем в следующем пункте делать категоризацию данных по части слов из леммитизации`'недвиж', 'автомоб', 'образов', 'свадьб', 'ремонт'`"
   ]
  },
  {
   "cell_type": "markdown",
   "metadata": {},
   "source": [
    "### Категоризация данных"
   ]
  },
  {
   "cell_type": "markdown",
   "metadata": {},
   "source": [
    "Чтобы удалить дубликаты в столбце `purpose` воспользуемся категоризацией по наиболее встречающимся словам, которые мы нашли в предыдущем пункте."
   ]
  },
  {
   "cell_type": "code",
   "execution_count": 27,
   "metadata": {},
   "outputs": [
    {
     "data": {
      "text/html": [
       "<div>\n",
       "<style scoped>\n",
       "    .dataframe tbody tr th:only-of-type {\n",
       "        vertical-align: middle;\n",
       "    }\n",
       "\n",
       "    .dataframe tbody tr th {\n",
       "        vertical-align: top;\n",
       "    }\n",
       "\n",
       "    .dataframe thead th {\n",
       "        text-align: right;\n",
       "    }\n",
       "</style>\n",
       "<table border=\"1\" class=\"dataframe\">\n",
       "  <thead>\n",
       "    <tr style=\"text-align: right;\">\n",
       "      <th></th>\n",
       "      <th>children</th>\n",
       "      <th>days_employed</th>\n",
       "      <th>dob_years</th>\n",
       "      <th>education</th>\n",
       "      <th>education_id</th>\n",
       "      <th>family_status</th>\n",
       "      <th>family_status_id</th>\n",
       "      <th>gender</th>\n",
       "      <th>income_type</th>\n",
       "      <th>debt</th>\n",
       "      <th>total_income</th>\n",
       "      <th>purpose</th>\n",
       "    </tr>\n",
       "  </thead>\n",
       "  <tbody>\n",
       "    <tr>\n",
       "      <th>0</th>\n",
       "      <td>1</td>\n",
       "      <td>8437</td>\n",
       "      <td>42</td>\n",
       "      <td>высшее</td>\n",
       "      <td>0</td>\n",
       "      <td>женат / замужем</td>\n",
       "      <td>0</td>\n",
       "      <td>f</td>\n",
       "      <td>сотрудник</td>\n",
       "      <td>0</td>\n",
       "      <td>253875</td>\n",
       "      <td>покупка недвижимости</td>\n",
       "    </tr>\n",
       "    <tr>\n",
       "      <th>1</th>\n",
       "      <td>1</td>\n",
       "      <td>4024</td>\n",
       "      <td>36</td>\n",
       "      <td>среднее</td>\n",
       "      <td>1</td>\n",
       "      <td>женат / замужем</td>\n",
       "      <td>0</td>\n",
       "      <td>f</td>\n",
       "      <td>сотрудник</td>\n",
       "      <td>0</td>\n",
       "      <td>112080</td>\n",
       "      <td>покупка автомобиля</td>\n",
       "    </tr>\n",
       "    <tr>\n",
       "      <th>2</th>\n",
       "      <td>0</td>\n",
       "      <td>5623</td>\n",
       "      <td>33</td>\n",
       "      <td>среднее</td>\n",
       "      <td>1</td>\n",
       "      <td>женат / замужем</td>\n",
       "      <td>0</td>\n",
       "      <td>m</td>\n",
       "      <td>сотрудник</td>\n",
       "      <td>0</td>\n",
       "      <td>145885</td>\n",
       "      <td>покупка недвижимости</td>\n",
       "    </tr>\n",
       "    <tr>\n",
       "      <th>3</th>\n",
       "      <td>3</td>\n",
       "      <td>4124</td>\n",
       "      <td>32</td>\n",
       "      <td>среднее</td>\n",
       "      <td>1</td>\n",
       "      <td>женат / замужем</td>\n",
       "      <td>0</td>\n",
       "      <td>m</td>\n",
       "      <td>сотрудник</td>\n",
       "      <td>0</td>\n",
       "      <td>267628</td>\n",
       "      <td>оптата образования</td>\n",
       "    </tr>\n",
       "    <tr>\n",
       "      <th>4</th>\n",
       "      <td>0</td>\n",
       "      <td>340266</td>\n",
       "      <td>53</td>\n",
       "      <td>среднее</td>\n",
       "      <td>1</td>\n",
       "      <td>гражданский брак</td>\n",
       "      <td>1</td>\n",
       "      <td>f</td>\n",
       "      <td>пенсионер</td>\n",
       "      <td>0</td>\n",
       "      <td>158616</td>\n",
       "      <td>оплата свадьбы</td>\n",
       "    </tr>\n",
       "    <tr>\n",
       "      <th>5</th>\n",
       "      <td>0</td>\n",
       "      <td>926</td>\n",
       "      <td>27</td>\n",
       "      <td>высшее</td>\n",
       "      <td>0</td>\n",
       "      <td>гражданский брак</td>\n",
       "      <td>1</td>\n",
       "      <td>m</td>\n",
       "      <td>компаньон</td>\n",
       "      <td>0</td>\n",
       "      <td>255763</td>\n",
       "      <td>покупка недвижимости</td>\n",
       "    </tr>\n",
       "    <tr>\n",
       "      <th>6</th>\n",
       "      <td>0</td>\n",
       "      <td>2879</td>\n",
       "      <td>43</td>\n",
       "      <td>высшее</td>\n",
       "      <td>0</td>\n",
       "      <td>женат / замужем</td>\n",
       "      <td>0</td>\n",
       "      <td>f</td>\n",
       "      <td>компаньон</td>\n",
       "      <td>0</td>\n",
       "      <td>240525</td>\n",
       "      <td>покупка недвижимости</td>\n",
       "    </tr>\n",
       "    <tr>\n",
       "      <th>7</th>\n",
       "      <td>0</td>\n",
       "      <td>152</td>\n",
       "      <td>50</td>\n",
       "      <td>среднее</td>\n",
       "      <td>1</td>\n",
       "      <td>женат / замужем</td>\n",
       "      <td>0</td>\n",
       "      <td>m</td>\n",
       "      <td>сотрудник</td>\n",
       "      <td>0</td>\n",
       "      <td>135823</td>\n",
       "      <td>оптата образования</td>\n",
       "    </tr>\n",
       "    <tr>\n",
       "      <th>8</th>\n",
       "      <td>2</td>\n",
       "      <td>6929</td>\n",
       "      <td>35</td>\n",
       "      <td>высшее</td>\n",
       "      <td>0</td>\n",
       "      <td>гражданский брак</td>\n",
       "      <td>1</td>\n",
       "      <td>f</td>\n",
       "      <td>сотрудник</td>\n",
       "      <td>0</td>\n",
       "      <td>95856</td>\n",
       "      <td>оплата свадьбы</td>\n",
       "    </tr>\n",
       "    <tr>\n",
       "      <th>9</th>\n",
       "      <td>0</td>\n",
       "      <td>2188</td>\n",
       "      <td>41</td>\n",
       "      <td>среднее</td>\n",
       "      <td>1</td>\n",
       "      <td>женат / замужем</td>\n",
       "      <td>0</td>\n",
       "      <td>m</td>\n",
       "      <td>сотрудник</td>\n",
       "      <td>0</td>\n",
       "      <td>144425</td>\n",
       "      <td>покупка недвижимости</td>\n",
       "    </tr>\n",
       "  </tbody>\n",
       "</table>\n",
       "</div>"
      ],
      "text/plain": [
       "   children  days_employed  dob_years education  education_id  \\\n",
       "0         1           8437         42    высшее             0   \n",
       "1         1           4024         36   среднее             1   \n",
       "2         0           5623         33   среднее             1   \n",
       "3         3           4124         32   среднее             1   \n",
       "4         0         340266         53   среднее             1   \n",
       "5         0            926         27    высшее             0   \n",
       "6         0           2879         43    высшее             0   \n",
       "7         0            152         50   среднее             1   \n",
       "8         2           6929         35    высшее             0   \n",
       "9         0           2188         41   среднее             1   \n",
       "\n",
       "      family_status  family_status_id gender income_type  debt  total_income  \\\n",
       "0   женат / замужем                 0      f   сотрудник     0        253875   \n",
       "1   женат / замужем                 0      f   сотрудник     0        112080   \n",
       "2   женат / замужем                 0      m   сотрудник     0        145885   \n",
       "3   женат / замужем                 0      m   сотрудник     0        267628   \n",
       "4  гражданский брак                 1      f   пенсионер     0        158616   \n",
       "5  гражданский брак                 1      m   компаньон     0        255763   \n",
       "6   женат / замужем                 0      f   компаньон     0        240525   \n",
       "7   женат / замужем                 0      m   сотрудник     0        135823   \n",
       "8  гражданский брак                 1      f   сотрудник     0         95856   \n",
       "9   женат / замужем                 0      m   сотрудник     0        144425   \n",
       "\n",
       "                purpose  \n",
       "0  покупка недвижимости  \n",
       "1    покупка автомобиля  \n",
       "2  покупка недвижимости  \n",
       "3    оптата образования  \n",
       "4        оплата свадьбы  \n",
       "5  покупка недвижимости  \n",
       "6  покупка недвижимости  \n",
       "7    оптата образования  \n",
       "8        оплата свадьбы  \n",
       "9  покупка недвижимости  "
      ]
     },
     "execution_count": 27,
     "metadata": {},
     "output_type": "execute_result"
    }
   ],
   "source": [
    "def purpose_new(row):  # создадим функцию которой передаём значение наиболее часто встречающихся слов\n",
    "    if 'автомоб' in row: # прописываем условие для покупки автомобиля\n",
    "        return 'покупка автомобиля'\n",
    "    elif 'ремонт' in row: # прописываем условие для оплаты ремонта\n",
    "        return 'оплата ремонта'\n",
    "    elif 'свадьб' in row: # прописываем условие для оплаты свадьбы\n",
    "        return 'оплата свадьбы'\n",
    "    elif 'образов' in row: # прописываем условие для оплаты образования\n",
    "        return 'оптата образования'\n",
    "    else: # прописываем условие для покупки недвижимости\n",
    "        return 'покупка недвижимости'\n",
    "    \n",
    "df['purpose'] = df['purpose'].apply(purpose_new) # с помощью функции apply перепишим значения в столбце 'purpose' используя функцию в которую прописали категоризацию\n",
    "\n",
    "df.head(10) # выведем для просмотра и дальнейшего исследования верхние 10 строк таблицы"
   ]
  },
  {
   "cell_type": "markdown",
   "metadata": {},
   "source": [
    "**Вывод**"
   ]
  },
  {
   "cell_type": "markdown",
   "metadata": {},
   "source": [
    "Данные приведены к единому стилю, удалены дубликаты, теперь можно приступить  к анализу данных и ответам на вопросы поставленные в описании проекта."
   ]
  },
  {
   "cell_type": "markdown",
   "metadata": {},
   "source": [
    "## Шаг 3. Ответьте на вопросы"
   ]
  },
  {
   "cell_type": "markdown",
   "metadata": {},
   "source": [
    "### Есть ли зависимость между наличием детей и возвратом кредита в срок?"
   ]
  },
  {
   "cell_type": "markdown",
   "metadata": {},
   "source": [
    "Изначально отфильтруем данные по наличию пропуска платежа и детям, чтобы изучить данные:"
   ]
  },
  {
   "cell_type": "code",
   "execution_count": 28,
   "metadata": {},
   "outputs": [
    {
     "data": {
      "text/plain": [
       "debt  children\n",
       "0     0           13086\n",
       "      1            4420\n",
       "      2            1861\n",
       "      3             303\n",
       "      20             68\n",
       "      4              37\n",
       "      5               9\n",
       "1     0            1063\n",
       "      1             445\n",
       "      2             194\n",
       "      3              27\n",
       "      20              8\n",
       "      4               4\n",
       "Name: children, dtype: int64"
      ]
     },
     "execution_count": 28,
     "metadata": {},
     "output_type": "execute_result"
    }
   ],
   "source": [
    "df.groupby('debt')['children'].value_counts()"
   ]
  },
  {
   "cell_type": "markdown",
   "metadata": {},
   "source": [
    "В данных есть подозрительное число детей в размере 20, но так как в задании не ставится вопрос о зависимости числа детей, то нас интересуют заёмщики с детьми или без детей, число детей при этом значение не имеет."
   ]
  },
  {
   "cell_type": "code",
   "execution_count": 29,
   "metadata": {},
   "outputs": [],
   "source": [
    "def children(kid): # создадим функцию которой передаём корректные значения в столбце 'children' и далее пропишем условия для каждого варианта возможного значения\n",
    "    if kid == 0:\n",
    "        return 0\n",
    "    if kid == 1:\n",
    "        return 1\n",
    "    if kid == 2:\n",
    "        return 2\n",
    "    if kid == 3:\n",
    "        return 3\n",
    "    if kid == 4:\n",
    "        return 4\n",
    "    if kid == 5:\n",
    "        return 5\n",
    "    if kid == 20:\n",
    "        return 2        \n",
    "df['children'] = df['children'].apply(children) # с помощью функции apply перепишим значения в столбце 'children' используя функцию в которую прописали более подходящее значения\n"
   ]
  },
  {
   "cell_type": "markdown",
   "metadata": {},
   "source": [
    "Изначально отфильтруем данные по наличию пропуска платежа и детям с учётом исправленных данных по числу детей, чтобы изучить данные повторно:"
   ]
  },
  {
   "cell_type": "code",
   "execution_count": 30,
   "metadata": {},
   "outputs": [
    {
     "data": {
      "text/plain": [
       "debt  children\n",
       "0     0           13086\n",
       "      1            4420\n",
       "      2            1929\n",
       "      3             303\n",
       "      4              37\n",
       "      5               9\n",
       "1     0            1063\n",
       "      1             445\n",
       "      2             202\n",
       "      3              27\n",
       "      4               4\n",
       "Name: children, dtype: int64"
      ]
     },
     "execution_count": 30,
     "metadata": {},
     "output_type": "execute_result"
    }
   ],
   "source": [
    "df.groupby('debt')['children'].value_counts()"
   ]
  },
  {
   "cell_type": "markdown",
   "metadata": {},
   "source": [
    "Найдем процентное отношение заёмщиков, которые пропустили платёж без детей:"
   ]
  },
  {
   "cell_type": "code",
   "execution_count": 31,
   "metadata": {},
   "outputs": [
    {
     "data": {
      "text/plain": [
       "0.0751289843805216"
      ]
     },
     "execution_count": 31,
     "metadata": {},
     "output_type": "execute_result"
    }
   ],
   "source": [
    "no_children = df[df['children'] == 0]['debt'].sum() / df[df['children'] == 0]['debt'].count()\n",
    "no_children"
   ]
  },
  {
   "cell_type": "markdown",
   "metadata": {},
   "source": [
    "Найдем процентное отношение заёмщиков, которые пропустили платёж и имеют детей:"
   ]
  },
  {
   "cell_type": "code",
   "execution_count": 32,
   "metadata": {},
   "outputs": [
    {
     "data": {
      "text/plain": [
       "0.09191973969631237"
      ]
     },
     "execution_count": 32,
     "metadata": {},
     "output_type": "execute_result"
    }
   ],
   "source": [
    "have_children = df[df['children'] != 0]['debt'].sum() / df[df['children'] != 0]['debt'].count()\n",
    "have_children"
   ]
  },
  {
   "cell_type": "markdown",
   "metadata": {},
   "source": [
    "Теперь посчитаем на сколько процентов чаще допускаю просрочку заёмщики с детьми:"
   ]
  },
  {
   "cell_type": "code",
   "execution_count": 33,
   "metadata": {},
   "outputs": [
    {
     "data": {
      "text/plain": [
       "1.2234923771995518"
      ]
     },
     "execution_count": 33,
     "metadata": {},
     "output_type": "execute_result"
    }
   ],
   "source": [
    "(df[df['children'] != 0]['debt'].sum() / df[df['children'] != 0]['debt'].count()) / (df[df['children'] == 0]['debt'].sum() / df[df['children'] == 0]['debt'].count())"
   ]
  },
  {
   "cell_type": "markdown",
   "metadata": {},
   "source": [
    "**Вывод**"
   ]
  },
  {
   "cell_type": "markdown",
   "metadata": {},
   "source": [
    "Из полученных значений можно сделать вывод, что наличие детей влияет на возврат кредита в срок, тк заёмщики без детей допускают просрочку в 7,51% случаев, а заёмщики с детьми в 9,19% случаем.\n",
    "<br>\n",
    "<br>\n",
    "Получается, что заёмщики с детьми допускают просрочки на 22,35% чаще, чем заёмщики без детей.\n",
    "<br>\n",
    "<br>"
   ]
  },
  {
   "cell_type": "markdown",
   "metadata": {},
   "source": [
    "### Есть ли зависимость между семейным положением и возвратом кредита в срок?"
   ]
  },
  {
   "cell_type": "markdown",
   "metadata": {},
   "source": [
    "Изначально отфильтруем данные по наличию пропуска платежа и семейному положению, чтобы изучить данные:"
   ]
  },
  {
   "cell_type": "code",
   "execution_count": 34,
   "metadata": {},
   "outputs": [
    {
     "data": {
      "text/plain": [
       "debt  family_status        \n",
       "0     женат / замужем          11449\n",
       "      гражданский брак          3789\n",
       "      не женат / не замужем     2539\n",
       "      в разводе                 1110\n",
       "      вдовец / вдова             897\n",
       "1     женат / замужем            931\n",
       "      гражданский брак           388\n",
       "      не женат / не замужем      274\n",
       "      в разводе                   85\n",
       "      вдовец / вдова              63\n",
       "Name: family_status, dtype: int64"
      ]
     },
     "execution_count": 34,
     "metadata": {},
     "output_type": "execute_result"
    }
   ],
   "source": [
    "df.groupby('debt')['family_status'].value_counts()"
   ]
  },
  {
   "cell_type": "markdown",
   "metadata": {},
   "source": [
    "Найдем процентное отношение заёмщиков, которые пропустили платёж и при этом женаты/замужем:"
   ]
  },
  {
   "cell_type": "code",
   "execution_count": 35,
   "metadata": {},
   "outputs": [
    {
     "data": {
      "text/plain": [
       "0.07520193861066236"
      ]
     },
     "execution_count": 35,
     "metadata": {},
     "output_type": "execute_result"
    }
   ],
   "source": [
    "debt_marriage = df[df['family_status'] == 'женат / замужем']['debt'].sum() / df[df['family_status'] == 'женат / замужем']['debt'].count()\n",
    "debt_marriage"
   ]
  },
  {
   "cell_type": "markdown",
   "metadata": {},
   "source": [
    "Найдем процентное отношение заёмщиков, которые пропустили и при этом в гражданском браке:"
   ]
  },
  {
   "cell_type": "code",
   "execution_count": 36,
   "metadata": {},
   "outputs": [
    {
     "data": {
      "text/plain": [
       "0.09288963370840315"
      ]
     },
     "execution_count": 36,
     "metadata": {},
     "output_type": "execute_result"
    }
   ],
   "source": [
    "debt_civil_marriage = df[df['family_status'] == 'гражданский брак']['debt'].sum() / df[df['family_status'] == 'гражданский брак']['debt'].count()\n",
    "debt_civil_marriage"
   ]
  },
  {
   "cell_type": "markdown",
   "metadata": {},
   "source": [
    "Найдем процентное отношение заёмщиков, которые пропустили и при этом не женаты / не замужем:"
   ]
  },
  {
   "cell_type": "code",
   "execution_count": 37,
   "metadata": {},
   "outputs": [
    {
     "data": {
      "text/plain": [
       "0.09740490579452542"
      ]
     },
     "execution_count": 37,
     "metadata": {},
     "output_type": "execute_result"
    }
   ],
   "source": [
    "debt_not_married = df[df['family_status'] == 'не женат / не замужем']['debt'].sum() / df[df['family_status'] == 'не женат / не замужем']['debt'].count()\n",
    "debt_not_married"
   ]
  },
  {
   "cell_type": "markdown",
   "metadata": {},
   "source": [
    "Найдем процентное отношение заёмщиков, которые пропустили и при этом в разводе:"
   ]
  },
  {
   "cell_type": "code",
   "execution_count": 38,
   "metadata": {},
   "outputs": [
    {
     "data": {
      "text/plain": [
       "0.07112970711297072"
      ]
     },
     "execution_count": 38,
     "metadata": {},
     "output_type": "execute_result"
    }
   ],
   "source": [
    "debt_divorce = df[df['family_status'] == 'в разводе']['debt'].sum() / df[df['family_status'] == 'в разводе']['debt'].count()\n",
    "debt_divorce"
   ]
  },
  {
   "cell_type": "markdown",
   "metadata": {},
   "source": [
    "Найдем процентное отношение заёмщиков, которые пропустили и при этом являются вдовцом / вдовой:"
   ]
  },
  {
   "cell_type": "code",
   "execution_count": 39,
   "metadata": {},
   "outputs": [
    {
     "data": {
      "text/plain": [
       "0.065625"
      ]
     },
     "execution_count": 39,
     "metadata": {},
     "output_type": "execute_result"
    }
   ],
   "source": [
    "debt_widowers = df[df['family_status'] == 'вдовец / вдова']['debt'].sum() / df[df['family_status'] == 'вдовец / вдова']['debt'].count()\n",
    "debt_widowers"
   ]
  },
  {
   "cell_type": "markdown",
   "metadata": {},
   "source": [
    "**Вывод**"
   ]
  },
  {
   "cell_type": "markdown",
   "metadata": {},
   "source": [
    "Из полученных значений можно сделать вывод, что семейное положение влияет на возврат кредита в срок. \n",
    "<br>\n",
    "Процент просрочек при различных семейных положениях выглядит так:"
   ]
  },
  {
   "cell_type": "code",
   "execution_count": 40,
   "metadata": {},
   "outputs": [
    {
     "data": {
      "text/html": [
       "<div>\n",
       "<style scoped>\n",
       "    .dataframe tbody tr th:only-of-type {\n",
       "        vertical-align: middle;\n",
       "    }\n",
       "\n",
       "    .dataframe tbody tr th {\n",
       "        vertical-align: top;\n",
       "    }\n",
       "\n",
       "    .dataframe thead th {\n",
       "        text-align: right;\n",
       "    }\n",
       "</style>\n",
       "<table border=\"1\" class=\"dataframe\">\n",
       "  <thead>\n",
       "    <tr style=\"text-align: right;\">\n",
       "      <th></th>\n",
       "      <th>count</th>\n",
       "      <th>sum</th>\n",
       "      <th>my_mean</th>\n",
       "    </tr>\n",
       "    <tr>\n",
       "      <th>family_status</th>\n",
       "      <th></th>\n",
       "      <th></th>\n",
       "      <th></th>\n",
       "    </tr>\n",
       "  </thead>\n",
       "  <tbody>\n",
       "    <tr>\n",
       "      <th>в разводе</th>\n",
       "      <td>1195</td>\n",
       "      <td>85</td>\n",
       "      <td>7.11%</td>\n",
       "    </tr>\n",
       "    <tr>\n",
       "      <th>вдовец / вдова</th>\n",
       "      <td>960</td>\n",
       "      <td>63</td>\n",
       "      <td>6.56%</td>\n",
       "    </tr>\n",
       "    <tr>\n",
       "      <th>гражданский брак</th>\n",
       "      <td>4177</td>\n",
       "      <td>388</td>\n",
       "      <td>9.29%</td>\n",
       "    </tr>\n",
       "    <tr>\n",
       "      <th>женат / замужем</th>\n",
       "      <td>12380</td>\n",
       "      <td>931</td>\n",
       "      <td>7.52%</td>\n",
       "    </tr>\n",
       "    <tr>\n",
       "      <th>не женат / не замужем</th>\n",
       "      <td>2813</td>\n",
       "      <td>274</td>\n",
       "      <td>9.74%</td>\n",
       "    </tr>\n",
       "  </tbody>\n",
       "</table>\n",
       "</div>"
      ],
      "text/plain": [
       "                       count  sum my_mean\n",
       "family_status                            \n",
       "в разводе               1195   85  7.11% \n",
       "вдовец / вдова           960   63  6.56% \n",
       "гражданский брак        4177  388  9.29% \n",
       "женат / замужем        12380  931  7.52% \n",
       "не женат / не замужем   2813  274  9.74% "
      ]
     },
     "execution_count": 40,
     "metadata": {},
     "output_type": "execute_result"
    }
   ],
   "source": [
    "def my_mean(x): return '{:.2%} '.format(x.mean())\n",
    "\n",
    "df.groupby('family_status')['debt'].agg(['count', 'sum', my_mean])"
   ]
  },
  {
   "cell_type": "markdown",
   "metadata": {},
   "source": [
    "В диапазон более надёжных заёмщиков попали люди, которые были в официальном браке ранее (вдовы/вдовцы и разведённые) и которые находятся сейчас в браке, диапазон значений просрочки у них от 6,56% до 7,52%.\n",
    "<br>\n",
    "<br>\n",
    "Наименее надёжными заёмщиками являются люди, которые никогда не были в официальном браке (гражданский брак и не женат/не замужем), диапазон значений просрочки у них значительно выше от 9,29% до 9,74%.\n",
    "<br>\n",
    "<br>\n",
    "Получается, что есть прямая зависимость семейного положения клиента и процента просрочек. Люди, которые были в официальном браке являются значительно более ответственными и как следствие более надёжными заёмщиками.\n",
    "<br>\n",
    "<br>\n",
    "Сгруппируем всех заёмщиков в 2 категории, кто был в официальном браке и кто никогда не был, а далее найдём среднее значение группы и посчитаем на сколько процентов больше допускают просрочку люди, которые никогда не были в официальном браке:"
   ]
  },
  {
   "cell_type": "code",
   "execution_count": 41,
   "metadata": {},
   "outputs": [
    {
     "data": {
      "text/plain": [
       "1.3466990302657267"
      ]
     },
     "execution_count": 41,
     "metadata": {},
     "output_type": "execute_result"
    }
   ],
   "source": [
    "((debt_civil_marriage + debt_not_married)/2) / ((debt_marriage + debt_divorce + debt_widowers)/3)"
   ]
  },
  {
   "cell_type": "markdown",
   "metadata": {},
   "source": [
    "Получается, что в среднем заёмщики, которые не был никогда в официальном браке допускают просрочку на 34,67% чаще, чем заёмщики которые находятся или были ранее в официальном браке. "
   ]
  },
  {
   "cell_type": "markdown",
   "metadata": {},
   "source": [
    "###  Есть ли зависимость между уровнем дохода и возвратом кредита в срок?"
   ]
  },
  {
   "cell_type": "markdown",
   "metadata": {},
   "source": [
    "Изначально отфильтруем данные по наличию пропуска платежа и ежемесячному доходу, чтобы изучить данные:"
   ]
  },
  {
   "cell_type": "code",
   "execution_count": 42,
   "metadata": {},
   "outputs": [
    {
     "data": {
      "text/plain": [
       "debt  total_income\n",
       "0     142594          1007\n",
       "      172357           479\n",
       "      118514           379\n",
       "      150447           140\n",
       "      92764              3\n",
       "                      ... \n",
       "1     711866             1\n",
       "      822426             1\n",
       "      866784             1\n",
       "      1030899            1\n",
       "      2200852            1\n",
       "Name: total_income, Length: 18726, dtype: int64"
      ]
     },
     "execution_count": 42,
     "metadata": {},
     "output_type": "execute_result"
    }
   ],
   "source": [
    "df.groupby('debt')['total_income'].value_counts()"
   ]
  },
  {
   "cell_type": "markdown",
   "metadata": {},
   "source": [
    "Есть несколько больших групп с одинаковым доходом (118514, 142594, 150447, 172357), попробуем на них проверить гипотезу касательно зависимости возврата кредита в срок от уровня дохода"
   ]
  },
  {
   "cell_type": "code",
   "execution_count": 43,
   "metadata": {},
   "outputs": [
    {
     "data": {
      "text/plain": [
       "0.08454106280193237"
      ]
     },
     "execution_count": 43,
     "metadata": {},
     "output_type": "execute_result"
    }
   ],
   "source": [
    "df[df['total_income'] == 118514]['debt'].sum() / df[df['total_income'] == 118514]['debt'].count()"
   ]
  },
  {
   "cell_type": "code",
   "execution_count": 44,
   "metadata": {},
   "outputs": [
    {
     "data": {
      "text/plain": [
       "0.08868778280542987"
      ]
     },
     "execution_count": 44,
     "metadata": {},
     "output_type": "execute_result"
    }
   ],
   "source": [
    "df[df['total_income'] == 142594]['debt'].sum() / df[df['total_income'] == 142594]['debt'].count()"
   ]
  },
  {
   "cell_type": "code",
   "execution_count": 45,
   "metadata": {},
   "outputs": [
    {
     "data": {
      "text/plain": [
       "0.047619047619047616"
      ]
     },
     "execution_count": 45,
     "metadata": {},
     "output_type": "execute_result"
    }
   ],
   "source": [
    "df[df['total_income'] == 150447]['debt'].sum() / df[df['total_income'] == 150447]['debt'].count()"
   ]
  },
  {
   "cell_type": "code",
   "execution_count": 46,
   "metadata": {},
   "outputs": [
    {
     "data": {
      "text/plain": [
       "0.05893909626719057"
      ]
     },
     "execution_count": 46,
     "metadata": {},
     "output_type": "execute_result"
    }
   ],
   "source": [
    "df[df['total_income'] == 172357]['debt'].sum() / df[df['total_income'] == 172357]['debt'].count()"
   ]
  },
  {
   "cell_type": "markdown",
   "metadata": {},
   "source": [
    "Кроме этого возьмём для расчёта минимальное, медианное и максимальное значение столбца и для данных значений тоже проверим гипотезу:"
   ]
  },
  {
   "cell_type": "code",
   "execution_count": 47,
   "metadata": {},
   "outputs": [
    {
     "data": {
      "text/plain": [
       "20667"
      ]
     },
     "execution_count": 47,
     "metadata": {},
     "output_type": "execute_result"
    }
   ],
   "source": [
    "df['total_income'].min()"
   ]
  },
  {
   "cell_type": "code",
   "execution_count": 48,
   "metadata": {},
   "outputs": [
    {
     "data": {
      "text/plain": [
       "1.0"
      ]
     },
     "execution_count": 48,
     "metadata": {},
     "output_type": "execute_result"
    }
   ],
   "source": [
    "df[df['total_income'] == 20667]['debt'].sum() / df[df['total_income'] == 20667]['debt'].count()"
   ]
  },
  {
   "cell_type": "code",
   "execution_count": 49,
   "metadata": {},
   "outputs": [
    {
     "data": {
      "text/plain": [
       "142594.0"
      ]
     },
     "execution_count": 49,
     "metadata": {},
     "output_type": "execute_result"
    }
   ],
   "source": [
    "df['total_income'].median()"
   ]
  },
  {
   "cell_type": "code",
   "execution_count": 50,
   "metadata": {},
   "outputs": [
    {
     "data": {
      "text/plain": [
       "0.08868778280542987"
      ]
     },
     "execution_count": 50,
     "metadata": {},
     "output_type": "execute_result"
    }
   ],
   "source": [
    "df[df['total_income'] == 142594]['debt'].sum() / df[df['total_income'] == 142594]['debt'].count()"
   ]
  },
  {
   "cell_type": "code",
   "execution_count": 51,
   "metadata": {},
   "outputs": [
    {
     "data": {
      "text/plain": [
       "2265604"
      ]
     },
     "execution_count": 51,
     "metadata": {},
     "output_type": "execute_result"
    }
   ],
   "source": [
    "df['total_income'].max()"
   ]
  },
  {
   "cell_type": "code",
   "execution_count": 52,
   "metadata": {},
   "outputs": [
    {
     "data": {
      "text/plain": [
       "0.0"
      ]
     },
     "execution_count": 52,
     "metadata": {},
     "output_type": "execute_result"
    }
   ],
   "source": [
    "df[df['total_income'] == 2265604]['debt'].sum() / df[df['total_income'] == 2265604]['debt'].count()"
   ]
  },
  {
   "cell_type": "markdown",
   "metadata": {},
   "source": [
    "Разделим доход всех заёмщиков на 4 категорий. Возьмём медианное значение всего списка, а затем ещё раз применим медианное значение к двум полученным диапазонам:"
   ]
  },
  {
   "cell_type": "code",
   "execution_count": 53,
   "metadata": {},
   "outputs": [
    {
     "data": {
      "text/plain": [
       "142594.0"
      ]
     },
     "execution_count": 53,
     "metadata": {},
     "output_type": "execute_result"
    }
   ],
   "source": [
    "category_2 = df['total_income'].median() # медианное значение всего списка\n",
    "category_2"
   ]
  },
  {
   "cell_type": "code",
   "execution_count": 54,
   "metadata": {},
   "outputs": [
    {
     "data": {
      "text/plain": [
       "108301.0"
      ]
     },
     "execution_count": 54,
     "metadata": {},
     "output_type": "execute_result"
    }
   ],
   "source": [
    "df_median_1 = df[df['total_income'] <= category_2]\n",
    "category_1 = df_median_1['total_income'].median() # медианное значение первой половины списка\n",
    "category_1"
   ]
  },
  {
   "cell_type": "code",
   "execution_count": 55,
   "metadata": {},
   "outputs": [
    {
     "data": {
      "text/plain": [
       "188383.0"
      ]
     },
     "execution_count": 55,
     "metadata": {},
     "output_type": "execute_result"
    }
   ],
   "source": [
    "df_median_2 = df[df['total_income'] >= category_2]\n",
    "category_3 = df_median_2['total_income'].median() # медианное значение второй половины списка\n",
    "category_3"
   ]
  },
  {
   "cell_type": "markdown",
   "metadata": {},
   "source": [
    "Считаем процент  невозврата для первой категории от минимального значения дохода до медианного значения первой половины списка:"
   ]
  },
  {
   "cell_type": "code",
   "execution_count": 56,
   "metadata": {},
   "outputs": [
    {
     "data": {
      "text/plain": [
       "0.07995598752980011"
      ]
     },
     "execution_count": 56,
     "metadata": {},
     "output_type": "execute_result"
    }
   ],
   "source": [
    "percent_1 = df[df['total_income'] <= category_1]['debt'].sum() / df[df['total_income'] <= category_1]['debt'].count() # процент невозврата первой категории\n",
    "percent_1"
   ]
  },
  {
   "cell_type": "markdown",
   "metadata": {},
   "source": [
    "Считаем процент  невозврата для второй категории от медианного значения первой половины списка дохода до медианного значения всего списка:"
   ]
  },
  {
   "cell_type": "code",
   "execution_count": 57,
   "metadata": {},
   "outputs": [
    {
     "data": {
      "text/plain": [
       "0.08692462864478269"
      ]
     },
     "execution_count": 57,
     "metadata": {},
     "output_type": "execute_result"
    }
   ],
   "source": [
    "percent_2 = df[(df['total_income'] >= category_1) & (df['total_income'] <= category_2)]['debt'].sum() / df[(df['total_income'] >= category_1) & (df['total_income'] <= category_2)]['debt'].count()# процент невозврата второй категории\n",
    "percent_2"
   ]
  },
  {
   "cell_type": "markdown",
   "metadata": {},
   "source": [
    "Считаем процент  невозврата для третьей категории от медианного значения всего списка до медианного значения второй половины :"
   ]
  },
  {
   "cell_type": "code",
   "execution_count": 58,
   "metadata": {},
   "outputs": [
    {
     "data": {
      "text/plain": [
       "0.08459832850076753"
      ]
     },
     "execution_count": 58,
     "metadata": {},
     "output_type": "execute_result"
    }
   ],
   "source": [
    "percent_3 = df[(df['total_income'] >= category_2) & (df['total_income'] <= category_3)]['debt'].sum() / df[(df['total_income'] >= category_2) & (df['total_income'] <= category_3)]['debt'].count()# процент невозврата третьей категории\n",
    "percent_3"
   ]
  },
  {
   "cell_type": "markdown",
   "metadata": {},
   "source": [
    "Считаем процент невозврата для четвёртой категории от медианного значения второй половины списка до максимального значения дохода:"
   ]
  },
  {
   "cell_type": "code",
   "execution_count": 59,
   "metadata": {},
   "outputs": [
    {
     "data": {
      "text/plain": [
       "0.07385297629200069"
      ]
     },
     "execution_count": 59,
     "metadata": {},
     "output_type": "execute_result"
    }
   ],
   "source": [
    "percent_4 = df[df['total_income'] >= category_3]['debt'].sum() / df[df['total_income'] >= category_3]['debt'].count()# процент невозврата третьей категории\n",
    "percent_4"
   ]
  },
  {
   "cell_type": "markdown",
   "metadata": {},
   "source": [
    "Сведём полученные значения просрочек для  каждого диапазона дохода в таблицу:"
   ]
  },
  {
   "cell_type": "code",
   "execution_count": 60,
   "metadata": {
    "scrolled": true
   },
   "outputs": [
    {
     "data": {
      "text/html": [
       "<div>\n",
       "<style scoped>\n",
       "    .dataframe tbody tr th:only-of-type {\n",
       "        vertical-align: middle;\n",
       "    }\n",
       "\n",
       "    .dataframe tbody tr th {\n",
       "        vertical-align: top;\n",
       "    }\n",
       "\n",
       "    .dataframe thead th {\n",
       "        text-align: right;\n",
       "    }\n",
       "</style>\n",
       "<table border=\"1\" class=\"dataframe\">\n",
       "  <thead>\n",
       "    <tr style=\"text-align: right;\">\n",
       "      <th></th>\n",
       "      <th>total_income_min</th>\n",
       "      <th>total_income_max</th>\n",
       "      <th>delay</th>\n",
       "    </tr>\n",
       "  </thead>\n",
       "  <tbody>\n",
       "    <tr>\n",
       "      <th>0</th>\n",
       "      <td>20667.0</td>\n",
       "      <td>108301.0</td>\n",
       "      <td>0.079956</td>\n",
       "    </tr>\n",
       "    <tr>\n",
       "      <th>1</th>\n",
       "      <td>108301.0</td>\n",
       "      <td>142594.0</td>\n",
       "      <td>0.086925</td>\n",
       "    </tr>\n",
       "    <tr>\n",
       "      <th>2</th>\n",
       "      <td>142594.0</td>\n",
       "      <td>188383.0</td>\n",
       "      <td>0.084598</td>\n",
       "    </tr>\n",
       "    <tr>\n",
       "      <th>3</th>\n",
       "      <td>188383.0</td>\n",
       "      <td>2265604.0</td>\n",
       "      <td>0.073853</td>\n",
       "    </tr>\n",
       "  </tbody>\n",
       "</table>\n",
       "</div>"
      ],
      "text/plain": [
       "   total_income_min  total_income_max     delay\n",
       "0           20667.0          108301.0  0.079956\n",
       "1          108301.0          142594.0  0.086925\n",
       "2          142594.0          188383.0  0.084598\n",
       "3          188383.0         2265604.0  0.073853"
      ]
     },
     "metadata": {},
     "output_type": "display_data"
    }
   ],
   "source": [
    "columns = ['total_income_min', 'total_income_max', 'delay']\n",
    "data = [[int(df['total_income'].min()), category_1, percent_1], \n",
    "        [category_1, category_2, percent_2], \n",
    "        [category_2, category_3, percent_3], \n",
    "        [category_3, int(df['total_income'].max()), percent_4]]\n",
    "\n",
    "display(pd.DataFrame(data=data, columns=columns))"
   ]
  },
  {
   "cell_type": "markdown",
   "metadata": {},
   "source": [
    "**Вывод**"
   ]
  },
  {
   "cell_type": "markdown",
   "metadata": {},
   "source": [
    "На основании полученых данных можно сделать вывод, что доход не слишком значительно и не прямо пропорционально влияет на возврат кредита в срок. \n",
    "<br>\n",
    "<br>\n",
    "Наименьший процент просрочки - 7,39% у клиентов с наибольшим доходом, при этом наибольший процент просрочки - 8,69% у клиентов второй категории, то есть не у клиентов с наименьшим доходом. \n",
    "<br>\n",
    "<br>\n",
    "И в целом получившиеся значения просрочки с разбивкой по категориям дохода имеет гораздо меньший разбег значений, чем в предыдущих исследованиях."
   ]
  },
  {
   "cell_type": "markdown",
   "metadata": {},
   "source": [
    "### Как разные цели кредита влияют на его возврат в срок?"
   ]
  },
  {
   "cell_type": "markdown",
   "metadata": {},
   "source": [
    "Изначально отфильтруем данные по наличию пропуска платежа и цели кредита, чтобы изучить данные:"
   ]
  },
  {
   "cell_type": "code",
   "execution_count": 61,
   "metadata": {},
   "outputs": [
    {
     "data": {
      "text/plain": [
       "purpose               debt\n",
       "оплата ремонта        0        577\n",
       "                      1         35\n",
       "оплата свадьбы        0       2162\n",
       "                      1        186\n",
       "оптата образования    0       3652\n",
       "                      1        370\n",
       "покупка автомобиля    0       3912\n",
       "                      1        403\n",
       "покупка недвижимости  0       9481\n",
       "                      1        747\n",
       "Name: debt, dtype: int64"
      ]
     },
     "execution_count": 61,
     "metadata": {},
     "output_type": "execute_result"
    }
   ],
   "source": [
    "df.groupby('purpose')['debt'].value_counts()"
   ]
  },
  {
   "cell_type": "markdown",
   "metadata": {},
   "source": [
    "Найдем процентное отношение заёмщиков, которые пропустили платёж с целью кредита \"покупка недвижимости\":"
   ]
  },
  {
   "cell_type": "code",
   "execution_count": 62,
   "metadata": {},
   "outputs": [
    {
     "data": {
      "text/plain": [
       "0.07303480641376613"
      ]
     },
     "execution_count": 62,
     "metadata": {},
     "output_type": "execute_result"
    }
   ],
   "source": [
    "df[df['purpose'] == 'покупка недвижимости']['debt'].sum() / df[df['purpose'] == 'покупка недвижимости']['debt'].count()"
   ]
  },
  {
   "cell_type": "markdown",
   "metadata": {},
   "source": [
    "Найдем процентное отношение заёмщиков, которые пропустили платёж с целью кредита \"покупка автомобиля\":"
   ]
  },
  {
   "cell_type": "code",
   "execution_count": 63,
   "metadata": {},
   "outputs": [
    {
     "data": {
      "text/plain": [
       "0.09339513325608342"
      ]
     },
     "execution_count": 63,
     "metadata": {},
     "output_type": "execute_result"
    }
   ],
   "source": [
    "car = df[df['purpose'] == 'покупка автомобиля']['debt'].sum() / df[df['purpose'] == 'покупка автомобиля']['debt'].count()\n",
    "car"
   ]
  },
  {
   "cell_type": "markdown",
   "metadata": {},
   "source": [
    "Найдем процентное отношение заёмщиков, которые пропустили платёж с целью кредита \"оптата образования\":"
   ]
  },
  {
   "cell_type": "code",
   "execution_count": 64,
   "metadata": {},
   "outputs": [
    {
     "data": {
      "text/plain": [
       "0.0919940328194928"
      ]
     },
     "execution_count": 64,
     "metadata": {},
     "output_type": "execute_result"
    }
   ],
   "source": [
    "df[df['purpose'] == 'оптата образования']['debt'].sum() / df[df['purpose'] == 'оптата образования']['debt'].count()\n"
   ]
  },
  {
   "cell_type": "markdown",
   "metadata": {},
   "source": [
    "Найдем процентное отношение заёмщиков, которые пропустили платёж с целью кредита \"оплата свадьбы\":"
   ]
  },
  {
   "cell_type": "code",
   "execution_count": 65,
   "metadata": {},
   "outputs": [
    {
     "data": {
      "text/plain": [
       "0.07921635434412266"
      ]
     },
     "execution_count": 65,
     "metadata": {},
     "output_type": "execute_result"
    }
   ],
   "source": [
    "df[df['purpose'] == 'оплата свадьбы']['debt'].sum() / df[df['purpose'] == 'оплата свадьбы']['debt'].count()"
   ]
  },
  {
   "cell_type": "markdown",
   "metadata": {},
   "source": [
    "Найдем процентное отношение заёмщиков, которые пропустили платёж с целью кредита \"оплата ремонта\":"
   ]
  },
  {
   "cell_type": "code",
   "execution_count": 66,
   "metadata": {},
   "outputs": [
    {
     "data": {
      "text/plain": [
       "0.05718954248366013"
      ]
     },
     "execution_count": 66,
     "metadata": {},
     "output_type": "execute_result"
    }
   ],
   "source": [
    "repair = df[df['purpose'] == 'оплата ремонта']['debt'].sum() / df[df['purpose'] == 'оплата ремонта']['debt'].count()\n",
    "repair"
   ]
  },
  {
   "cell_type": "markdown",
   "metadata": {},
   "source": [
    "В столбце `debt` единицами обозначено наличие задолженности. Нулем — ее отсутствие. Так, сумма столбца будет равна сумме единичек или числу должников, а применение метода `count` вернет общее количество кредитов. Таким образом, для поиска доли должников надо разделить сумму на количество, а это не что иное, как среднее. Можно это сделать в одной группировке:"
   ]
  },
  {
   "cell_type": "code",
   "execution_count": 67,
   "metadata": {},
   "outputs": [
    {
     "data": {
      "text/html": [
       "<div>\n",
       "<style scoped>\n",
       "    .dataframe tbody tr th:only-of-type {\n",
       "        vertical-align: middle;\n",
       "    }\n",
       "\n",
       "    .dataframe tbody tr th {\n",
       "        vertical-align: top;\n",
       "    }\n",
       "\n",
       "    .dataframe thead th {\n",
       "        text-align: right;\n",
       "    }\n",
       "</style>\n",
       "<table border=\"1\" class=\"dataframe\">\n",
       "  <thead>\n",
       "    <tr style=\"text-align: right;\">\n",
       "      <th></th>\n",
       "      <th>count</th>\n",
       "      <th>sum</th>\n",
       "      <th>my_mean</th>\n",
       "    </tr>\n",
       "    <tr>\n",
       "      <th>purpose</th>\n",
       "      <th></th>\n",
       "      <th></th>\n",
       "      <th></th>\n",
       "    </tr>\n",
       "  </thead>\n",
       "  <tbody>\n",
       "    <tr>\n",
       "      <th>оплата ремонта</th>\n",
       "      <td>612</td>\n",
       "      <td>35</td>\n",
       "      <td>5.72%</td>\n",
       "    </tr>\n",
       "    <tr>\n",
       "      <th>оплата свадьбы</th>\n",
       "      <td>2348</td>\n",
       "      <td>186</td>\n",
       "      <td>7.92%</td>\n",
       "    </tr>\n",
       "    <tr>\n",
       "      <th>оптата образования</th>\n",
       "      <td>4022</td>\n",
       "      <td>370</td>\n",
       "      <td>9.20%</td>\n",
       "    </tr>\n",
       "    <tr>\n",
       "      <th>покупка автомобиля</th>\n",
       "      <td>4315</td>\n",
       "      <td>403</td>\n",
       "      <td>9.34%</td>\n",
       "    </tr>\n",
       "    <tr>\n",
       "      <th>покупка недвижимости</th>\n",
       "      <td>10228</td>\n",
       "      <td>747</td>\n",
       "      <td>7.30%</td>\n",
       "    </tr>\n",
       "  </tbody>\n",
       "</table>\n",
       "</div>"
      ],
      "text/plain": [
       "                      count  sum my_mean\n",
       "purpose                                 \n",
       "оплата ремонта          612   35  5.72% \n",
       "оплата свадьбы         2348  186  7.92% \n",
       "оптата образования     4022  370  9.20% \n",
       "покупка автомобиля     4315  403  9.34% \n",
       "покупка недвижимости  10228  747  7.30% "
      ]
     },
     "execution_count": 67,
     "metadata": {},
     "output_type": "execute_result"
    }
   ],
   "source": [
    "def my_mean(x): return '{:.2%} '.format(x.mean()) # зменяем среднее значение для каждой категории функцией, чтобы привести значение к виду процентов\n",
    "\n",
    "df.groupby('purpose')['debt'].agg(['count', 'sum', my_mean])"
   ]
  },
  {
   "cell_type": "markdown",
   "metadata": {},
   "source": [
    "**Вывод**"
   ]
  },
  {
   "cell_type": "markdown",
   "metadata": {},
   "source": [
    "Из полученных значений можно сделать вывод, что цель кредита влияет на возврат кредита в срок. \n",
    "<br>\n",
    "Процент просрочек при различных целях кредита выглядит так:\n",
    "* оплата ремонта - 5,72%\n",
    "* покупка недвижимости - 7,3%\n",
    "* оплата свадьбы - 7,92%\n",
    "* оптата образования - 9,2%\n",
    "* покупка автомобиля - 9,34%\n",
    "<br>\n",
    "Получается, что процент просрочек в кредитах, которые связаны с недвижимостью (оплата ремонта или покупка недвижимости) значительно более низкий, чем в кредитах на движимое имущество или оплату услуг."
   ]
  },
  {
   "cell_type": "markdown",
   "metadata": {},
   "source": [
    "## Шаг 4. Общий вывод"
   ]
  },
  {
   "cell_type": "markdown",
   "metadata": {},
   "source": [
    "Мы проверили 4 гипотезы и установили:\n",
    "* Наличие детей негативно влияет на возврат кредита в срок. Получается, что есть прямая зависимость от ниличия детей у клиента и процента просрочек.\n",
    "* Семейное положение влияет на возврат кредита в срок, меньше всего просрочек у вдовцов/вдов, а больше всего у не женатых/не замужных. Получается, что есть прямая зависимость семейного положения клиента и процента просрочек. Люди, которые были в официальном браке являются значительно более ответственными и как следствие более надёжными заёмщиками.\n",
    "* Доход заёмщика не слишком значительно и не прямо пропорционально влияет на возврат кредита в срок. \n",
    "* Цель кредита влияет на возврат кредита в срок, меньше всего просрочек у тех кто оплачивал ремонт, а больше всего у тех кто покупал автомобиль "
   ]
  },
  {
   "cell_type": "markdown",
   "metadata": {},
   "source": [
    "В таблице ниже предствалены данные с категорией минимального и максимального процента просрочки по трём гипотезам, где подтвердилась зависимость просрочки от соответствующей категории выборки:"
   ]
  },
  {
   "cell_type": "code",
   "execution_count": 68,
   "metadata": {},
   "outputs": [
    {
     "data": {
      "text/html": [
       "<div>\n",
       "<style scoped>\n",
       "    .dataframe tbody tr th:only-of-type {\n",
       "        vertical-align: middle;\n",
       "    }\n",
       "\n",
       "    .dataframe tbody tr th {\n",
       "        vertical-align: top;\n",
       "    }\n",
       "\n",
       "    .dataframe thead th {\n",
       "        text-align: right;\n",
       "    }\n",
       "</style>\n",
       "<table border=\"1\" class=\"dataframe\">\n",
       "  <thead>\n",
       "    <tr style=\"text-align: right;\">\n",
       "      <th></th>\n",
       "      <th>hypothesis</th>\n",
       "      <th>category_min</th>\n",
       "      <th>delay_min_delay</th>\n",
       "      <th>category_min_delay</th>\n",
       "      <th>delay_max</th>\n",
       "    </tr>\n",
       "  </thead>\n",
       "  <tbody>\n",
       "    <tr>\n",
       "      <th>0</th>\n",
       "      <td>влияние детей на возврат кредита</td>\n",
       "      <td>нет детей</td>\n",
       "      <td>0.075129</td>\n",
       "      <td>есть дети</td>\n",
       "      <td>0.091920</td>\n",
       "    </tr>\n",
       "    <tr>\n",
       "      <th>1</th>\n",
       "      <td>влияние семейного положения на возвратом кредита</td>\n",
       "      <td>вдовец / вдова</td>\n",
       "      <td>0.065625</td>\n",
       "      <td>не женат / не замужем</td>\n",
       "      <td>0.097405</td>\n",
       "    </tr>\n",
       "    <tr>\n",
       "      <th>2</th>\n",
       "      <td>влияние цели кредита на его возврат</td>\n",
       "      <td>оплата ремонта</td>\n",
       "      <td>0.057190</td>\n",
       "      <td>покупка автомобиля</td>\n",
       "      <td>0.093395</td>\n",
       "    </tr>\n",
       "  </tbody>\n",
       "</table>\n",
       "</div>"
      ],
      "text/plain": [
       "                                         hypothesis    category_min  \\\n",
       "0                  влияние детей на возврат кредита       нет детей   \n",
       "1  влияние семейного положения на возвратом кредита  вдовец / вдова   \n",
       "2               влияние цели кредита на его возврат  оплата ремонта   \n",
       "\n",
       "   delay_min_delay     category_min_delay  delay_max  \n",
       "0         0.075129              есть дети   0.091920  \n",
       "1         0.065625  не женат / не замужем   0.097405  \n",
       "2         0.057190     покупка автомобиля   0.093395  "
      ]
     },
     "metadata": {},
     "output_type": "display_data"
    }
   ],
   "source": [
    "columns_conclusion = ['hypothesis', 'category_min','delay_min_delay', 'category_min_delay', 'delay_max']\n",
    "data_conclusion = [['влияние детей на возврат кредита', 'нет детей', no_children, 'есть дети', have_children], \n",
    "        ['влияние семейного положения на возвратом кредита', 'вдовец / вдова', debt_widowers, 'не женат / не замужем', debt_not_married], \n",
    "        ['влияние цели кредита на его возврат', 'оплата ремонта', repair, 'покупка автомобиля', car]]\n",
    "\n",
    "display(pd.DataFrame(data=data_conclusion, columns=columns_conclusion))"
   ]
  }
 ],
 "metadata": {
  "ExecuteTimeLog": [
   {
    "duration": 604,
    "start_time": "2022-01-17T17:45:53.940Z"
   },
   {
    "duration": 52,
    "start_time": "2022-01-17T17:46:10.316Z"
   },
   {
    "duration": 52,
    "start_time": "2022-01-17T18:00:55.015Z"
   },
   {
    "duration": 59,
    "start_time": "2022-01-17T18:02:20.047Z"
   },
   {
    "duration": 859,
    "start_time": "2022-01-18T19:07:24.860Z"
   },
   {
    "duration": 73,
    "start_time": "2022-01-18T19:07:40.852Z"
   },
   {
    "duration": 13,
    "start_time": "2022-01-18T20:03:51.229Z"
   },
   {
    "duration": 15,
    "start_time": "2022-01-18T20:05:39.256Z"
   },
   {
    "duration": 15,
    "start_time": "2022-01-18T20:06:03.712Z"
   },
   {
    "duration": 5,
    "start_time": "2022-01-18T20:32:44.821Z"
   },
   {
    "duration": 7,
    "start_time": "2022-01-18T21:22:24.815Z"
   },
   {
    "duration": 9,
    "start_time": "2022-01-18T21:22:40.662Z"
   },
   {
    "duration": 28,
    "start_time": "2022-01-18T21:23:43.024Z"
   },
   {
    "duration": 15,
    "start_time": "2022-01-18T21:24:18.088Z"
   },
   {
    "duration": 9,
    "start_time": "2022-01-18T21:29:47.807Z"
   },
   {
    "duration": 10,
    "start_time": "2022-01-18T21:30:22.342Z"
   },
   {
    "duration": 114,
    "start_time": "2022-01-18T21:30:52.431Z"
   },
   {
    "duration": 13,
    "start_time": "2022-01-18T21:31:02.959Z"
   },
   {
    "duration": 11,
    "start_time": "2022-01-18T21:31:27.383Z"
   },
   {
    "duration": 10,
    "start_time": "2022-01-18T21:31:30.647Z"
   },
   {
    "duration": 12,
    "start_time": "2022-01-18T22:10:02.764Z"
   },
   {
    "duration": 12,
    "start_time": "2022-01-18T22:10:18.026Z"
   },
   {
    "duration": 12,
    "start_time": "2022-01-18T22:10:22.498Z"
   },
   {
    "duration": 11,
    "start_time": "2022-01-18T22:12:04.490Z"
   },
   {
    "duration": 413,
    "start_time": "2022-01-18T22:24:50.280Z"
   },
   {
    "duration": 11,
    "start_time": "2022-01-18T22:25:28.847Z"
   },
   {
    "duration": 12,
    "start_time": "2022-01-18T22:26:04.080Z"
   },
   {
    "duration": 11,
    "start_time": "2022-01-18T22:27:26.320Z"
   },
   {
    "duration": 13,
    "start_time": "2022-01-18T22:27:28.680Z"
   },
   {
    "duration": 8,
    "start_time": "2022-01-18T22:27:42.575Z"
   },
   {
    "duration": 11,
    "start_time": "2022-01-18T22:27:44.439Z"
   },
   {
    "duration": 101,
    "start_time": "2022-01-18T22:54:40.404Z"
   },
   {
    "duration": 13,
    "start_time": "2022-01-18T22:55:00.388Z"
   },
   {
    "duration": 13,
    "start_time": "2022-01-18T22:56:22.492Z"
   },
   {
    "duration": 13,
    "start_time": "2022-01-18T22:57:10.260Z"
   },
   {
    "duration": 12,
    "start_time": "2022-01-18T22:58:20.123Z"
   },
   {
    "duration": 77,
    "start_time": "2022-01-18T22:59:21.041Z"
   },
   {
    "duration": 14,
    "start_time": "2022-01-18T22:59:21.120Z"
   },
   {
    "duration": 12,
    "start_time": "2022-01-18T22:59:21.137Z"
   },
   {
    "duration": 10,
    "start_time": "2022-01-18T22:59:21.152Z"
   },
   {
    "duration": 14,
    "start_time": "2022-01-18T22:59:21.165Z"
   },
   {
    "duration": 187,
    "start_time": "2022-01-18T22:59:21.182Z"
   },
   {
    "duration": 17,
    "start_time": "2022-01-18T22:59:21.372Z"
   },
   {
    "duration": 107,
    "start_time": "2022-01-18T23:02:28.481Z"
   },
   {
    "duration": 21,
    "start_time": "2022-01-18T23:02:28.591Z"
   },
   {
    "duration": 14,
    "start_time": "2022-01-18T23:02:28.625Z"
   },
   {
    "duration": 19,
    "start_time": "2022-01-18T23:02:28.641Z"
   },
   {
    "duration": 9,
    "start_time": "2022-01-18T23:02:28.663Z"
   },
   {
    "duration": 226,
    "start_time": "2022-01-18T23:02:28.675Z"
   },
   {
    "duration": 20,
    "start_time": "2022-01-18T23:02:28.904Z"
   },
   {
    "duration": 702,
    "start_time": "2022-01-19T06:42:53.871Z"
   },
   {
    "duration": 12,
    "start_time": "2022-01-19T06:42:54.575Z"
   },
   {
    "duration": 47,
    "start_time": "2022-01-19T06:42:54.589Z"
   },
   {
    "duration": 47,
    "start_time": "2022-01-19T06:42:54.639Z"
   },
   {
    "duration": 35,
    "start_time": "2022-01-19T06:42:54.688Z"
   },
   {
    "duration": 189,
    "start_time": "2022-01-19T06:42:54.725Z"
   },
   {
    "duration": 11,
    "start_time": "2022-01-19T06:42:54.916Z"
   },
   {
    "duration": 129,
    "start_time": "2022-01-19T06:46:11.982Z"
   },
   {
    "duration": 8,
    "start_time": "2022-01-19T06:54:31.180Z"
   },
   {
    "duration": 8,
    "start_time": "2022-01-19T06:57:01.340Z"
   },
   {
    "duration": 60,
    "start_time": "2022-01-19T06:57:19.339Z"
   },
   {
    "duration": 10,
    "start_time": "2022-01-19T06:57:19.401Z"
   },
   {
    "duration": 8,
    "start_time": "2022-01-19T06:57:19.414Z"
   },
   {
    "duration": 12,
    "start_time": "2022-01-19T06:57:19.424Z"
   },
   {
    "duration": 28,
    "start_time": "2022-01-19T06:57:19.437Z"
   },
   {
    "duration": 7,
    "start_time": "2022-01-19T06:57:19.466Z"
   },
   {
    "duration": 33,
    "start_time": "2022-01-19T06:57:19.474Z"
   },
   {
    "duration": 133,
    "start_time": "2022-01-19T06:57:19.509Z"
   },
   {
    "duration": 9,
    "start_time": "2022-01-19T06:57:19.644Z"
   },
   {
    "duration": 67,
    "start_time": "2022-01-19T08:27:20.742Z"
   },
   {
    "duration": 12,
    "start_time": "2022-01-19T08:27:20.811Z"
   },
   {
    "duration": 32,
    "start_time": "2022-01-19T08:27:20.826Z"
   },
   {
    "duration": 34,
    "start_time": "2022-01-19T08:27:20.860Z"
   },
   {
    "duration": 41,
    "start_time": "2022-01-19T08:27:20.896Z"
   },
   {
    "duration": 46,
    "start_time": "2022-01-19T08:27:20.940Z"
   },
   {
    "duration": 33,
    "start_time": "2022-01-19T08:27:20.988Z"
   },
   {
    "duration": 197,
    "start_time": "2022-01-19T08:27:21.024Z"
   },
   {
    "duration": 10,
    "start_time": "2022-01-19T08:27:21.224Z"
   },
   {
    "duration": 4,
    "start_time": "2022-01-19T08:58:49.837Z"
   },
   {
    "duration": 15,
    "start_time": "2022-01-19T08:59:13.532Z"
   },
   {
    "duration": 11,
    "start_time": "2022-01-19T09:01:53.412Z"
   },
   {
    "duration": 58,
    "start_time": "2022-01-19T09:02:51.850Z"
   },
   {
    "duration": 10,
    "start_time": "2022-01-19T09:02:51.910Z"
   },
   {
    "duration": 9,
    "start_time": "2022-01-19T09:02:51.922Z"
   },
   {
    "duration": 28,
    "start_time": "2022-01-19T09:02:51.933Z"
   },
   {
    "duration": 7,
    "start_time": "2022-01-19T09:02:51.963Z"
   },
   {
    "duration": 8,
    "start_time": "2022-01-19T09:02:51.972Z"
   },
   {
    "duration": 7,
    "start_time": "2022-01-19T09:02:51.982Z"
   },
   {
    "duration": 156,
    "start_time": "2022-01-19T09:02:51.991Z"
   },
   {
    "duration": 18,
    "start_time": "2022-01-19T09:02:52.149Z"
   },
   {
    "duration": 10,
    "start_time": "2022-01-19T09:02:52.169Z"
   },
   {
    "duration": 32,
    "start_time": "2022-01-19T09:02:52.180Z"
   },
   {
    "duration": 17,
    "start_time": "2022-01-19T09:02:52.214Z"
   },
   {
    "duration": 61,
    "start_time": "2022-01-19T09:10:57.385Z"
   },
   {
    "duration": 10,
    "start_time": "2022-01-19T09:10:57.448Z"
   },
   {
    "duration": 27,
    "start_time": "2022-01-19T09:10:57.461Z"
   },
   {
    "duration": 18,
    "start_time": "2022-01-19T09:10:57.490Z"
   },
   {
    "duration": 25,
    "start_time": "2022-01-19T09:10:57.510Z"
   },
   {
    "duration": 14,
    "start_time": "2022-01-19T09:10:57.537Z"
   },
   {
    "duration": 33,
    "start_time": "2022-01-19T09:10:57.553Z"
   },
   {
    "duration": 180,
    "start_time": "2022-01-19T09:10:57.589Z"
   },
   {
    "duration": 9,
    "start_time": "2022-01-19T09:10:57.771Z"
   },
   {
    "duration": 35,
    "start_time": "2022-01-19T09:10:57.782Z"
   },
   {
    "duration": 33,
    "start_time": "2022-01-19T09:10:57.819Z"
   },
   {
    "duration": 44,
    "start_time": "2022-01-19T09:10:57.854Z"
   },
   {
    "duration": 60,
    "start_time": "2022-01-19T09:12:27.128Z"
   },
   {
    "duration": 10,
    "start_time": "2022-01-19T09:12:27.190Z"
   },
   {
    "duration": 10,
    "start_time": "2022-01-19T09:12:27.202Z"
   },
   {
    "duration": 7,
    "start_time": "2022-01-19T09:12:27.214Z"
   },
   {
    "duration": 9,
    "start_time": "2022-01-19T09:12:27.223Z"
   },
   {
    "duration": 32,
    "start_time": "2022-01-19T09:12:27.234Z"
   },
   {
    "duration": 7,
    "start_time": "2022-01-19T09:12:27.268Z"
   },
   {
    "duration": 146,
    "start_time": "2022-01-19T09:12:27.277Z"
   },
   {
    "duration": 10,
    "start_time": "2022-01-19T09:12:27.425Z"
   },
   {
    "duration": 16,
    "start_time": "2022-01-19T09:12:32.513Z"
   },
   {
    "duration": 60,
    "start_time": "2022-01-19T09:42:09.861Z"
   },
   {
    "duration": 11,
    "start_time": "2022-01-19T09:42:09.923Z"
   },
   {
    "duration": 37,
    "start_time": "2022-01-19T09:42:09.936Z"
   },
   {
    "duration": 14,
    "start_time": "2022-01-19T09:42:09.975Z"
   },
   {
    "duration": 40,
    "start_time": "2022-01-19T09:42:09.991Z"
   },
   {
    "duration": 32,
    "start_time": "2022-01-19T09:42:10.033Z"
   },
   {
    "duration": 24,
    "start_time": "2022-01-19T09:42:10.067Z"
   },
   {
    "duration": 108,
    "start_time": "2022-01-19T09:42:10.094Z"
   },
   {
    "duration": 9,
    "start_time": "2022-01-19T09:42:10.203Z"
   },
   {
    "duration": 51,
    "start_time": "2022-01-19T09:42:10.214Z"
   },
   {
    "duration": 294,
    "start_time": "2022-01-19T09:42:10.267Z"
   },
   {
    "duration": -1156,
    "start_time": "2022-01-19T09:42:11.719Z"
   },
   {
    "duration": -1158,
    "start_time": "2022-01-19T09:42:11.723Z"
   },
   {
    "duration": 61,
    "start_time": "2022-01-19T09:45:01.835Z"
   },
   {
    "duration": 12,
    "start_time": "2022-01-19T09:45:01.898Z"
   },
   {
    "duration": 10,
    "start_time": "2022-01-19T09:45:01.912Z"
   },
   {
    "duration": 27,
    "start_time": "2022-01-19T09:45:01.924Z"
   },
   {
    "duration": 18,
    "start_time": "2022-01-19T09:45:01.954Z"
   },
   {
    "duration": 11,
    "start_time": "2022-01-19T09:45:01.975Z"
   },
   {
    "duration": 8,
    "start_time": "2022-01-19T09:45:01.988Z"
   },
   {
    "duration": 28,
    "start_time": "2022-01-19T09:45:01.999Z"
   },
   {
    "duration": 15,
    "start_time": "2022-01-19T09:45:02.029Z"
   },
   {
    "duration": 16,
    "start_time": "2022-01-19T09:45:02.061Z"
   },
   {
    "duration": 236,
    "start_time": "2022-01-19T09:45:02.079Z"
   },
   {
    "duration": -1130,
    "start_time": "2022-01-19T09:45:03.447Z"
   },
   {
    "duration": -1132,
    "start_time": "2022-01-19T09:45:03.450Z"
   },
   {
    "duration": 26,
    "start_time": "2022-01-19T09:46:23.076Z"
   },
   {
    "duration": 58,
    "start_time": "2022-01-19T09:46:27.483Z"
   },
   {
    "duration": 11,
    "start_time": "2022-01-19T09:46:27.542Z"
   },
   {
    "duration": 23,
    "start_time": "2022-01-19T09:46:27.555Z"
   },
   {
    "duration": 23,
    "start_time": "2022-01-19T09:46:27.580Z"
   },
   {
    "duration": 28,
    "start_time": "2022-01-19T09:46:27.605Z"
   },
   {
    "duration": 34,
    "start_time": "2022-01-19T09:46:27.635Z"
   },
   {
    "duration": 20,
    "start_time": "2022-01-19T09:46:27.670Z"
   },
   {
    "duration": 47,
    "start_time": "2022-01-19T09:46:27.693Z"
   },
   {
    "duration": 27,
    "start_time": "2022-01-19T09:46:27.741Z"
   },
   {
    "duration": 47,
    "start_time": "2022-01-19T09:46:27.770Z"
   },
   {
    "duration": 37,
    "start_time": "2022-01-19T09:46:27.819Z"
   },
   {
    "duration": 27,
    "start_time": "2022-01-19T09:46:27.858Z"
   },
   {
    "duration": 28,
    "start_time": "2022-01-19T09:46:27.887Z"
   },
   {
    "duration": 230,
    "start_time": "2022-01-19T10:13:44.403Z"
   },
   {
    "duration": 5,
    "start_time": "2022-01-19T10:17:21.274Z"
   },
   {
    "duration": 15,
    "start_time": "2022-01-19T10:18:20.249Z"
   },
   {
    "duration": 59,
    "start_time": "2022-01-19T10:19:12.642Z"
   },
   {
    "duration": 11,
    "start_time": "2022-01-19T10:19:12.702Z"
   },
   {
    "duration": 64,
    "start_time": "2022-01-19T10:19:12.714Z"
   },
   {
    "duration": 21,
    "start_time": "2022-01-19T10:19:12.780Z"
   },
   {
    "duration": 32,
    "start_time": "2022-01-19T10:19:12.803Z"
   },
   {
    "duration": 38,
    "start_time": "2022-01-19T10:19:12.836Z"
   },
   {
    "duration": 21,
    "start_time": "2022-01-19T10:19:12.875Z"
   },
   {
    "duration": 38,
    "start_time": "2022-01-19T10:19:12.898Z"
   },
   {
    "duration": 28,
    "start_time": "2022-01-19T10:19:12.938Z"
   },
   {
    "duration": 20,
    "start_time": "2022-01-19T10:19:12.967Z"
   },
   {
    "duration": 31,
    "start_time": "2022-01-19T10:19:12.989Z"
   },
   {
    "duration": 38,
    "start_time": "2022-01-19T10:19:13.022Z"
   },
   {
    "duration": 44,
    "start_time": "2022-01-19T10:19:13.062Z"
   },
   {
    "duration": 61,
    "start_time": "2022-01-19T10:26:06.985Z"
   },
   {
    "duration": 11,
    "start_time": "2022-01-19T10:26:07.048Z"
   },
   {
    "duration": 59,
    "start_time": "2022-01-19T10:26:07.061Z"
   },
   {
    "duration": 20,
    "start_time": "2022-01-19T10:26:07.122Z"
   },
   {
    "duration": 31,
    "start_time": "2022-01-19T10:26:07.143Z"
   },
   {
    "duration": 53,
    "start_time": "2022-01-19T10:26:07.175Z"
   },
   {
    "duration": 33,
    "start_time": "2022-01-19T10:26:07.230Z"
   },
   {
    "duration": 57,
    "start_time": "2022-01-19T10:26:07.265Z"
   },
   {
    "duration": 33,
    "start_time": "2022-01-19T10:26:07.323Z"
   },
   {
    "duration": 60,
    "start_time": "2022-01-19T10:26:07.357Z"
   },
   {
    "duration": 48,
    "start_time": "2022-01-19T10:26:07.419Z"
   },
   {
    "duration": 16,
    "start_time": "2022-01-19T10:26:07.469Z"
   },
   {
    "duration": 4,
    "start_time": "2022-01-19T10:42:28.792Z"
   },
   {
    "duration": 16,
    "start_time": "2022-01-19T11:59:22.892Z"
   },
   {
    "duration": 16,
    "start_time": "2022-01-19T12:02:27.372Z"
   },
   {
    "duration": 17,
    "start_time": "2022-01-19T12:03:58.620Z"
   },
   {
    "duration": 39,
    "start_time": "2022-01-19T12:07:17.389Z"
   },
   {
    "duration": 16,
    "start_time": "2022-01-19T12:07:47.957Z"
   },
   {
    "duration": 15,
    "start_time": "2022-01-19T12:07:51.084Z"
   },
   {
    "duration": 16,
    "start_time": "2022-01-19T12:07:53.244Z"
   },
   {
    "duration": 14,
    "start_time": "2022-01-19T12:17:42.539Z"
   },
   {
    "duration": 19,
    "start_time": "2022-01-19T12:20:12.763Z"
   },
   {
    "duration": 18,
    "start_time": "2022-01-19T12:20:28.418Z"
   },
   {
    "duration": 16,
    "start_time": "2022-01-19T12:29:45.378Z"
   },
   {
    "duration": 8,
    "start_time": "2022-01-19T12:37:51.994Z"
   },
   {
    "duration": 8,
    "start_time": "2022-01-19T12:37:56.073Z"
   },
   {
    "duration": 8,
    "start_time": "2022-01-19T12:38:10.969Z"
   },
   {
    "duration": 8,
    "start_time": "2022-01-19T12:38:35.713Z"
   },
   {
    "duration": 9,
    "start_time": "2022-01-19T12:41:28.913Z"
   },
   {
    "duration": 85,
    "start_time": "2022-01-19T12:44:33.778Z"
   },
   {
    "duration": 11,
    "start_time": "2022-01-19T12:44:33.866Z"
   },
   {
    "duration": 36,
    "start_time": "2022-01-19T12:44:33.879Z"
   },
   {
    "duration": 19,
    "start_time": "2022-01-19T12:44:33.918Z"
   },
   {
    "duration": 36,
    "start_time": "2022-01-19T12:44:33.939Z"
   },
   {
    "duration": 35,
    "start_time": "2022-01-19T12:44:33.977Z"
   },
   {
    "duration": 12,
    "start_time": "2022-01-19T12:44:34.014Z"
   },
   {
    "duration": 53,
    "start_time": "2022-01-19T12:44:34.029Z"
   },
   {
    "duration": 22,
    "start_time": "2022-01-19T12:44:34.084Z"
   },
   {
    "duration": 18,
    "start_time": "2022-01-19T12:44:34.108Z"
   },
   {
    "duration": 58,
    "start_time": "2022-01-19T12:44:34.128Z"
   },
   {
    "duration": 19,
    "start_time": "2022-01-19T12:44:34.188Z"
   },
   {
    "duration": 41,
    "start_time": "2022-01-19T12:44:34.210Z"
   },
   {
    "duration": 10,
    "start_time": "2022-01-19T12:44:34.254Z"
   },
   {
    "duration": 38,
    "start_time": "2022-01-19T12:44:34.266Z"
   },
   {
    "duration": 11,
    "start_time": "2022-01-19T12:44:34.306Z"
   },
   {
    "duration": 25,
    "start_time": "2022-01-19T12:44:34.319Z"
   },
   {
    "duration": 17,
    "start_time": "2022-01-19T12:44:34.346Z"
   },
   {
    "duration": 13,
    "start_time": "2022-01-19T12:44:34.365Z"
   },
   {
    "duration": 10,
    "start_time": "2022-01-19T12:44:34.380Z"
   },
   {
    "duration": 61,
    "start_time": "2022-01-19T12:45:51.573Z"
   },
   {
    "duration": 11,
    "start_time": "2022-01-19T12:45:51.636Z"
   },
   {
    "duration": 24,
    "start_time": "2022-01-19T12:45:51.649Z"
   },
   {
    "duration": 17,
    "start_time": "2022-01-19T12:45:51.676Z"
   },
   {
    "duration": 7,
    "start_time": "2022-01-19T12:45:51.695Z"
   },
   {
    "duration": 15,
    "start_time": "2022-01-19T12:45:51.704Z"
   },
   {
    "duration": 20,
    "start_time": "2022-01-19T12:45:51.721Z"
   },
   {
    "duration": 43,
    "start_time": "2022-01-19T12:45:51.744Z"
   },
   {
    "duration": 10,
    "start_time": "2022-01-19T12:45:51.790Z"
   },
   {
    "duration": 22,
    "start_time": "2022-01-19T12:45:51.801Z"
   },
   {
    "duration": 21,
    "start_time": "2022-01-19T12:45:51.825Z"
   },
   {
    "duration": 6,
    "start_time": "2022-01-19T12:45:51.848Z"
   },
   {
    "duration": 41,
    "start_time": "2022-01-19T12:45:51.855Z"
   },
   {
    "duration": 3,
    "start_time": "2022-01-19T12:45:51.898Z"
   },
   {
    "duration": 26,
    "start_time": "2022-01-19T12:45:51.903Z"
   },
   {
    "duration": 8,
    "start_time": "2022-01-19T12:45:51.932Z"
   },
   {
    "duration": 12,
    "start_time": "2022-01-19T12:45:51.942Z"
   },
   {
    "duration": 25,
    "start_time": "2022-01-19T12:45:51.956Z"
   },
   {
    "duration": 10,
    "start_time": "2022-01-19T12:45:51.983Z"
   },
   {
    "duration": 13,
    "start_time": "2022-01-19T12:45:51.994Z"
   },
   {
    "duration": 62,
    "start_time": "2022-01-19T12:46:04.954Z"
   },
   {
    "duration": 11,
    "start_time": "2022-01-19T12:46:05.018Z"
   },
   {
    "duration": 49,
    "start_time": "2022-01-19T12:46:05.032Z"
   },
   {
    "duration": 38,
    "start_time": "2022-01-19T12:46:05.083Z"
   },
   {
    "duration": 19,
    "start_time": "2022-01-19T12:46:05.123Z"
   },
   {
    "duration": 36,
    "start_time": "2022-01-19T12:46:05.144Z"
   },
   {
    "duration": 27,
    "start_time": "2022-01-19T12:46:05.182Z"
   },
   {
    "duration": 68,
    "start_time": "2022-01-19T12:46:05.212Z"
   },
   {
    "duration": 10,
    "start_time": "2022-01-19T12:46:05.282Z"
   },
   {
    "duration": 26,
    "start_time": "2022-01-19T12:46:05.294Z"
   },
   {
    "duration": 15,
    "start_time": "2022-01-19T12:46:05.322Z"
   },
   {
    "duration": 3,
    "start_time": "2022-01-19T12:46:05.339Z"
   },
   {
    "duration": 19,
    "start_time": "2022-01-19T12:46:05.344Z"
   },
   {
    "duration": 20,
    "start_time": "2022-01-19T12:46:05.367Z"
   },
   {
    "duration": 15,
    "start_time": "2022-01-19T12:46:05.389Z"
   },
   {
    "duration": 7,
    "start_time": "2022-01-19T12:46:05.406Z"
   },
   {
    "duration": 9,
    "start_time": "2022-01-19T12:46:05.414Z"
   },
   {
    "duration": 40,
    "start_time": "2022-01-19T12:46:05.424Z"
   },
   {
    "duration": 21,
    "start_time": "2022-01-19T12:46:05.467Z"
   },
   {
    "duration": 9,
    "start_time": "2022-01-19T12:46:05.490Z"
   },
   {
    "duration": 212,
    "start_time": "2022-01-19T13:19:38.468Z"
   },
   {
    "duration": 213,
    "start_time": "2022-01-19T13:20:00.852Z"
   },
   {
    "duration": 13,
    "start_time": "2022-01-19T13:21:01.732Z"
   },
   {
    "duration": 31,
    "start_time": "2022-01-19T13:25:30.012Z"
   },
   {
    "duration": 11,
    "start_time": "2022-01-19T13:25:55.723Z"
   },
   {
    "duration": 8,
    "start_time": "2022-01-19T13:26:34.140Z"
   },
   {
    "duration": 11,
    "start_time": "2022-01-19T13:26:50.740Z"
   },
   {
    "duration": 61,
    "start_time": "2022-01-19T13:41:10.986Z"
   },
   {
    "duration": 14,
    "start_time": "2022-01-19T13:41:11.049Z"
   },
   {
    "duration": 19,
    "start_time": "2022-01-19T13:41:11.065Z"
   },
   {
    "duration": 12,
    "start_time": "2022-01-19T13:41:11.086Z"
   },
   {
    "duration": 11,
    "start_time": "2022-01-19T13:41:11.099Z"
   },
   {
    "duration": 8,
    "start_time": "2022-01-19T13:41:11.112Z"
   },
   {
    "duration": 8,
    "start_time": "2022-01-19T13:41:11.121Z"
   },
   {
    "duration": 52,
    "start_time": "2022-01-19T13:41:11.132Z"
   },
   {
    "duration": 9,
    "start_time": "2022-01-19T13:41:11.186Z"
   },
   {
    "duration": 4,
    "start_time": "2022-01-19T13:41:11.197Z"
   },
   {
    "duration": 12,
    "start_time": "2022-01-19T13:41:11.203Z"
   },
   {
    "duration": 3,
    "start_time": "2022-01-19T13:41:11.216Z"
   },
   {
    "duration": 10,
    "start_time": "2022-01-19T13:41:11.220Z"
   },
   {
    "duration": 42,
    "start_time": "2022-01-19T13:41:11.232Z"
   },
   {
    "duration": 9,
    "start_time": "2022-01-19T13:41:11.276Z"
   },
   {
    "duration": 9,
    "start_time": "2022-01-19T13:41:11.286Z"
   },
   {
    "duration": 10,
    "start_time": "2022-01-19T13:41:11.296Z"
   },
   {
    "duration": 28,
    "start_time": "2022-01-19T13:41:11.308Z"
   },
   {
    "duration": 31,
    "start_time": "2022-01-19T13:41:11.338Z"
   },
   {
    "duration": 60,
    "start_time": "2022-01-19T13:46:54.586Z"
   },
   {
    "duration": 10,
    "start_time": "2022-01-19T13:46:54.648Z"
   },
   {
    "duration": 38,
    "start_time": "2022-01-19T13:46:54.660Z"
   },
   {
    "duration": 29,
    "start_time": "2022-01-19T13:46:54.700Z"
   },
   {
    "duration": 30,
    "start_time": "2022-01-19T13:46:54.731Z"
   },
   {
    "duration": 18,
    "start_time": "2022-01-19T13:46:54.769Z"
   },
   {
    "duration": 37,
    "start_time": "2022-01-19T13:46:54.789Z"
   },
   {
    "duration": 50,
    "start_time": "2022-01-19T13:46:54.828Z"
   },
   {
    "duration": 20,
    "start_time": "2022-01-19T13:46:54.880Z"
   },
   {
    "duration": 27,
    "start_time": "2022-01-19T13:46:54.902Z"
   },
   {
    "duration": 49,
    "start_time": "2022-01-19T13:46:54.931Z"
   },
   {
    "duration": 9,
    "start_time": "2022-01-19T13:46:54.982Z"
   },
   {
    "duration": 38,
    "start_time": "2022-01-19T13:46:54.993Z"
   },
   {
    "duration": 40,
    "start_time": "2022-01-19T13:46:55.033Z"
   },
   {
    "duration": 25,
    "start_time": "2022-01-19T13:46:55.075Z"
   },
   {
    "duration": 30,
    "start_time": "2022-01-19T13:46:55.102Z"
   },
   {
    "duration": 35,
    "start_time": "2022-01-19T13:46:55.134Z"
   },
   {
    "duration": 51,
    "start_time": "2022-01-19T13:46:55.171Z"
   },
   {
    "duration": 20,
    "start_time": "2022-01-19T13:46:55.224Z"
   },
   {
    "duration": 257,
    "start_time": "2022-01-19T17:17:10.660Z"
   },
   {
    "duration": 324,
    "start_time": "2022-01-19T17:19:01.938Z"
   },
   {
    "duration": 231,
    "start_time": "2022-01-19T17:21:50.962Z"
   },
   {
    "duration": 703,
    "start_time": "2022-01-19T17:22:02.434Z"
   },
   {
    "duration": 222,
    "start_time": "2022-01-19T17:22:35.609Z"
   },
   {
    "duration": 65,
    "start_time": "2022-01-19T19:21:03.131Z"
   },
   {
    "duration": 12,
    "start_time": "2022-01-19T19:21:03.198Z"
   },
   {
    "duration": 11,
    "start_time": "2022-01-19T19:21:03.212Z"
   },
   {
    "duration": 8,
    "start_time": "2022-01-19T19:21:03.225Z"
   },
   {
    "duration": 11,
    "start_time": "2022-01-19T19:21:03.260Z"
   },
   {
    "duration": 12,
    "start_time": "2022-01-19T19:21:03.273Z"
   },
   {
    "duration": 6,
    "start_time": "2022-01-19T19:21:03.287Z"
   },
   {
    "duration": 25,
    "start_time": "2022-01-19T19:21:03.296Z"
   },
   {
    "duration": 10,
    "start_time": "2022-01-19T19:21:03.323Z"
   },
   {
    "duration": 11,
    "start_time": "2022-01-19T19:21:03.361Z"
   },
   {
    "duration": 19,
    "start_time": "2022-01-19T19:21:03.374Z"
   },
   {
    "duration": 4,
    "start_time": "2022-01-19T19:21:03.394Z"
   },
   {
    "duration": 9,
    "start_time": "2022-01-19T19:21:03.399Z"
   },
   {
    "duration": 9,
    "start_time": "2022-01-19T19:21:03.410Z"
   },
   {
    "duration": 9,
    "start_time": "2022-01-19T19:21:03.421Z"
   },
   {
    "duration": 32,
    "start_time": "2022-01-19T19:21:03.431Z"
   },
   {
    "duration": 12,
    "start_time": "2022-01-19T19:21:03.465Z"
   },
   {
    "duration": 27,
    "start_time": "2022-01-19T19:21:03.479Z"
   },
   {
    "duration": 8,
    "start_time": "2022-01-19T19:21:03.508Z"
   },
   {
    "duration": 229,
    "start_time": "2022-01-19T19:21:03.518Z"
   },
   {
    "duration": 9,
    "start_time": "2022-01-19T19:27:07.209Z"
   },
   {
    "duration": 8,
    "start_time": "2022-01-19T19:27:22.441Z"
   },
   {
    "duration": 12,
    "start_time": "2022-01-19T19:32:24.914Z"
   },
   {
    "duration": 8,
    "start_time": "2022-01-19T19:33:14.610Z"
   },
   {
    "duration": 9,
    "start_time": "2022-01-19T19:33:37.026Z"
   },
   {
    "duration": 9,
    "start_time": "2022-01-19T19:34:38.161Z"
   },
   {
    "duration": 17,
    "start_time": "2022-01-19T19:52:01.999Z"
   },
   {
    "duration": 210,
    "start_time": "2022-01-19T19:53:49.519Z"
   },
   {
    "duration": 203,
    "start_time": "2022-01-19T19:56:30.686Z"
   },
   {
    "duration": 22,
    "start_time": "2022-01-19T19:58:38.502Z"
   },
   {
    "duration": 3220,
    "start_time": "2022-01-19T20:00:11.479Z"
   },
   {
    "duration": 2677,
    "start_time": "2022-01-19T20:03:27.031Z"
   },
   {
    "duration": 361,
    "start_time": "2022-01-19T20:05:02.569Z"
   },
   {
    "duration": 7,
    "start_time": "2022-01-19T20:05:13.004Z"
   },
   {
    "duration": 5,
    "start_time": "2022-01-19T20:05:33.144Z"
   },
   {
    "duration": 697,
    "start_time": "2022-01-19T20:09:17.429Z"
   },
   {
    "duration": 42,
    "start_time": "2022-01-19T20:10:35.109Z"
   },
   {
    "duration": 238,
    "start_time": "2022-01-19T20:10:57.148Z"
   },
   {
    "duration": 2946,
    "start_time": "2022-01-19T20:12:27.860Z"
   },
   {
    "duration": 2482,
    "start_time": "2022-01-19T20:15:14.197Z"
   },
   {
    "duration": 2917,
    "start_time": "2022-01-19T20:15:34.316Z"
   },
   {
    "duration": 270,
    "start_time": "2022-01-19T20:17:21.093Z"
   },
   {
    "duration": 2764,
    "start_time": "2022-01-19T20:35:14.083Z"
   },
   {
    "duration": 3009,
    "start_time": "2022-01-19T20:35:45.339Z"
   },
   {
    "duration": 2989,
    "start_time": "2022-01-19T20:35:52.963Z"
   },
   {
    "duration": 2985,
    "start_time": "2022-01-19T20:38:11.442Z"
   },
   {
    "duration": 101,
    "start_time": "2022-01-19T20:39:41.344Z"
   },
   {
    "duration": 217,
    "start_time": "2022-01-19T20:41:12.056Z"
   },
   {
    "duration": 2768,
    "start_time": "2022-01-19T20:41:56.616Z"
   },
   {
    "duration": 2824,
    "start_time": "2022-01-19T20:42:08.636Z"
   },
   {
    "duration": 3162,
    "start_time": "2022-01-19T20:42:23.601Z"
   },
   {
    "duration": 3253,
    "start_time": "2022-01-19T21:10:17.773Z"
   },
   {
    "duration": 63,
    "start_time": "2022-01-19T21:11:05.917Z"
   },
   {
    "duration": 3283,
    "start_time": "2022-01-19T21:12:00.007Z"
   },
   {
    "duration": 3241,
    "start_time": "2022-01-19T21:12:32.805Z"
   },
   {
    "duration": 2927,
    "start_time": "2022-01-19T21:12:42.068Z"
   },
   {
    "duration": 3025,
    "start_time": "2022-01-19T21:13:25.788Z"
   },
   {
    "duration": 3168,
    "start_time": "2022-01-19T21:13:35.014Z"
   },
   {
    "duration": 3171,
    "start_time": "2022-01-19T21:13:51.118Z"
   },
   {
    "duration": 3450,
    "start_time": "2022-01-19T21:14:14.708Z"
   },
   {
    "duration": 3442,
    "start_time": "2022-01-19T21:14:28.676Z"
   },
   {
    "duration": 3016,
    "start_time": "2022-01-19T21:14:41.044Z"
   },
   {
    "duration": 3236,
    "start_time": "2022-01-19T21:17:21.285Z"
   },
   {
    "duration": 3028,
    "start_time": "2022-01-19T21:17:33.444Z"
   },
   {
    "duration": 78,
    "start_time": "2022-01-19T21:45:13.614Z"
   },
   {
    "duration": 76,
    "start_time": "2022-01-19T21:49:23.513Z"
   },
   {
    "duration": 64,
    "start_time": "2022-01-19T21:49:50.375Z"
   },
   {
    "duration": 12,
    "start_time": "2022-01-19T21:49:50.498Z"
   },
   {
    "duration": 10,
    "start_time": "2022-01-19T21:49:50.605Z"
   },
   {
    "duration": 9,
    "start_time": "2022-01-19T21:49:50.720Z"
   },
   {
    "duration": 8,
    "start_time": "2022-01-19T21:49:50.834Z"
   },
   {
    "duration": 8,
    "start_time": "2022-01-19T21:49:50.942Z"
   },
   {
    "duration": 7,
    "start_time": "2022-01-19T21:49:51.052Z"
   },
   {
    "duration": 26,
    "start_time": "2022-01-19T21:49:51.109Z"
   },
   {
    "duration": 11,
    "start_time": "2022-01-19T21:49:51.220Z"
   },
   {
    "duration": 5,
    "start_time": "2022-01-19T21:49:51.279Z"
   },
   {
    "duration": 12,
    "start_time": "2022-01-19T21:49:51.402Z"
   },
   {
    "duration": 4,
    "start_time": "2022-01-19T21:49:51.457Z"
   },
   {
    "duration": 8,
    "start_time": "2022-01-19T21:49:51.568Z"
   },
   {
    "duration": 9,
    "start_time": "2022-01-19T21:49:51.686Z"
   },
   {
    "duration": 8,
    "start_time": "2022-01-19T21:49:51.793Z"
   },
   {
    "duration": 9,
    "start_time": "2022-01-19T21:49:51.897Z"
   },
   {
    "duration": 9,
    "start_time": "2022-01-19T21:49:52.005Z"
   },
   {
    "duration": 37,
    "start_time": "2022-01-19T21:49:52.061Z"
   },
   {
    "duration": 14,
    "start_time": "2022-01-19T21:49:52.168Z"
   },
   {
    "duration": 78,
    "start_time": "2022-01-19T21:49:52.786Z"
   },
   {
    "duration": 69,
    "start_time": "2022-01-19T21:49:52.890Z"
   },
   {
    "duration": 67,
    "start_time": "2022-01-19T21:51:19.194Z"
   },
   {
    "duration": 72,
    "start_time": "2022-01-19T21:52:00.073Z"
   },
   {
    "duration": 145,
    "start_time": "2022-01-19T21:53:38.359Z"
   },
   {
    "duration": 629,
    "start_time": "2022-01-20T07:55:27.186Z"
   },
   {
    "duration": 12,
    "start_time": "2022-01-20T07:55:27.817Z"
   },
   {
    "duration": 10,
    "start_time": "2022-01-20T07:55:27.831Z"
   },
   {
    "duration": 8,
    "start_time": "2022-01-20T07:55:27.842Z"
   },
   {
    "duration": 24,
    "start_time": "2022-01-20T07:55:27.852Z"
   },
   {
    "duration": 7,
    "start_time": "2022-01-20T07:55:27.877Z"
   },
   {
    "duration": 6,
    "start_time": "2022-01-20T07:55:27.885Z"
   },
   {
    "duration": 24,
    "start_time": "2022-01-20T07:55:27.894Z"
   },
   {
    "duration": 9,
    "start_time": "2022-01-20T07:55:27.920Z"
   },
   {
    "duration": 4,
    "start_time": "2022-01-20T07:55:27.930Z"
   },
   {
    "duration": 45,
    "start_time": "2022-01-20T07:55:27.936Z"
   },
   {
    "duration": 4,
    "start_time": "2022-01-20T07:55:27.983Z"
   },
   {
    "duration": 13,
    "start_time": "2022-01-20T07:55:27.988Z"
   },
   {
    "duration": 8,
    "start_time": "2022-01-20T07:55:28.002Z"
   },
   {
    "duration": 9,
    "start_time": "2022-01-20T07:55:28.012Z"
   },
   {
    "duration": 9,
    "start_time": "2022-01-20T07:55:28.023Z"
   },
   {
    "duration": 11,
    "start_time": "2022-01-20T07:55:28.034Z"
   },
   {
    "duration": 52,
    "start_time": "2022-01-20T07:55:28.046Z"
   },
   {
    "duration": 8,
    "start_time": "2022-01-20T07:55:28.099Z"
   },
   {
    "duration": 19,
    "start_time": "2022-01-20T07:55:28.109Z"
   },
   {
    "duration": 87,
    "start_time": "2022-01-20T07:55:28.129Z"
   },
   {
    "duration": 3,
    "start_time": "2022-01-20T08:07:11.451Z"
   },
   {
    "duration": 14,
    "start_time": "2022-01-20T08:07:18.915Z"
   },
   {
    "duration": 12,
    "start_time": "2022-01-20T08:07:41.803Z"
   },
   {
    "duration": 13,
    "start_time": "2022-01-20T08:07:59.411Z"
   },
   {
    "duration": 5424,
    "start_time": "2022-01-20T08:15:40.330Z"
   },
   {
    "duration": 53,
    "start_time": "2022-01-20T08:17:43.462Z"
   },
   {
    "duration": 10,
    "start_time": "2022-01-20T08:17:43.517Z"
   },
   {
    "duration": 12,
    "start_time": "2022-01-20T08:17:43.529Z"
   },
   {
    "duration": 30,
    "start_time": "2022-01-20T08:17:43.543Z"
   },
   {
    "duration": 8,
    "start_time": "2022-01-20T08:17:43.575Z"
   },
   {
    "duration": 8,
    "start_time": "2022-01-20T08:17:43.584Z"
   },
   {
    "duration": 8,
    "start_time": "2022-01-20T08:17:43.594Z"
   },
   {
    "duration": 24,
    "start_time": "2022-01-20T08:17:43.603Z"
   },
   {
    "duration": 46,
    "start_time": "2022-01-20T08:17:43.630Z"
   },
   {
    "duration": 5,
    "start_time": "2022-01-20T08:17:43.679Z"
   },
   {
    "duration": 12,
    "start_time": "2022-01-20T08:17:43.686Z"
   },
   {
    "duration": 3,
    "start_time": "2022-01-20T08:17:43.700Z"
   },
   {
    "duration": 20,
    "start_time": "2022-01-20T08:17:43.705Z"
   },
   {
    "duration": 13,
    "start_time": "2022-01-20T08:17:43.727Z"
   },
   {
    "duration": 13,
    "start_time": "2022-01-20T08:17:43.742Z"
   },
   {
    "duration": 7,
    "start_time": "2022-01-20T08:17:43.772Z"
   },
   {
    "duration": 10,
    "start_time": "2022-01-20T08:17:43.780Z"
   },
   {
    "duration": 30,
    "start_time": "2022-01-20T08:17:43.792Z"
   },
   {
    "duration": 8,
    "start_time": "2022-01-20T08:17:43.824Z"
   },
   {
    "duration": 297,
    "start_time": "2022-01-20T08:17:51.137Z"
   },
   {
    "duration": 276,
    "start_time": "2022-01-20T08:17:57.234Z"
   },
   {
    "duration": 12,
    "start_time": "2022-01-20T08:18:04.586Z"
   },
   {
    "duration": 11,
    "start_time": "2022-01-20T08:18:16.081Z"
   },
   {
    "duration": 6315,
    "start_time": "2022-01-20T08:23:28.818Z"
   },
   {
    "duration": 4,
    "start_time": "2022-01-20T08:24:50.137Z"
   },
   {
    "duration": 4,
    "start_time": "2022-01-20T08:24:56.154Z"
   },
   {
    "duration": 4,
    "start_time": "2022-01-20T08:25:01.242Z"
   },
   {
    "duration": 967,
    "start_time": "2022-01-20T08:26:05.082Z"
   },
   {
    "duration": 18,
    "start_time": "2022-01-20T08:44:26.977Z"
   },
   {
    "duration": 4,
    "start_time": "2022-01-20T08:44:33.565Z"
   },
   {
    "duration": 99,
    "start_time": "2022-01-20T08:45:58.070Z"
   },
   {
    "duration": 624,
    "start_time": "2022-01-20T08:46:15.653Z"
   },
   {
    "duration": 630,
    "start_time": "2022-01-20T08:46:54.341Z"
   },
   {
    "duration": 617,
    "start_time": "2022-01-20T08:47:11.525Z"
   },
   {
    "duration": 968,
    "start_time": "2022-01-20T08:47:41.557Z"
   },
   {
    "duration": 614,
    "start_time": "2022-01-20T08:47:53.189Z"
   },
   {
    "duration": 630,
    "start_time": "2022-01-20T08:48:01.901Z"
   },
   {
    "duration": 640,
    "start_time": "2022-01-20T08:48:32.133Z"
   },
   {
    "duration": 620,
    "start_time": "2022-01-20T08:48:41.934Z"
   },
   {
    "duration": 621,
    "start_time": "2022-01-20T08:49:04.246Z"
   },
   {
    "duration": 284,
    "start_time": "2022-01-20T08:57:49.365Z"
   },
   {
    "duration": 272,
    "start_time": "2022-01-20T08:58:15.445Z"
   },
   {
    "duration": 19,
    "start_time": "2022-01-20T09:00:38.766Z"
   },
   {
    "duration": 297,
    "start_time": "2022-01-20T09:02:29.797Z"
   },
   {
    "duration": 262,
    "start_time": "2022-01-20T09:03:50.430Z"
   },
   {
    "duration": 20,
    "start_time": "2022-01-20T09:04:21.430Z"
   },
   {
    "duration": 624,
    "start_time": "2022-01-20T09:14:06.059Z"
   },
   {
    "duration": 273,
    "start_time": "2022-01-20T09:14:21.603Z"
   },
   {
    "duration": 5039,
    "start_time": "2022-01-20T09:16:44.147Z"
   },
   {
    "duration": 16,
    "start_time": "2022-01-20T09:26:07.505Z"
   },
   {
    "duration": 8703,
    "start_time": "2022-01-20T09:27:59.792Z"
   },
   {
    "duration": 4,
    "start_time": "2022-01-20T09:30:07.056Z"
   },
   {
    "duration": 4,
    "start_time": "2022-01-20T09:30:32.400Z"
   },
   {
    "duration": 3452,
    "start_time": "2022-01-20T09:31:01.191Z"
   },
   {
    "duration": 3585,
    "start_time": "2022-01-20T09:31:19.272Z"
   },
   {
    "duration": 9824,
    "start_time": "2022-01-20T09:32:02.264Z"
   },
   {
    "duration": 8328,
    "start_time": "2022-01-20T09:33:48.900Z"
   },
   {
    "duration": 3862,
    "start_time": "2022-01-20T09:35:16.199Z"
   },
   {
    "duration": 3970,
    "start_time": "2022-01-20T09:35:31.392Z"
   },
   {
    "duration": 3806,
    "start_time": "2022-01-20T09:36:23.873Z"
   },
   {
    "duration": 32,
    "start_time": "2022-01-20T09:37:58.224Z"
   },
   {
    "duration": 3594,
    "start_time": "2022-01-20T09:38:45.848Z"
   },
   {
    "duration": 7,
    "start_time": "2022-01-20T09:39:04.376Z"
   },
   {
    "duration": 24,
    "start_time": "2022-01-20T09:53:34.703Z"
   },
   {
    "duration": 7,
    "start_time": "2022-01-20T09:54:17.902Z"
   },
   {
    "duration": 19,
    "start_time": "2022-01-20T09:56:15.494Z"
   },
   {
    "duration": 19,
    "start_time": "2022-01-20T09:57:22.333Z"
   },
   {
    "duration": 50,
    "start_time": "2022-01-20T09:57:44.110Z"
   },
   {
    "duration": 51,
    "start_time": "2022-01-20T09:58:39.828Z"
   },
   {
    "duration": 63,
    "start_time": "2022-01-20T09:58:53.157Z"
   },
   {
    "duration": 11,
    "start_time": "2022-01-20T09:58:53.223Z"
   },
   {
    "duration": 39,
    "start_time": "2022-01-20T09:58:53.236Z"
   },
   {
    "duration": 8,
    "start_time": "2022-01-20T09:58:53.277Z"
   },
   {
    "duration": 9,
    "start_time": "2022-01-20T09:58:53.286Z"
   },
   {
    "duration": 7,
    "start_time": "2022-01-20T09:58:53.297Z"
   },
   {
    "duration": 9,
    "start_time": "2022-01-20T09:58:53.305Z"
   },
   {
    "duration": 56,
    "start_time": "2022-01-20T09:58:53.315Z"
   },
   {
    "duration": 9,
    "start_time": "2022-01-20T09:58:53.374Z"
   },
   {
    "duration": 4,
    "start_time": "2022-01-20T09:58:53.385Z"
   },
   {
    "duration": 11,
    "start_time": "2022-01-20T09:58:53.390Z"
   },
   {
    "duration": 3,
    "start_time": "2022-01-20T09:58:53.402Z"
   },
   {
    "duration": 9,
    "start_time": "2022-01-20T09:58:53.406Z"
   },
   {
    "duration": 11,
    "start_time": "2022-01-20T09:58:53.416Z"
   },
   {
    "duration": 11,
    "start_time": "2022-01-20T09:58:53.428Z"
   },
   {
    "duration": 34,
    "start_time": "2022-01-20T09:58:53.440Z"
   },
   {
    "duration": 8,
    "start_time": "2022-01-20T09:58:53.475Z"
   },
   {
    "duration": 27,
    "start_time": "2022-01-20T09:58:53.484Z"
   },
   {
    "duration": 7,
    "start_time": "2022-01-20T09:58:53.512Z"
   },
   {
    "duration": 68,
    "start_time": "2022-01-20T09:58:53.521Z"
   },
   {
    "duration": 13,
    "start_time": "2022-01-20T09:58:53.590Z"
   },
   {
    "duration": 16,
    "start_time": "2022-01-20T10:02:16.556Z"
   },
   {
    "duration": 2193,
    "start_time": "2022-01-20T11:43:25.562Z"
   },
   {
    "duration": 1968,
    "start_time": "2022-01-20T11:43:43.626Z"
   },
   {
    "duration": 1847,
    "start_time": "2022-01-20T11:45:40.625Z"
   },
   {
    "duration": 1875,
    "start_time": "2022-01-20T11:46:51.361Z"
   },
   {
    "duration": 15,
    "start_time": "2022-01-20T11:50:49.930Z"
   },
   {
    "duration": 28,
    "start_time": "2022-01-20T12:03:20.670Z"
   },
   {
    "duration": 9,
    "start_time": "2022-01-20T12:04:01.335Z"
   },
   {
    "duration": 9,
    "start_time": "2022-01-20T12:16:41.725Z"
   },
   {
    "duration": 5,
    "start_time": "2022-01-20T12:27:41.652Z"
   },
   {
    "duration": 9,
    "start_time": "2022-01-20T12:28:13.972Z"
   },
   {
    "duration": 349,
    "start_time": "2022-01-20T12:28:34.756Z"
   },
   {
    "duration": 286,
    "start_time": "2022-01-20T12:28:49.396Z"
   },
   {
    "duration": 8,
    "start_time": "2022-01-20T12:29:18.500Z"
   },
   {
    "duration": 59,
    "start_time": "2022-01-20T12:32:04.622Z"
   },
   {
    "duration": 10,
    "start_time": "2022-01-20T12:32:04.683Z"
   },
   {
    "duration": 9,
    "start_time": "2022-01-20T12:32:04.696Z"
   },
   {
    "duration": 7,
    "start_time": "2022-01-20T12:32:04.707Z"
   },
   {
    "duration": 6,
    "start_time": "2022-01-20T12:32:04.716Z"
   },
   {
    "duration": 7,
    "start_time": "2022-01-20T12:32:04.723Z"
   },
   {
    "duration": 6,
    "start_time": "2022-01-20T12:32:04.772Z"
   },
   {
    "duration": 23,
    "start_time": "2022-01-20T12:32:04.780Z"
   },
   {
    "duration": 9,
    "start_time": "2022-01-20T12:32:04.805Z"
   },
   {
    "duration": 4,
    "start_time": "2022-01-20T12:32:04.816Z"
   },
   {
    "duration": 11,
    "start_time": "2022-01-20T12:32:04.822Z"
   },
   {
    "duration": 3,
    "start_time": "2022-01-20T12:32:04.835Z"
   },
   {
    "duration": 34,
    "start_time": "2022-01-20T12:32:04.839Z"
   },
   {
    "duration": 9,
    "start_time": "2022-01-20T12:32:04.875Z"
   },
   {
    "duration": 11,
    "start_time": "2022-01-20T12:32:04.885Z"
   },
   {
    "duration": 12,
    "start_time": "2022-01-20T12:32:04.898Z"
   },
   {
    "duration": 13,
    "start_time": "2022-01-20T12:32:04.912Z"
   },
   {
    "duration": 15,
    "start_time": "2022-01-20T12:32:04.927Z"
   },
   {
    "duration": 45,
    "start_time": "2022-01-20T12:32:04.944Z"
   },
   {
    "duration": 9,
    "start_time": "2022-01-20T12:32:04.991Z"
   },
   {
    "duration": 2731,
    "start_time": "2022-01-20T12:32:05.001Z"
   },
   {
    "duration": 11,
    "start_time": "2022-01-20T12:32:07.734Z"
   },
   {
    "duration": 24,
    "start_time": "2022-01-20T12:32:07.747Z"
   },
   {
    "duration": 27,
    "start_time": "2022-01-20T12:33:02.415Z"
   },
   {
    "duration": 18,
    "start_time": "2022-01-20T12:33:45.940Z"
   },
   {
    "duration": 9,
    "start_time": "2022-01-20T12:34:32.317Z"
   },
   {
    "duration": 533,
    "start_time": "2022-01-20T12:36:21.036Z"
   },
   {
    "duration": 61,
    "start_time": "2022-01-20T12:37:22.310Z"
   },
   {
    "duration": 12,
    "start_time": "2022-01-20T12:37:22.373Z"
   },
   {
    "duration": 14,
    "start_time": "2022-01-20T12:37:22.387Z"
   },
   {
    "duration": 14,
    "start_time": "2022-01-20T12:37:22.403Z"
   },
   {
    "duration": 22,
    "start_time": "2022-01-20T12:37:22.419Z"
   },
   {
    "duration": 10,
    "start_time": "2022-01-20T12:37:22.442Z"
   },
   {
    "duration": 9,
    "start_time": "2022-01-20T12:37:22.472Z"
   },
   {
    "duration": 30,
    "start_time": "2022-01-20T12:37:22.484Z"
   },
   {
    "duration": 10,
    "start_time": "2022-01-20T12:37:22.516Z"
   },
   {
    "duration": 10,
    "start_time": "2022-01-20T12:37:22.527Z"
   },
   {
    "duration": 20,
    "start_time": "2022-01-20T12:37:22.539Z"
   },
   {
    "duration": 3,
    "start_time": "2022-01-20T12:37:22.571Z"
   },
   {
    "duration": 22,
    "start_time": "2022-01-20T12:37:22.576Z"
   },
   {
    "duration": 10,
    "start_time": "2022-01-20T12:37:22.600Z"
   },
   {
    "duration": 10,
    "start_time": "2022-01-20T12:37:22.612Z"
   },
   {
    "duration": 21,
    "start_time": "2022-01-20T12:37:22.624Z"
   },
   {
    "duration": 21,
    "start_time": "2022-01-20T12:37:22.647Z"
   },
   {
    "duration": 21,
    "start_time": "2022-01-20T12:37:22.669Z"
   },
   {
    "duration": 37,
    "start_time": "2022-01-20T12:37:22.691Z"
   },
   {
    "duration": 10,
    "start_time": "2022-01-20T12:37:22.730Z"
   },
   {
    "duration": 2763,
    "start_time": "2022-01-20T12:37:22.741Z"
   },
   {
    "duration": 20,
    "start_time": "2022-01-20T12:37:25.506Z"
   },
   {
    "duration": 308,
    "start_time": "2022-01-20T12:37:25.530Z"
   },
   {
    "duration": 3694,
    "start_time": "2022-01-20T12:37:46.220Z"
   },
   {
    "duration": 10,
    "start_time": "2022-01-20T12:38:25.108Z"
   },
   {
    "duration": 7,
    "start_time": "2022-01-20T12:38:44.915Z"
   },
   {
    "duration": 7,
    "start_time": "2022-01-20T12:39:23.540Z"
   },
   {
    "duration": 269,
    "start_time": "2022-01-20T12:40:35.995Z"
   },
   {
    "duration": 3537,
    "start_time": "2022-01-20T12:41:01.243Z"
   },
   {
    "duration": 9,
    "start_time": "2022-01-20T12:42:40.916Z"
   },
   {
    "duration": 7,
    "start_time": "2022-01-20T12:45:06.594Z"
   },
   {
    "duration": 5,
    "start_time": "2022-01-20T12:45:13.283Z"
   },
   {
    "duration": 7,
    "start_time": "2022-01-20T12:45:19.764Z"
   },
   {
    "duration": 8,
    "start_time": "2022-01-20T12:57:35.857Z"
   },
   {
    "duration": 7614,
    "start_time": "2022-01-20T12:58:14.290Z"
   },
   {
    "duration": 268,
    "start_time": "2022-01-20T12:59:05.546Z"
   },
   {
    "duration": 289,
    "start_time": "2022-01-20T12:59:22.466Z"
   },
   {
    "duration": 279,
    "start_time": "2022-01-20T12:59:47.035Z"
   },
   {
    "duration": 576,
    "start_time": "2022-01-20T13:00:04.666Z"
   },
   {
    "duration": 9,
    "start_time": "2022-01-20T13:00:48.977Z"
   },
   {
    "duration": 6,
    "start_time": "2022-01-20T13:03:14.592Z"
   },
   {
    "duration": 7,
    "start_time": "2022-01-20T13:03:32.945Z"
   },
   {
    "duration": 6,
    "start_time": "2022-01-20T13:03:45.154Z"
   },
   {
    "duration": 57,
    "start_time": "2022-01-20T13:20:51.148Z"
   },
   {
    "duration": 10,
    "start_time": "2022-01-20T13:20:51.206Z"
   },
   {
    "duration": 9,
    "start_time": "2022-01-20T13:20:51.218Z"
   },
   {
    "duration": 6,
    "start_time": "2022-01-20T13:20:51.229Z"
   },
   {
    "duration": 38,
    "start_time": "2022-01-20T13:20:51.237Z"
   },
   {
    "duration": 6,
    "start_time": "2022-01-20T13:20:51.277Z"
   },
   {
    "duration": 6,
    "start_time": "2022-01-20T13:20:51.284Z"
   },
   {
    "duration": 22,
    "start_time": "2022-01-20T13:20:51.293Z"
   },
   {
    "duration": 10,
    "start_time": "2022-01-20T13:20:51.317Z"
   },
   {
    "duration": 4,
    "start_time": "2022-01-20T13:20:51.328Z"
   },
   {
    "duration": 42,
    "start_time": "2022-01-20T13:20:51.334Z"
   },
   {
    "duration": 3,
    "start_time": "2022-01-20T13:20:51.377Z"
   },
   {
    "duration": 4,
    "start_time": "2022-01-20T13:20:51.382Z"
   },
   {
    "duration": 11,
    "start_time": "2022-01-20T13:20:51.388Z"
   },
   {
    "duration": 10,
    "start_time": "2022-01-20T13:20:51.400Z"
   },
   {
    "duration": 16,
    "start_time": "2022-01-20T13:20:51.411Z"
   },
   {
    "duration": 12,
    "start_time": "2022-01-20T13:20:51.428Z"
   },
   {
    "duration": 10,
    "start_time": "2022-01-20T13:20:51.442Z"
   },
   {
    "duration": 41,
    "start_time": "2022-01-20T13:20:51.453Z"
   },
   {
    "duration": 9,
    "start_time": "2022-01-20T13:20:51.496Z"
   },
   {
    "duration": 2646,
    "start_time": "2022-01-20T13:20:51.506Z"
   },
   {
    "duration": 25,
    "start_time": "2022-01-20T13:20:54.154Z"
   },
   {
    "duration": 9,
    "start_time": "2022-01-20T13:20:54.182Z"
   },
   {
    "duration": 5,
    "start_time": "2022-01-20T13:20:54.193Z"
   },
   {
    "duration": 6,
    "start_time": "2022-01-20T13:20:54.199Z"
   },
   {
    "duration": 7,
    "start_time": "2022-01-20T13:20:54.207Z"
   },
   {
    "duration": 6366,
    "start_time": "2022-01-20T13:26:21.803Z"
   },
   {
    "duration": 6587,
    "start_time": "2022-01-20T13:26:42.300Z"
   },
   {
    "duration": 6917,
    "start_time": "2022-01-20T13:27:08.452Z"
   },
   {
    "duration": 7206,
    "start_time": "2022-01-20T13:27:27.051Z"
   },
   {
    "duration": 83,
    "start_time": "2022-01-20T13:27:53.611Z"
   },
   {
    "duration": 8637,
    "start_time": "2022-01-20T13:28:02.730Z"
   },
   {
    "duration": 6647,
    "start_time": "2022-01-20T13:28:27.652Z"
   },
   {
    "duration": 6701,
    "start_time": "2022-01-20T13:28:51.643Z"
   },
   {
    "duration": 267,
    "start_time": "2022-01-20T13:29:20.156Z"
   },
   {
    "duration": 7,
    "start_time": "2022-01-20T13:30:47.491Z"
   },
   {
    "duration": 7,
    "start_time": "2022-01-20T13:30:54.339Z"
   },
   {
    "duration": 7,
    "start_time": "2022-01-20T13:31:49.819Z"
   },
   {
    "duration": 8,
    "start_time": "2022-01-20T13:32:30.276Z"
   },
   {
    "duration": 325,
    "start_time": "2022-01-20T13:38:00.499Z"
   },
   {
    "duration": 6,
    "start_time": "2022-01-20T13:38:25.907Z"
   },
   {
    "duration": 21,
    "start_time": "2022-01-20T13:43:05.762Z"
   },
   {
    "duration": 9,
    "start_time": "2022-01-20T13:43:29.195Z"
   },
   {
    "duration": 8,
    "start_time": "2022-01-20T13:43:42.924Z"
   },
   {
    "duration": 9,
    "start_time": "2022-01-20T13:44:36.931Z"
   },
   {
    "duration": 23,
    "start_time": "2022-01-20T13:45:31.739Z"
   },
   {
    "duration": 1770,
    "start_time": "2022-01-20T13:46:44.763Z"
   },
   {
    "duration": 93,
    "start_time": "2022-01-20T13:47:05.012Z"
   },
   {
    "duration": 84,
    "start_time": "2022-01-20T13:47:16.410Z"
   },
   {
    "duration": 143,
    "start_time": "2022-01-20T13:47:21.627Z"
   },
   {
    "duration": 10,
    "start_time": "2022-01-20T13:47:31.586Z"
   },
   {
    "duration": 9,
    "start_time": "2022-01-20T13:47:43.410Z"
   },
   {
    "duration": 12,
    "start_time": "2022-01-20T13:49:50.626Z"
   },
   {
    "duration": 10,
    "start_time": "2022-01-20T13:50:41.115Z"
   },
   {
    "duration": 9,
    "start_time": "2022-01-20T13:51:16.739Z"
   },
   {
    "duration": 8,
    "start_time": "2022-01-20T13:52:33.267Z"
   },
   {
    "duration": 8,
    "start_time": "2022-01-20T13:54:11.370Z"
   },
   {
    "duration": 19,
    "start_time": "2022-01-20T14:04:04.473Z"
   },
   {
    "duration": 264,
    "start_time": "2022-01-20T14:11:47.152Z"
   },
   {
    "duration": 14,
    "start_time": "2022-01-20T14:11:54.369Z"
   },
   {
    "duration": 9,
    "start_time": "2022-01-20T14:13:00.337Z"
   },
   {
    "duration": 10,
    "start_time": "2022-01-20T14:17:27.737Z"
   },
   {
    "duration": 9,
    "start_time": "2022-01-20T14:17:32.640Z"
   },
   {
    "duration": 10,
    "start_time": "2022-01-20T14:20:07.087Z"
   },
   {
    "duration": 2177,
    "start_time": "2022-01-20T14:20:17.760Z"
   },
   {
    "duration": 265,
    "start_time": "2022-01-20T14:21:46.225Z"
   },
   {
    "duration": 7,
    "start_time": "2022-01-20T14:22:41.001Z"
   },
   {
    "duration": 8,
    "start_time": "2022-01-20T14:28:39.768Z"
   },
   {
    "duration": 5,
    "start_time": "2022-01-20T14:28:55.041Z"
   },
   {
    "duration": 14,
    "start_time": "2022-01-20T14:30:01.472Z"
   },
   {
    "duration": 11,
    "start_time": "2022-01-20T14:30:15.376Z"
   },
   {
    "duration": 12,
    "start_time": "2022-01-20T14:31:32.409Z"
   },
   {
    "duration": 13,
    "start_time": "2022-01-20T14:32:07.639Z"
   },
   {
    "duration": 12,
    "start_time": "2022-01-20T14:32:44.720Z"
   },
   {
    "duration": 13,
    "start_time": "2022-01-20T14:33:06.303Z"
   },
   {
    "duration": 56,
    "start_time": "2022-01-20T14:36:40.436Z"
   },
   {
    "duration": 12,
    "start_time": "2022-01-20T14:36:40.494Z"
   },
   {
    "duration": 13,
    "start_time": "2022-01-20T14:36:40.508Z"
   },
   {
    "duration": 8,
    "start_time": "2022-01-20T14:36:40.523Z"
   },
   {
    "duration": 38,
    "start_time": "2022-01-20T14:36:40.533Z"
   },
   {
    "duration": 7,
    "start_time": "2022-01-20T14:36:40.573Z"
   },
   {
    "duration": 14,
    "start_time": "2022-01-20T14:36:40.582Z"
   },
   {
    "duration": 40,
    "start_time": "2022-01-20T14:36:40.598Z"
   },
   {
    "duration": 13,
    "start_time": "2022-01-20T14:36:40.640Z"
   },
   {
    "duration": 11,
    "start_time": "2022-01-20T14:36:40.655Z"
   },
   {
    "duration": 27,
    "start_time": "2022-01-20T14:36:40.668Z"
   },
   {
    "duration": 11,
    "start_time": "2022-01-20T14:36:40.697Z"
   },
   {
    "duration": 16,
    "start_time": "2022-01-20T14:36:40.710Z"
   },
   {
    "duration": 22,
    "start_time": "2022-01-20T14:36:40.728Z"
   },
   {
    "duration": 10,
    "start_time": "2022-01-20T14:36:40.751Z"
   },
   {
    "duration": 21,
    "start_time": "2022-01-20T14:36:40.762Z"
   },
   {
    "duration": 28,
    "start_time": "2022-01-20T14:36:40.784Z"
   },
   {
    "duration": 18,
    "start_time": "2022-01-20T14:36:40.813Z"
   },
   {
    "duration": 50,
    "start_time": "2022-01-20T14:36:40.833Z"
   },
   {
    "duration": 12,
    "start_time": "2022-01-20T14:36:40.884Z"
   },
   {
    "duration": 2601,
    "start_time": "2022-01-20T14:36:40.897Z"
   },
   {
    "duration": 20,
    "start_time": "2022-01-20T14:36:43.500Z"
   },
   {
    "duration": 25,
    "start_time": "2022-01-20T14:36:43.523Z"
   },
   {
    "duration": 19,
    "start_time": "2022-01-20T14:36:43.550Z"
   },
   {
    "duration": 11,
    "start_time": "2022-01-20T14:36:43.570Z"
   },
   {
    "duration": 29,
    "start_time": "2022-01-20T14:36:43.582Z"
   },
   {
    "duration": 14,
    "start_time": "2022-01-20T14:36:43.612Z"
   },
   {
    "duration": 18,
    "start_time": "2022-01-20T14:36:43.627Z"
   },
   {
    "duration": 13,
    "start_time": "2022-01-20T14:36:43.646Z"
   },
   {
    "duration": 28,
    "start_time": "2022-01-20T14:36:43.661Z"
   },
   {
    "duration": 17,
    "start_time": "2022-01-20T14:36:43.691Z"
   },
   {
    "duration": 12,
    "start_time": "2022-01-20T14:36:43.709Z"
   },
   {
    "duration": 24,
    "start_time": "2022-01-20T14:36:43.722Z"
   },
   {
    "duration": 10,
    "start_time": "2022-01-20T15:36:08.214Z"
   },
   {
    "duration": 7,
    "start_time": "2022-01-20T15:36:38.989Z"
   },
   {
    "duration": 15,
    "start_time": "2022-01-20T15:37:08.829Z"
   },
   {
    "duration": 9,
    "start_time": "2022-01-20T15:45:24.084Z"
   },
   {
    "duration": 13,
    "start_time": "2022-01-20T15:51:01.763Z"
   },
   {
    "duration": 14,
    "start_time": "2022-01-20T15:51:26.651Z"
   },
   {
    "duration": 55,
    "start_time": "2022-01-20T15:52:54.024Z"
   },
   {
    "duration": 12,
    "start_time": "2022-01-20T15:52:54.081Z"
   },
   {
    "duration": 8,
    "start_time": "2022-01-20T15:52:54.095Z"
   },
   {
    "duration": 6,
    "start_time": "2022-01-20T15:52:54.105Z"
   },
   {
    "duration": 6,
    "start_time": "2022-01-20T15:52:54.112Z"
   },
   {
    "duration": 7,
    "start_time": "2022-01-20T15:52:54.119Z"
   },
   {
    "duration": 48,
    "start_time": "2022-01-20T15:52:54.127Z"
   },
   {
    "duration": 26,
    "start_time": "2022-01-20T15:52:54.177Z"
   },
   {
    "duration": 8,
    "start_time": "2022-01-20T15:52:54.205Z"
   },
   {
    "duration": 3,
    "start_time": "2022-01-20T15:52:54.215Z"
   },
   {
    "duration": 10,
    "start_time": "2022-01-20T15:52:54.220Z"
   },
   {
    "duration": 3,
    "start_time": "2022-01-20T15:52:54.231Z"
   },
   {
    "duration": 38,
    "start_time": "2022-01-20T15:52:54.235Z"
   },
   {
    "duration": 7,
    "start_time": "2022-01-20T15:52:54.275Z"
   },
   {
    "duration": 9,
    "start_time": "2022-01-20T15:52:54.284Z"
   },
   {
    "duration": 11,
    "start_time": "2022-01-20T15:52:54.294Z"
   },
   {
    "duration": 13,
    "start_time": "2022-01-20T15:52:54.306Z"
   },
   {
    "duration": 11,
    "start_time": "2022-01-20T15:52:54.321Z"
   },
   {
    "duration": 43,
    "start_time": "2022-01-20T15:52:54.334Z"
   },
   {
    "duration": 9,
    "start_time": "2022-01-20T15:52:54.378Z"
   },
   {
    "duration": 2695,
    "start_time": "2022-01-20T15:52:54.389Z"
   },
   {
    "duration": 19,
    "start_time": "2022-01-20T15:52:57.087Z"
   },
   {
    "duration": 9,
    "start_time": "2022-01-20T15:52:57.110Z"
   },
   {
    "duration": 11,
    "start_time": "2022-01-20T15:52:57.121Z"
   },
   {
    "duration": 41,
    "start_time": "2022-01-20T15:52:57.133Z"
   },
   {
    "duration": 13,
    "start_time": "2022-01-20T15:52:57.176Z"
   },
   {
    "duration": 12,
    "start_time": "2022-01-20T15:52:57.190Z"
   },
   {
    "duration": 7,
    "start_time": "2022-01-20T15:52:57.203Z"
   },
   {
    "duration": 12,
    "start_time": "2022-01-20T15:52:57.211Z"
   },
   {
    "duration": 10,
    "start_time": "2022-01-20T15:52:57.224Z"
   },
   {
    "duration": 43,
    "start_time": "2022-01-20T15:52:57.235Z"
   },
   {
    "duration": 9,
    "start_time": "2022-01-20T15:52:57.280Z"
   },
   {
    "duration": 12,
    "start_time": "2022-01-20T15:52:57.291Z"
   },
   {
    "duration": 21,
    "start_time": "2022-01-20T15:52:57.305Z"
   },
   {
    "duration": 8,
    "start_time": "2022-01-20T15:52:57.328Z"
   },
   {
    "duration": 40,
    "start_time": "2022-01-20T15:52:57.338Z"
   },
   {
    "duration": 9,
    "start_time": "2022-01-20T15:52:57.380Z"
   },
   {
    "duration": 8,
    "start_time": "2022-01-20T15:52:57.391Z"
   },
   {
    "duration": 8,
    "start_time": "2022-01-20T15:52:57.401Z"
   },
   {
    "duration": 11,
    "start_time": "2022-01-20T15:52:57.411Z"
   },
   {
    "duration": 257,
    "start_time": "2022-01-20T16:22:41.816Z"
   },
   {
    "duration": 8,
    "start_time": "2022-01-20T16:22:49.951Z"
   },
   {
    "duration": 4,
    "start_time": "2022-01-20T16:23:29.847Z"
   },
   {
    "duration": 5,
    "start_time": "2022-01-20T16:24:00.943Z"
   },
   {
    "duration": 5,
    "start_time": "2022-01-20T16:24:31.079Z"
   },
   {
    "duration": 11,
    "start_time": "2022-01-20T16:26:25.095Z"
   },
   {
    "duration": 15,
    "start_time": "2022-01-20T16:27:07.375Z"
   },
   {
    "duration": 8,
    "start_time": "2022-01-20T16:31:28.790Z"
   },
   {
    "duration": 7,
    "start_time": "2022-01-20T16:35:22.654Z"
   },
   {
    "duration": 8,
    "start_time": "2022-01-20T16:35:25.757Z"
   },
   {
    "duration": 7,
    "start_time": "2022-01-20T16:35:31.625Z"
   },
   {
    "duration": 7,
    "start_time": "2022-01-20T16:35:35.805Z"
   },
   {
    "duration": 5,
    "start_time": "2022-01-20T16:38:45.021Z"
   },
   {
    "duration": 6,
    "start_time": "2022-01-20T16:39:04.333Z"
   },
   {
    "duration": 5,
    "start_time": "2022-01-20T16:39:26.424Z"
   },
   {
    "duration": 8,
    "start_time": "2022-01-20T16:39:52.477Z"
   },
   {
    "duration": 5,
    "start_time": "2022-01-20T16:40:11.701Z"
   },
   {
    "duration": 6,
    "start_time": "2022-01-20T16:40:33.440Z"
   },
   {
    "duration": 52,
    "start_time": "2022-01-20T16:42:47.163Z"
   },
   {
    "duration": 9,
    "start_time": "2022-01-20T16:42:47.216Z"
   },
   {
    "duration": 20,
    "start_time": "2022-01-20T16:42:47.227Z"
   },
   {
    "duration": 6,
    "start_time": "2022-01-20T16:42:47.249Z"
   },
   {
    "duration": 16,
    "start_time": "2022-01-20T16:42:47.256Z"
   },
   {
    "duration": 20,
    "start_time": "2022-01-20T16:42:47.274Z"
   },
   {
    "duration": 6,
    "start_time": "2022-01-20T16:42:47.296Z"
   },
   {
    "duration": 38,
    "start_time": "2022-01-20T16:42:47.304Z"
   },
   {
    "duration": 9,
    "start_time": "2022-01-20T16:42:47.344Z"
   },
   {
    "duration": 10,
    "start_time": "2022-01-20T16:42:47.354Z"
   },
   {
    "duration": 27,
    "start_time": "2022-01-20T16:42:47.365Z"
   },
   {
    "duration": 10,
    "start_time": "2022-01-20T16:42:47.394Z"
   },
   {
    "duration": 9,
    "start_time": "2022-01-20T16:42:47.406Z"
   },
   {
    "duration": 25,
    "start_time": "2022-01-20T16:42:47.417Z"
   },
   {
    "duration": 16,
    "start_time": "2022-01-20T16:42:47.443Z"
   },
   {
    "duration": 19,
    "start_time": "2022-01-20T16:42:47.461Z"
   },
   {
    "duration": 25,
    "start_time": "2022-01-20T16:42:47.481Z"
   },
   {
    "duration": 13,
    "start_time": "2022-01-20T16:42:47.508Z"
   },
   {
    "duration": 40,
    "start_time": "2022-01-20T16:42:47.523Z"
   },
   {
    "duration": 17,
    "start_time": "2022-01-20T16:42:47.564Z"
   },
   {
    "duration": 2663,
    "start_time": "2022-01-20T16:42:47.583Z"
   },
   {
    "duration": 28,
    "start_time": "2022-01-20T16:42:50.249Z"
   },
   {
    "duration": 11,
    "start_time": "2022-01-20T16:42:50.279Z"
   },
   {
    "duration": 11,
    "start_time": "2022-01-20T16:42:50.292Z"
   },
   {
    "duration": 8,
    "start_time": "2022-01-20T16:42:50.304Z"
   },
   {
    "duration": 13,
    "start_time": "2022-01-20T16:42:50.313Z"
   },
   {
    "duration": 11,
    "start_time": "2022-01-20T16:42:50.327Z"
   },
   {
    "duration": 7,
    "start_time": "2022-01-20T16:42:50.372Z"
   },
   {
    "duration": 12,
    "start_time": "2022-01-20T16:42:50.381Z"
   },
   {
    "duration": 9,
    "start_time": "2022-01-20T16:42:50.395Z"
   },
   {
    "duration": 8,
    "start_time": "2022-01-20T16:42:50.406Z"
   },
   {
    "duration": 8,
    "start_time": "2022-01-20T16:42:50.416Z"
   },
   {
    "duration": 9,
    "start_time": "2022-01-20T16:42:50.426Z"
   },
   {
    "duration": 49,
    "start_time": "2022-01-20T16:42:50.436Z"
   },
   {
    "duration": 11,
    "start_time": "2022-01-20T16:42:50.487Z"
   },
   {
    "duration": 7,
    "start_time": "2022-01-20T16:42:50.499Z"
   },
   {
    "duration": 8,
    "start_time": "2022-01-20T16:42:50.507Z"
   },
   {
    "duration": 9,
    "start_time": "2022-01-20T16:42:50.516Z"
   },
   {
    "duration": 5,
    "start_time": "2022-01-20T16:42:50.526Z"
   },
   {
    "duration": 42,
    "start_time": "2022-01-20T16:42:50.532Z"
   },
   {
    "duration": 4,
    "start_time": "2022-01-20T16:42:50.576Z"
   },
   {
    "duration": 7,
    "start_time": "2022-01-20T16:42:50.581Z"
   },
   {
    "duration": 4,
    "start_time": "2022-01-20T16:42:50.589Z"
   },
   {
    "duration": 8,
    "start_time": "2022-01-20T16:42:50.594Z"
   },
   {
    "duration": 12,
    "start_time": "2022-01-20T16:42:50.603Z"
   },
   {
    "duration": 10,
    "start_time": "2022-01-20T16:42:50.617Z"
   },
   {
    "duration": 9,
    "start_time": "2022-01-20T16:42:50.629Z"
   },
   {
    "duration": 40,
    "start_time": "2022-01-20T16:42:50.639Z"
   },
   {
    "duration": 9,
    "start_time": "2022-01-20T16:42:50.681Z"
   },
   {
    "duration": 8,
    "start_time": "2022-01-20T16:42:50.691Z"
   },
   {
    "duration": 77,
    "start_time": "2022-01-20T16:48:14.107Z"
   },
   {
    "duration": 16,
    "start_time": "2022-01-20T16:48:14.187Z"
   },
   {
    "duration": 14,
    "start_time": "2022-01-20T16:48:14.205Z"
   },
   {
    "duration": 9,
    "start_time": "2022-01-20T16:48:14.221Z"
   },
   {
    "duration": 41,
    "start_time": "2022-01-20T16:48:14.232Z"
   },
   {
    "duration": 7,
    "start_time": "2022-01-20T16:48:14.275Z"
   },
   {
    "duration": 6,
    "start_time": "2022-01-20T16:48:14.283Z"
   },
   {
    "duration": 24,
    "start_time": "2022-01-20T16:48:14.292Z"
   },
   {
    "duration": 11,
    "start_time": "2022-01-20T16:48:14.318Z"
   },
   {
    "duration": 42,
    "start_time": "2022-01-20T16:48:14.330Z"
   },
   {
    "duration": 25,
    "start_time": "2022-01-20T16:48:14.374Z"
   },
   {
    "duration": 5,
    "start_time": "2022-01-20T16:48:14.401Z"
   },
   {
    "duration": 5,
    "start_time": "2022-01-20T16:48:14.407Z"
   },
   {
    "duration": 8,
    "start_time": "2022-01-20T16:48:14.414Z"
   },
   {
    "duration": 8,
    "start_time": "2022-01-20T16:48:14.424Z"
   },
   {
    "duration": 40,
    "start_time": "2022-01-20T16:48:14.434Z"
   },
   {
    "duration": 7,
    "start_time": "2022-01-20T16:48:14.476Z"
   },
   {
    "duration": 8,
    "start_time": "2022-01-20T16:48:14.485Z"
   },
   {
    "duration": 29,
    "start_time": "2022-01-20T16:48:14.494Z"
   },
   {
    "duration": 9,
    "start_time": "2022-01-20T16:48:14.524Z"
   },
   {
    "duration": 2630,
    "start_time": "2022-01-20T16:48:14.535Z"
   },
   {
    "duration": 30,
    "start_time": "2022-01-20T16:48:17.171Z"
   },
   {
    "duration": 9,
    "start_time": "2022-01-20T16:48:17.205Z"
   },
   {
    "duration": 11,
    "start_time": "2022-01-20T16:48:17.216Z"
   },
   {
    "duration": 8,
    "start_time": "2022-01-20T16:48:17.229Z"
   },
   {
    "duration": 42,
    "start_time": "2022-01-20T16:48:17.238Z"
   },
   {
    "duration": 10,
    "start_time": "2022-01-20T16:48:17.282Z"
   },
   {
    "duration": 13,
    "start_time": "2022-01-20T16:48:17.294Z"
   },
   {
    "duration": 11,
    "start_time": "2022-01-20T16:48:17.309Z"
   },
   {
    "duration": 11,
    "start_time": "2022-01-20T16:48:17.322Z"
   },
   {
    "duration": 45,
    "start_time": "2022-01-20T16:48:17.334Z"
   },
   {
    "duration": 11,
    "start_time": "2022-01-20T16:48:17.380Z"
   },
   {
    "duration": 18,
    "start_time": "2022-01-20T16:48:17.392Z"
   },
   {
    "duration": 7,
    "start_time": "2022-01-20T16:48:17.411Z"
   },
   {
    "duration": 8,
    "start_time": "2022-01-20T16:48:17.420Z"
   },
   {
    "duration": 43,
    "start_time": "2022-01-20T16:48:17.430Z"
   },
   {
    "duration": 7,
    "start_time": "2022-01-20T16:48:17.474Z"
   },
   {
    "duration": 5,
    "start_time": "2022-01-20T16:48:17.483Z"
   },
   {
    "duration": 8,
    "start_time": "2022-01-20T16:48:17.490Z"
   },
   {
    "duration": 7,
    "start_time": "2022-01-20T16:48:17.500Z"
   },
   {
    "duration": 10,
    "start_time": "2022-01-20T16:48:17.509Z"
   },
   {
    "duration": 5,
    "start_time": "2022-01-20T16:48:17.521Z"
   },
   {
    "duration": 48,
    "start_time": "2022-01-20T16:48:17.528Z"
   },
   {
    "duration": 13,
    "start_time": "2022-01-20T16:48:17.578Z"
   },
   {
    "duration": 16,
    "start_time": "2022-01-20T16:48:17.593Z"
   },
   {
    "duration": 13,
    "start_time": "2022-01-20T16:48:17.612Z"
   },
   {
    "duration": 13,
    "start_time": "2022-01-20T16:48:17.627Z"
   },
   {
    "duration": 46,
    "start_time": "2022-01-20T16:48:17.642Z"
   },
   {
    "duration": 11,
    "start_time": "2022-01-20T16:48:17.690Z"
   },
   {
    "duration": 817,
    "start_time": "2022-01-25T04:19:33.272Z"
   },
   {
    "duration": 14,
    "start_time": "2022-01-25T04:19:34.091Z"
   },
   {
    "duration": 11,
    "start_time": "2022-01-25T04:19:34.108Z"
   },
   {
    "duration": 37,
    "start_time": "2022-01-25T04:19:34.122Z"
   },
   {
    "duration": 9,
    "start_time": "2022-01-25T04:19:34.161Z"
   },
   {
    "duration": 9,
    "start_time": "2022-01-25T04:19:34.172Z"
   },
   {
    "duration": 9,
    "start_time": "2022-01-25T04:19:34.184Z"
   },
   {
    "duration": 73,
    "start_time": "2022-01-25T04:19:34.195Z"
   },
   {
    "duration": 12,
    "start_time": "2022-01-25T04:19:34.271Z"
   },
   {
    "duration": 5,
    "start_time": "2022-01-25T04:19:34.287Z"
   },
   {
    "duration": 18,
    "start_time": "2022-01-25T04:19:34.294Z"
   },
   {
    "duration": 4,
    "start_time": "2022-01-25T04:19:34.314Z"
   },
   {
    "duration": 41,
    "start_time": "2022-01-25T04:19:34.320Z"
   },
   {
    "duration": 10,
    "start_time": "2022-01-25T04:19:34.363Z"
   },
   {
    "duration": 9,
    "start_time": "2022-01-25T04:19:34.375Z"
   },
   {
    "duration": 9,
    "start_time": "2022-01-25T04:19:34.387Z"
   },
   {
    "duration": 15,
    "start_time": "2022-01-25T04:19:34.398Z"
   },
   {
    "duration": 47,
    "start_time": "2022-01-25T04:19:34.415Z"
   },
   {
    "duration": 46,
    "start_time": "2022-01-25T04:19:34.464Z"
   },
   {
    "duration": 11,
    "start_time": "2022-01-25T04:19:34.512Z"
   },
   {
    "duration": 3822,
    "start_time": "2022-01-25T04:19:34.526Z"
   },
   {
    "duration": 36,
    "start_time": "2022-01-25T04:19:38.351Z"
   },
   {
    "duration": 14,
    "start_time": "2022-01-25T04:19:38.390Z"
   },
   {
    "duration": 16,
    "start_time": "2022-01-25T04:19:38.407Z"
   },
   {
    "duration": 13,
    "start_time": "2022-01-25T04:19:38.460Z"
   },
   {
    "duration": 22,
    "start_time": "2022-01-25T04:19:38.475Z"
   },
   {
    "duration": 14,
    "start_time": "2022-01-25T04:19:38.503Z"
   },
   {
    "duration": 52,
    "start_time": "2022-01-25T04:19:38.520Z"
   },
   {
    "duration": 13,
    "start_time": "2022-01-25T04:19:38.574Z"
   },
   {
    "duration": 14,
    "start_time": "2022-01-25T04:19:38.589Z"
   },
   {
    "duration": 55,
    "start_time": "2022-01-25T04:19:38.605Z"
   },
   {
    "duration": 13,
    "start_time": "2022-01-25T04:19:38.662Z"
   },
   {
    "duration": 20,
    "start_time": "2022-01-25T04:19:38.678Z"
   },
   {
    "duration": 9,
    "start_time": "2022-01-25T04:19:38.700Z"
   },
   {
    "duration": 51,
    "start_time": "2022-01-25T04:19:38.711Z"
   },
   {
    "duration": 10,
    "start_time": "2022-01-25T04:19:38.764Z"
   },
   {
    "duration": 10,
    "start_time": "2022-01-25T04:19:38.776Z"
   },
   {
    "duration": 5,
    "start_time": "2022-01-25T04:19:38.788Z"
   },
   {
    "duration": 9,
    "start_time": "2022-01-25T04:19:38.795Z"
   },
   {
    "duration": 54,
    "start_time": "2022-01-25T04:19:38.806Z"
   },
   {
    "duration": 10,
    "start_time": "2022-01-25T04:19:38.863Z"
   },
   {
    "duration": 5,
    "start_time": "2022-01-25T04:19:38.876Z"
   },
   {
    "duration": 8,
    "start_time": "2022-01-25T04:19:38.883Z"
   },
   {
    "duration": 13,
    "start_time": "2022-01-25T04:19:38.893Z"
   },
   {
    "duration": 60,
    "start_time": "2022-01-25T04:19:38.908Z"
   },
   {
    "duration": 13,
    "start_time": "2022-01-25T04:19:38.970Z"
   },
   {
    "duration": 13,
    "start_time": "2022-01-25T04:19:38.985Z"
   },
   {
    "duration": 11,
    "start_time": "2022-01-25T04:19:39.001Z"
   },
   {
    "duration": 51,
    "start_time": "2022-01-25T04:19:39.014Z"
   },
   {
    "duration": 7,
    "start_time": "2022-01-25T04:33:10.521Z"
   },
   {
    "duration": 7,
    "start_time": "2022-01-25T04:33:15.852Z"
   },
   {
    "duration": 22,
    "start_time": "2022-01-25T04:37:56.656Z"
   },
   {
    "duration": 24,
    "start_time": "2022-01-25T04:39:14.057Z"
   },
   {
    "duration": 22,
    "start_time": "2022-01-25T04:39:14.175Z"
   },
   {
    "duration": 21,
    "start_time": "2022-01-25T04:39:15.599Z"
   },
   {
    "duration": 183,
    "start_time": "2022-01-25T16:34:21.598Z"
   },
   {
    "duration": 125,
    "start_time": "2022-01-25T16:34:37.069Z"
   },
   {
    "duration": 138,
    "start_time": "2022-01-25T16:34:42.954Z"
   },
   {
    "duration": 685,
    "start_time": "2022-01-25T16:34:53.605Z"
   },
   {
    "duration": 16,
    "start_time": "2022-01-25T16:34:54.292Z"
   },
   {
    "duration": 10,
    "start_time": "2022-01-25T16:34:54.310Z"
   },
   {
    "duration": 9,
    "start_time": "2022-01-25T16:34:54.322Z"
   },
   {
    "duration": 10,
    "start_time": "2022-01-25T16:34:54.333Z"
   },
   {
    "duration": 10,
    "start_time": "2022-01-25T16:34:54.345Z"
   },
   {
    "duration": 44,
    "start_time": "2022-01-25T16:34:54.357Z"
   },
   {
    "duration": 25,
    "start_time": "2022-01-25T16:34:54.404Z"
   },
   {
    "duration": 9,
    "start_time": "2022-01-25T16:34:54.431Z"
   },
   {
    "duration": 11,
    "start_time": "2022-01-25T16:34:54.442Z"
   },
   {
    "duration": 39,
    "start_time": "2022-01-25T16:34:54.455Z"
   },
   {
    "duration": 4,
    "start_time": "2022-01-25T16:34:54.496Z"
   },
   {
    "duration": 6,
    "start_time": "2022-01-25T16:34:54.502Z"
   },
   {
    "duration": 20,
    "start_time": "2022-01-25T16:34:54.510Z"
   },
   {
    "duration": 11,
    "start_time": "2022-01-25T16:34:54.532Z"
   },
   {
    "duration": 12,
    "start_time": "2022-01-25T16:34:54.545Z"
   },
   {
    "duration": 12,
    "start_time": "2022-01-25T16:34:54.558Z"
   },
   {
    "duration": 18,
    "start_time": "2022-01-25T16:34:54.572Z"
   },
   {
    "duration": 35,
    "start_time": "2022-01-25T16:34:54.591Z"
   },
   {
    "duration": 8,
    "start_time": "2022-01-25T16:34:54.628Z"
   },
   {
    "duration": 2938,
    "start_time": "2022-01-25T16:34:54.638Z"
   },
   {
    "duration": 29,
    "start_time": "2022-01-25T16:34:57.578Z"
   },
   {
    "duration": 16,
    "start_time": "2022-01-25T16:34:57.611Z"
   },
   {
    "duration": 13,
    "start_time": "2022-01-25T16:34:57.630Z"
   },
   {
    "duration": 10,
    "start_time": "2022-01-25T16:34:57.644Z"
   },
   {
    "duration": 42,
    "start_time": "2022-01-25T16:34:57.655Z"
   },
   {
    "duration": 12,
    "start_time": "2022-01-25T16:34:57.699Z"
   },
   {
    "duration": 13,
    "start_time": "2022-01-25T16:34:57.713Z"
   },
   {
    "duration": 10,
    "start_time": "2022-01-25T16:34:57.727Z"
   },
   {
    "duration": 11,
    "start_time": "2022-01-25T16:34:57.739Z"
   },
   {
    "duration": 9,
    "start_time": "2022-01-25T16:34:57.752Z"
   },
   {
    "duration": 14,
    "start_time": "2022-01-25T16:34:57.798Z"
   },
   {
    "duration": 12,
    "start_time": "2022-01-25T16:34:57.814Z"
   },
   {
    "duration": 15,
    "start_time": "2022-01-25T16:34:57.827Z"
   },
   {
    "duration": 13,
    "start_time": "2022-01-25T16:34:57.844Z"
   },
   {
    "duration": 46,
    "start_time": "2022-01-25T16:34:57.859Z"
   },
   {
    "duration": 8,
    "start_time": "2022-01-25T16:34:57.907Z"
   },
   {
    "duration": 12,
    "start_time": "2022-01-25T16:34:57.916Z"
   },
   {
    "duration": 18,
    "start_time": "2022-01-25T16:34:57.929Z"
   },
   {
    "duration": 16,
    "start_time": "2022-01-25T16:34:57.948Z"
   },
   {
    "duration": 6,
    "start_time": "2022-01-25T16:34:57.966Z"
   },
   {
    "duration": 12,
    "start_time": "2022-01-25T16:34:57.973Z"
   },
   {
    "duration": 6,
    "start_time": "2022-01-25T16:34:57.996Z"
   },
   {
    "duration": 9,
    "start_time": "2022-01-25T16:34:58.004Z"
   },
   {
    "duration": 4,
    "start_time": "2022-01-25T16:34:58.015Z"
   },
   {
    "duration": 7,
    "start_time": "2022-01-25T16:34:58.020Z"
   },
   {
    "duration": 12,
    "start_time": "2022-01-25T16:34:58.029Z"
   },
   {
    "duration": 12,
    "start_time": "2022-01-25T16:34:58.042Z"
   },
   {
    "duration": 50,
    "start_time": "2022-01-25T16:34:58.055Z"
   },
   {
    "duration": 14,
    "start_time": "2022-01-25T16:34:58.106Z"
   },
   {
    "duration": 20,
    "start_time": "2022-01-25T16:34:58.122Z"
   },
   {
    "duration": 17,
    "start_time": "2022-01-25T16:34:58.143Z"
   },
   {
    "duration": 9,
    "start_time": "2022-01-25T16:41:52.624Z"
   },
   {
    "duration": 9,
    "start_time": "2022-01-25T16:44:06.919Z"
   },
   {
    "duration": 12,
    "start_time": "2022-01-25T16:45:50.720Z"
   },
   {
    "duration": 13,
    "start_time": "2022-01-25T16:49:38.119Z"
   },
   {
    "duration": 68,
    "start_time": "2022-01-25T16:51:14.225Z"
   },
   {
    "duration": 13,
    "start_time": "2022-01-25T16:51:14.295Z"
   },
   {
    "duration": 36,
    "start_time": "2022-01-25T16:51:14.311Z"
   },
   {
    "duration": 41,
    "start_time": "2022-01-25T16:51:14.349Z"
   },
   {
    "duration": 33,
    "start_time": "2022-01-25T16:51:14.392Z"
   },
   {
    "duration": 101,
    "start_time": "2022-01-25T16:51:14.427Z"
   },
   {
    "duration": 151,
    "start_time": "2022-01-25T16:51:14.530Z"
   },
   {
    "duration": 101,
    "start_time": "2022-01-25T16:51:14.684Z"
   },
   {
    "duration": 133,
    "start_time": "2022-01-25T16:51:14.787Z"
   },
   {
    "duration": 287,
    "start_time": "2022-01-25T16:51:14.921Z"
   },
   {
    "duration": 51,
    "start_time": "2022-01-25T16:51:15.210Z"
   },
   {
    "duration": 23,
    "start_time": "2022-01-25T16:51:15.263Z"
   },
   {
    "duration": 13,
    "start_time": "2022-01-25T16:51:15.288Z"
   },
   {
    "duration": 37,
    "start_time": "2022-01-25T16:51:15.303Z"
   },
   {
    "duration": 25,
    "start_time": "2022-01-25T16:51:15.342Z"
   },
   {
    "duration": 37,
    "start_time": "2022-01-25T16:51:15.369Z"
   },
   {
    "duration": 55,
    "start_time": "2022-01-25T16:51:15.408Z"
   },
   {
    "duration": 40,
    "start_time": "2022-01-25T16:51:15.464Z"
   },
   {
    "duration": 42,
    "start_time": "2022-01-25T16:51:15.506Z"
   },
   {
    "duration": 59,
    "start_time": "2022-01-25T16:51:15.549Z"
   },
   {
    "duration": 13,
    "start_time": "2022-01-25T16:51:15.609Z"
   },
   {
    "duration": 2824,
    "start_time": "2022-01-25T16:51:15.623Z"
   },
   {
    "duration": 20,
    "start_time": "2022-01-25T16:51:18.451Z"
   },
   {
    "duration": 23,
    "start_time": "2022-01-25T16:51:18.474Z"
   },
   {
    "duration": 11,
    "start_time": "2022-01-25T16:51:18.499Z"
   },
   {
    "duration": 8,
    "start_time": "2022-01-25T16:51:18.512Z"
   },
   {
    "duration": 17,
    "start_time": "2022-01-25T16:51:18.522Z"
   },
   {
    "duration": 13,
    "start_time": "2022-01-25T16:51:18.542Z"
   },
   {
    "duration": 49,
    "start_time": "2022-01-25T16:51:18.557Z"
   },
   {
    "duration": 12,
    "start_time": "2022-01-25T16:51:18.608Z"
   },
   {
    "duration": 12,
    "start_time": "2022-01-25T16:51:18.622Z"
   },
   {
    "duration": 11,
    "start_time": "2022-01-25T16:51:18.636Z"
   },
   {
    "duration": 11,
    "start_time": "2022-01-25T16:51:18.650Z"
   },
   {
    "duration": 55,
    "start_time": "2022-01-25T16:51:18.662Z"
   },
   {
    "duration": 16,
    "start_time": "2022-01-25T16:51:18.719Z"
   },
   {
    "duration": 16,
    "start_time": "2022-01-25T16:51:18.737Z"
   },
   {
    "duration": 49,
    "start_time": "2022-01-25T16:51:18.755Z"
   },
   {
    "duration": 8,
    "start_time": "2022-01-25T16:51:18.806Z"
   },
   {
    "duration": 9,
    "start_time": "2022-01-25T16:51:18.816Z"
   },
   {
    "duration": 8,
    "start_time": "2022-01-25T16:51:18.827Z"
   },
   {
    "duration": 9,
    "start_time": "2022-01-25T16:51:18.837Z"
   },
   {
    "duration": 4,
    "start_time": "2022-01-25T16:51:18.848Z"
   },
   {
    "duration": 9,
    "start_time": "2022-01-25T16:51:18.898Z"
   },
   {
    "duration": 8,
    "start_time": "2022-01-25T16:51:18.909Z"
   },
   {
    "duration": 18,
    "start_time": "2022-01-25T16:51:18.918Z"
   },
   {
    "duration": 11,
    "start_time": "2022-01-25T16:51:18.938Z"
   },
   {
    "duration": 18,
    "start_time": "2022-01-25T16:51:18.951Z"
   },
   {
    "duration": 15,
    "start_time": "2022-01-25T16:51:18.971Z"
   },
   {
    "duration": 21,
    "start_time": "2022-01-25T16:51:18.988Z"
   },
   {
    "duration": 23,
    "start_time": "2022-01-25T16:51:19.010Z"
   },
   {
    "duration": 16,
    "start_time": "2022-01-25T16:51:19.034Z"
   },
   {
    "duration": 12,
    "start_time": "2022-01-25T16:51:19.052Z"
   },
   {
    "duration": 37,
    "start_time": "2022-01-25T16:51:19.066Z"
   },
   {
    "duration": 55,
    "start_time": "2022-01-25T16:51:45.801Z"
   },
   {
    "duration": 10,
    "start_time": "2022-01-25T16:51:45.858Z"
   },
   {
    "duration": 32,
    "start_time": "2022-01-25T16:51:45.870Z"
   },
   {
    "duration": 38,
    "start_time": "2022-01-25T16:51:45.904Z"
   },
   {
    "duration": 21,
    "start_time": "2022-01-25T16:51:45.944Z"
   },
   {
    "duration": 29,
    "start_time": "2022-01-25T16:51:45.966Z"
   },
   {
    "duration": 15,
    "start_time": "2022-01-25T16:51:45.997Z"
   },
   {
    "duration": 26,
    "start_time": "2022-01-25T16:51:46.015Z"
   },
   {
    "duration": 9,
    "start_time": "2022-01-25T16:51:46.043Z"
   },
   {
    "duration": 10,
    "start_time": "2022-01-25T16:51:46.054Z"
   },
   {
    "duration": 40,
    "start_time": "2022-01-25T16:51:46.065Z"
   },
   {
    "duration": 3,
    "start_time": "2022-01-25T16:51:46.107Z"
   },
   {
    "duration": 8,
    "start_time": "2022-01-25T16:51:46.112Z"
   },
   {
    "duration": 13,
    "start_time": "2022-01-25T16:51:46.121Z"
   },
   {
    "duration": 11,
    "start_time": "2022-01-25T16:51:46.136Z"
   },
   {
    "duration": 14,
    "start_time": "2022-01-25T16:51:46.149Z"
   },
   {
    "duration": 34,
    "start_time": "2022-01-25T16:51:46.165Z"
   },
   {
    "duration": 11,
    "start_time": "2022-01-25T16:51:46.201Z"
   },
   {
    "duration": 10,
    "start_time": "2022-01-25T16:51:46.214Z"
   },
   {
    "duration": 34,
    "start_time": "2022-01-25T16:51:46.226Z"
   },
   {
    "duration": 45,
    "start_time": "2022-01-25T16:51:46.261Z"
   },
   {
    "duration": 2973,
    "start_time": "2022-01-25T16:51:46.308Z"
   },
   {
    "duration": 25,
    "start_time": "2022-01-25T16:51:49.285Z"
   },
   {
    "duration": 32,
    "start_time": "2022-01-25T16:51:49.312Z"
   },
   {
    "duration": 17,
    "start_time": "2022-01-25T16:51:49.346Z"
   },
   {
    "duration": 8,
    "start_time": "2022-01-25T16:51:49.365Z"
   },
   {
    "duration": 24,
    "start_time": "2022-01-25T16:51:49.375Z"
   },
   {
    "duration": 14,
    "start_time": "2022-01-25T16:51:49.400Z"
   },
   {
    "duration": 14,
    "start_time": "2022-01-25T16:51:49.415Z"
   },
   {
    "duration": 16,
    "start_time": "2022-01-25T16:51:49.431Z"
   },
   {
    "duration": 13,
    "start_time": "2022-01-25T16:51:49.449Z"
   },
   {
    "duration": 35,
    "start_time": "2022-01-25T16:51:49.463Z"
   },
   {
    "duration": 12,
    "start_time": "2022-01-25T16:51:49.500Z"
   },
   {
    "duration": 20,
    "start_time": "2022-01-25T16:51:49.514Z"
   },
   {
    "duration": 15,
    "start_time": "2022-01-25T16:51:49.536Z"
   },
   {
    "duration": 45,
    "start_time": "2022-01-25T16:51:49.553Z"
   },
   {
    "duration": 15,
    "start_time": "2022-01-25T16:51:49.600Z"
   },
   {
    "duration": 11,
    "start_time": "2022-01-25T16:51:49.617Z"
   },
   {
    "duration": 10,
    "start_time": "2022-01-25T16:51:49.629Z"
   },
   {
    "duration": 9,
    "start_time": "2022-01-25T16:51:49.641Z"
   },
   {
    "duration": 13,
    "start_time": "2022-01-25T16:51:49.651Z"
   },
   {
    "duration": 33,
    "start_time": "2022-01-25T16:51:49.666Z"
   },
   {
    "duration": 7,
    "start_time": "2022-01-25T16:51:49.701Z"
   },
   {
    "duration": 8,
    "start_time": "2022-01-25T16:51:49.709Z"
   },
   {
    "duration": 8,
    "start_time": "2022-01-25T16:51:49.719Z"
   },
   {
    "duration": 4,
    "start_time": "2022-01-25T16:51:49.728Z"
   },
   {
    "duration": 8,
    "start_time": "2022-01-25T16:51:49.734Z"
   },
   {
    "duration": 15,
    "start_time": "2022-01-25T16:51:49.745Z"
   },
   {
    "duration": 43,
    "start_time": "2022-01-25T16:51:49.762Z"
   },
   {
    "duration": 11,
    "start_time": "2022-01-25T16:51:49.806Z"
   },
   {
    "duration": 13,
    "start_time": "2022-01-25T16:51:49.819Z"
   },
   {
    "duration": 10,
    "start_time": "2022-01-25T16:51:49.834Z"
   },
   {
    "duration": 13,
    "start_time": "2022-01-25T16:51:49.845Z"
   },
   {
    "duration": 8,
    "start_time": "2022-01-25T17:21:06.266Z"
   },
   {
    "duration": 12,
    "start_time": "2022-01-25T17:21:54.003Z"
   },
   {
    "duration": 10,
    "start_time": "2022-01-25T17:27:37.922Z"
   },
   {
    "duration": 7,
    "start_time": "2022-01-25T17:27:53.539Z"
   },
   {
    "duration": 8,
    "start_time": "2022-01-25T17:28:41.514Z"
   },
   {
    "duration": 6,
    "start_time": "2022-01-25T17:29:41.282Z"
   },
   {
    "duration": 62,
    "start_time": "2022-01-25T17:29:53.869Z"
   },
   {
    "duration": 10,
    "start_time": "2022-01-25T17:29:53.933Z"
   },
   {
    "duration": 15,
    "start_time": "2022-01-25T17:29:53.946Z"
   },
   {
    "duration": 37,
    "start_time": "2022-01-25T17:29:53.964Z"
   },
   {
    "duration": 9,
    "start_time": "2022-01-25T17:29:54.003Z"
   },
   {
    "duration": 9,
    "start_time": "2022-01-25T17:29:54.014Z"
   },
   {
    "duration": 8,
    "start_time": "2022-01-25T17:29:54.024Z"
   },
   {
    "duration": 67,
    "start_time": "2022-01-25T17:29:54.035Z"
   },
   {
    "duration": 11,
    "start_time": "2022-01-25T17:29:54.104Z"
   },
   {
    "duration": 7,
    "start_time": "2022-01-25T17:29:54.116Z"
   },
   {
    "duration": 14,
    "start_time": "2022-01-25T17:29:54.125Z"
   },
   {
    "duration": 3,
    "start_time": "2022-01-25T17:29:54.141Z"
   },
   {
    "duration": 11,
    "start_time": "2022-01-25T17:29:54.145Z"
   },
   {
    "duration": 12,
    "start_time": "2022-01-25T17:29:54.158Z"
   },
   {
    "duration": 34,
    "start_time": "2022-01-25T17:29:54.172Z"
   },
   {
    "duration": 10,
    "start_time": "2022-01-25T17:29:54.208Z"
   },
   {
    "duration": 20,
    "start_time": "2022-01-25T17:29:54.220Z"
   },
   {
    "duration": 13,
    "start_time": "2022-01-25T17:29:54.242Z"
   },
   {
    "duration": 9,
    "start_time": "2022-01-25T17:29:54.257Z"
   },
   {
    "duration": 10,
    "start_time": "2022-01-25T17:29:54.268Z"
   },
   {
    "duration": 19,
    "start_time": "2022-01-25T17:29:54.279Z"
   },
   {
    "duration": 29,
    "start_time": "2022-01-25T17:29:54.300Z"
   },
   {
    "duration": 11,
    "start_time": "2022-01-25T17:29:54.333Z"
   },
   {
    "duration": 2942,
    "start_time": "2022-01-25T17:29:54.347Z"
   },
   {
    "duration": 22,
    "start_time": "2022-01-25T17:29:57.291Z"
   },
   {
    "duration": 24,
    "start_time": "2022-01-25T17:29:57.314Z"
   },
   {
    "duration": 17,
    "start_time": "2022-01-25T17:29:57.339Z"
   },
   {
    "duration": 31,
    "start_time": "2022-01-25T17:29:57.357Z"
   },
   {
    "duration": 27,
    "start_time": "2022-01-25T17:29:57.391Z"
   },
   {
    "duration": 31,
    "start_time": "2022-01-25T17:29:57.420Z"
   },
   {
    "duration": 24,
    "start_time": "2022-01-25T17:29:57.453Z"
   },
   {
    "duration": 14,
    "start_time": "2022-01-25T17:29:57.479Z"
   },
   {
    "duration": 25,
    "start_time": "2022-01-25T17:29:57.495Z"
   },
   {
    "duration": 29,
    "start_time": "2022-01-25T17:29:57.522Z"
   },
   {
    "duration": 16,
    "start_time": "2022-01-25T17:29:57.553Z"
   },
   {
    "duration": 25,
    "start_time": "2022-01-25T17:29:57.571Z"
   },
   {
    "duration": 20,
    "start_time": "2022-01-25T17:29:57.598Z"
   },
   {
    "duration": 16,
    "start_time": "2022-01-25T17:29:57.620Z"
   },
   {
    "duration": 16,
    "start_time": "2022-01-25T17:29:57.638Z"
   },
   {
    "duration": 9,
    "start_time": "2022-01-25T17:29:57.656Z"
   },
   {
    "duration": 13,
    "start_time": "2022-01-25T17:29:57.698Z"
   },
   {
    "duration": 14,
    "start_time": "2022-01-25T17:29:57.713Z"
   },
   {
    "duration": 30,
    "start_time": "2022-01-25T17:29:57.729Z"
   },
   {
    "duration": 19,
    "start_time": "2022-01-25T17:29:57.760Z"
   },
   {
    "duration": 21,
    "start_time": "2022-01-25T17:29:57.781Z"
   },
   {
    "duration": 23,
    "start_time": "2022-01-25T17:29:57.804Z"
   },
   {
    "duration": 23,
    "start_time": "2022-01-25T17:29:57.829Z"
   },
   {
    "duration": 5,
    "start_time": "2022-01-25T17:29:57.854Z"
   },
   {
    "duration": 18,
    "start_time": "2022-01-25T17:29:57.861Z"
   },
   {
    "duration": 29,
    "start_time": "2022-01-25T17:29:57.881Z"
   },
   {
    "duration": 16,
    "start_time": "2022-01-25T17:29:57.912Z"
   },
   {
    "duration": 29,
    "start_time": "2022-01-25T17:29:57.930Z"
   },
   {
    "duration": 14,
    "start_time": "2022-01-25T17:29:57.961Z"
   },
   {
    "duration": 17,
    "start_time": "2022-01-25T17:29:57.977Z"
   },
   {
    "duration": 20,
    "start_time": "2022-01-25T17:29:57.996Z"
   },
   {
    "duration": 10,
    "start_time": "2022-01-25T17:31:08.641Z"
   },
   {
    "duration": 8,
    "start_time": "2022-01-25T17:31:11.234Z"
   },
   {
    "duration": 6,
    "start_time": "2022-01-25T17:31:43.737Z"
   },
   {
    "duration": 64,
    "start_time": "2022-01-25T17:33:02.600Z"
   },
   {
    "duration": 10,
    "start_time": "2022-01-25T17:33:02.666Z"
   },
   {
    "duration": 23,
    "start_time": "2022-01-25T17:33:02.678Z"
   },
   {
    "duration": 10,
    "start_time": "2022-01-25T17:33:02.704Z"
   },
   {
    "duration": 9,
    "start_time": "2022-01-25T17:33:02.716Z"
   },
   {
    "duration": 7,
    "start_time": "2022-01-25T17:33:02.727Z"
   },
   {
    "duration": 16,
    "start_time": "2022-01-25T17:33:02.736Z"
   },
   {
    "duration": 54,
    "start_time": "2022-01-25T17:33:02.755Z"
   },
   {
    "duration": 11,
    "start_time": "2022-01-25T17:33:02.811Z"
   },
   {
    "duration": 5,
    "start_time": "2022-01-25T17:33:02.824Z"
   },
   {
    "duration": 15,
    "start_time": "2022-01-25T17:33:02.831Z"
   },
   {
    "duration": 3,
    "start_time": "2022-01-25T17:33:02.848Z"
   },
   {
    "duration": 7,
    "start_time": "2022-01-25T17:33:02.853Z"
   },
   {
    "duration": 40,
    "start_time": "2022-01-25T17:33:02.862Z"
   },
   {
    "duration": 12,
    "start_time": "2022-01-25T17:33:02.904Z"
   },
   {
    "duration": 14,
    "start_time": "2022-01-25T17:33:02.918Z"
   },
   {
    "duration": 17,
    "start_time": "2022-01-25T17:33:02.933Z"
   },
   {
    "duration": 24,
    "start_time": "2022-01-25T17:33:02.952Z"
   },
   {
    "duration": 6,
    "start_time": "2022-01-25T17:33:10.793Z"
   },
   {
    "duration": 6,
    "start_time": "2022-01-25T17:33:30.065Z"
   },
   {
    "duration": 8,
    "start_time": "2022-01-25T17:33:40.937Z"
   },
   {
    "duration": 63,
    "start_time": "2022-01-25T17:34:19.440Z"
   },
   {
    "duration": 12,
    "start_time": "2022-01-25T17:34:19.505Z"
   },
   {
    "duration": 14,
    "start_time": "2022-01-25T17:34:19.519Z"
   },
   {
    "duration": 8,
    "start_time": "2022-01-25T17:34:19.535Z"
   },
   {
    "duration": 7,
    "start_time": "2022-01-25T17:34:19.545Z"
   },
   {
    "duration": 48,
    "start_time": "2022-01-25T17:34:19.554Z"
   },
   {
    "duration": 7,
    "start_time": "2022-01-25T17:34:19.604Z"
   },
   {
    "duration": 29,
    "start_time": "2022-01-25T17:34:19.614Z"
   },
   {
    "duration": 10,
    "start_time": "2022-01-25T17:34:19.645Z"
   },
   {
    "duration": 4,
    "start_time": "2022-01-25T17:34:19.657Z"
   },
   {
    "duration": 40,
    "start_time": "2022-01-25T17:34:19.663Z"
   },
   {
    "duration": 6,
    "start_time": "2022-01-25T17:34:19.705Z"
   },
   {
    "duration": 7,
    "start_time": "2022-01-25T17:34:19.713Z"
   },
   {
    "duration": 13,
    "start_time": "2022-01-25T17:34:19.721Z"
   },
   {
    "duration": 9,
    "start_time": "2022-01-25T17:34:19.736Z"
   },
   {
    "duration": 9,
    "start_time": "2022-01-25T17:34:19.747Z"
   },
   {
    "duration": 41,
    "start_time": "2022-01-25T17:34:19.758Z"
   },
   {
    "duration": 9,
    "start_time": "2022-01-25T17:34:19.802Z"
   },
   {
    "duration": 12,
    "start_time": "2022-01-25T17:34:19.813Z"
   },
   {
    "duration": 66,
    "start_time": "2022-01-25T17:34:34.255Z"
   },
   {
    "duration": 14,
    "start_time": "2022-01-25T17:34:34.324Z"
   },
   {
    "duration": 13,
    "start_time": "2022-01-25T17:34:34.341Z"
   },
   {
    "duration": 42,
    "start_time": "2022-01-25T17:34:34.356Z"
   },
   {
    "duration": 7,
    "start_time": "2022-01-25T17:34:34.400Z"
   },
   {
    "duration": 11,
    "start_time": "2022-01-25T17:34:34.409Z"
   },
   {
    "duration": 9,
    "start_time": "2022-01-25T17:34:34.422Z"
   },
   {
    "duration": 30,
    "start_time": "2022-01-25T17:34:34.434Z"
   },
   {
    "duration": 35,
    "start_time": "2022-01-25T17:34:34.466Z"
   },
   {
    "duration": 8,
    "start_time": "2022-01-25T17:34:34.503Z"
   },
   {
    "duration": 17,
    "start_time": "2022-01-25T17:34:34.513Z"
   },
   {
    "duration": 4,
    "start_time": "2022-01-25T17:34:34.531Z"
   },
   {
    "duration": 15,
    "start_time": "2022-01-25T17:34:34.536Z"
   },
   {
    "duration": 14,
    "start_time": "2022-01-25T17:34:34.553Z"
   },
   {
    "duration": 9,
    "start_time": "2022-01-25T17:34:34.568Z"
   },
   {
    "duration": 25,
    "start_time": "2022-01-25T17:34:34.578Z"
   },
   {
    "duration": 15,
    "start_time": "2022-01-25T17:34:34.605Z"
   },
   {
    "duration": 9,
    "start_time": "2022-01-25T17:34:34.622Z"
   },
   {
    "duration": 13,
    "start_time": "2022-01-25T17:34:34.633Z"
   },
   {
    "duration": 52,
    "start_time": "2022-01-25T17:36:15.793Z"
   },
   {
    "duration": 56,
    "start_time": "2022-01-25T17:37:55.882Z"
   },
   {
    "duration": 11,
    "start_time": "2022-01-25T17:37:55.940Z"
   },
   {
    "duration": 14,
    "start_time": "2022-01-25T17:37:55.953Z"
   },
   {
    "duration": 36,
    "start_time": "2022-01-25T17:37:55.968Z"
   },
   {
    "duration": 16,
    "start_time": "2022-01-25T17:37:56.006Z"
   },
   {
    "duration": 11,
    "start_time": "2022-01-25T17:37:56.023Z"
   },
   {
    "duration": 8,
    "start_time": "2022-01-25T17:37:56.036Z"
   },
   {
    "duration": 51,
    "start_time": "2022-01-25T17:37:56.046Z"
   },
   {
    "duration": 10,
    "start_time": "2022-01-25T17:37:56.099Z"
   },
   {
    "duration": 4,
    "start_time": "2022-01-25T17:37:56.111Z"
   },
   {
    "duration": 13,
    "start_time": "2022-01-25T17:37:56.117Z"
   },
   {
    "duration": 3,
    "start_time": "2022-01-25T17:37:56.132Z"
   },
   {
    "duration": 17,
    "start_time": "2022-01-25T17:37:56.136Z"
   },
   {
    "duration": 12,
    "start_time": "2022-01-25T17:37:56.155Z"
   },
   {
    "duration": 33,
    "start_time": "2022-01-25T17:37:56.168Z"
   },
   {
    "duration": 17,
    "start_time": "2022-01-25T17:37:56.203Z"
   },
   {
    "duration": 18,
    "start_time": "2022-01-25T17:37:56.222Z"
   },
   {
    "duration": 16,
    "start_time": "2022-01-25T17:37:56.242Z"
   },
   {
    "duration": 30,
    "start_time": "2022-01-25T17:37:56.260Z"
   },
   {
    "duration": 23,
    "start_time": "2022-01-25T17:37:56.292Z"
   },
   {
    "duration": 15,
    "start_time": "2022-01-25T17:37:56.317Z"
   },
   {
    "duration": 48,
    "start_time": "2022-01-25T17:37:56.334Z"
   },
   {
    "duration": 11,
    "start_time": "2022-01-25T17:37:56.386Z"
   },
   {
    "duration": 2973,
    "start_time": "2022-01-25T17:37:56.399Z"
   },
   {
    "duration": 28,
    "start_time": "2022-01-25T17:37:59.374Z"
   },
   {
    "duration": 9,
    "start_time": "2022-01-25T17:37:59.404Z"
   },
   {
    "duration": 15,
    "start_time": "2022-01-25T17:37:59.414Z"
   },
   {
    "duration": 9,
    "start_time": "2022-01-25T17:37:59.431Z"
   },
   {
    "duration": 19,
    "start_time": "2022-01-25T17:37:59.441Z"
   },
   {
    "duration": 45,
    "start_time": "2022-01-25T17:37:59.462Z"
   },
   {
    "duration": 14,
    "start_time": "2022-01-25T17:37:59.509Z"
   },
   {
    "duration": 11,
    "start_time": "2022-01-25T17:37:59.525Z"
   },
   {
    "duration": 19,
    "start_time": "2022-01-25T17:37:59.538Z"
   },
   {
    "duration": 39,
    "start_time": "2022-01-25T17:37:59.559Z"
   },
   {
    "duration": 13,
    "start_time": "2022-01-25T17:37:59.600Z"
   },
   {
    "duration": 18,
    "start_time": "2022-01-25T17:37:59.614Z"
   },
   {
    "duration": 21,
    "start_time": "2022-01-25T17:37:59.633Z"
   },
   {
    "duration": 44,
    "start_time": "2022-01-25T17:37:59.656Z"
   },
   {
    "duration": 15,
    "start_time": "2022-01-25T17:37:59.702Z"
   },
   {
    "duration": 7,
    "start_time": "2022-01-25T17:37:59.719Z"
   },
   {
    "duration": 11,
    "start_time": "2022-01-25T17:37:59.728Z"
   },
   {
    "duration": 8,
    "start_time": "2022-01-25T17:37:59.740Z"
   },
   {
    "duration": 9,
    "start_time": "2022-01-25T17:37:59.750Z"
   },
   {
    "duration": 39,
    "start_time": "2022-01-25T17:37:59.761Z"
   },
   {
    "duration": 13,
    "start_time": "2022-01-25T17:37:59.802Z"
   },
   {
    "duration": 17,
    "start_time": "2022-01-25T17:37:59.817Z"
   },
   {
    "duration": 10,
    "start_time": "2022-01-25T17:37:59.836Z"
   },
   {
    "duration": 5,
    "start_time": "2022-01-25T17:37:59.848Z"
   },
   {
    "duration": 12,
    "start_time": "2022-01-25T17:37:59.855Z"
   },
   {
    "duration": 19,
    "start_time": "2022-01-25T17:37:59.869Z"
   },
   {
    "duration": 22,
    "start_time": "2022-01-25T17:37:59.890Z"
   },
   {
    "duration": 14,
    "start_time": "2022-01-25T17:37:59.913Z"
   },
   {
    "duration": 10,
    "start_time": "2022-01-25T17:37:59.929Z"
   },
   {
    "duration": 12,
    "start_time": "2022-01-25T17:37:59.941Z"
   },
   {
    "duration": 10,
    "start_time": "2022-01-25T17:37:59.955Z"
   },
   {
    "duration": 58,
    "start_time": "2022-01-25T18:01:20.500Z"
   },
   {
    "duration": 10,
    "start_time": "2022-01-25T18:01:20.560Z"
   },
   {
    "duration": 25,
    "start_time": "2022-01-25T18:01:20.572Z"
   },
   {
    "duration": 7,
    "start_time": "2022-01-25T18:01:20.599Z"
   },
   {
    "duration": 7,
    "start_time": "2022-01-25T18:01:20.608Z"
   },
   {
    "duration": 7,
    "start_time": "2022-01-25T18:01:20.617Z"
   },
   {
    "duration": 7,
    "start_time": "2022-01-25T18:01:20.625Z"
   },
   {
    "duration": 62,
    "start_time": "2022-01-25T18:01:20.635Z"
   },
   {
    "duration": 14,
    "start_time": "2022-01-25T18:01:20.700Z"
   },
   {
    "duration": 9,
    "start_time": "2022-01-25T18:01:20.716Z"
   },
   {
    "duration": 17,
    "start_time": "2022-01-25T18:01:20.727Z"
   },
   {
    "duration": 3,
    "start_time": "2022-01-25T18:01:20.746Z"
   },
   {
    "duration": 15,
    "start_time": "2022-01-25T18:01:20.751Z"
   },
   {
    "duration": 13,
    "start_time": "2022-01-25T18:01:20.767Z"
   },
   {
    "duration": 25,
    "start_time": "2022-01-25T18:01:20.781Z"
   },
   {
    "duration": 10,
    "start_time": "2022-01-25T18:01:20.807Z"
   },
   {
    "duration": 17,
    "start_time": "2022-01-25T18:01:20.819Z"
   },
   {
    "duration": 13,
    "start_time": "2022-01-25T18:01:20.838Z"
   },
   {
    "duration": 12,
    "start_time": "2022-01-25T18:01:20.853Z"
   },
   {
    "duration": 12,
    "start_time": "2022-01-25T18:01:20.867Z"
   },
   {
    "duration": 24,
    "start_time": "2022-01-25T18:01:20.880Z"
   },
   {
    "duration": 30,
    "start_time": "2022-01-25T18:01:20.907Z"
   },
   {
    "duration": 9,
    "start_time": "2022-01-25T18:01:20.939Z"
   },
   {
    "duration": 2942,
    "start_time": "2022-01-25T18:01:20.950Z"
   },
   {
    "duration": 20,
    "start_time": "2022-01-25T18:01:23.894Z"
   },
   {
    "duration": 29,
    "start_time": "2022-01-25T18:01:23.915Z"
   },
   {
    "duration": 12,
    "start_time": "2022-01-25T18:01:23.946Z"
   },
   {
    "duration": 13,
    "start_time": "2022-01-25T18:01:23.959Z"
   },
   {
    "duration": 7,
    "start_time": "2022-01-25T18:04:11.567Z"
   },
   {
    "duration": 10,
    "start_time": "2022-01-25T18:04:17.399Z"
   },
   {
    "duration": 15,
    "start_time": "2022-01-25T18:04:26.302Z"
   },
   {
    "duration": 12,
    "start_time": "2022-01-25T18:04:26.320Z"
   },
   {
    "duration": 24,
    "start_time": "2022-01-25T18:04:26.334Z"
   },
   {
    "duration": 49,
    "start_time": "2022-01-25T18:04:26.360Z"
   },
   {
    "duration": 16,
    "start_time": "2022-01-25T18:04:26.411Z"
   },
   {
    "duration": 12,
    "start_time": "2022-01-25T18:04:26.429Z"
   },
   {
    "duration": 13,
    "start_time": "2022-01-25T18:04:26.444Z"
   },
   {
    "duration": 14,
    "start_time": "2022-01-25T18:04:26.498Z"
   },
   {
    "duration": 12,
    "start_time": "2022-01-25T18:04:26.514Z"
   },
   {
    "duration": 16,
    "start_time": "2022-01-25T18:04:26.528Z"
   },
   {
    "duration": 15,
    "start_time": "2022-01-25T18:04:26.546Z"
   },
   {
    "duration": 47,
    "start_time": "2022-01-25T18:04:26.562Z"
   },
   {
    "duration": 15,
    "start_time": "2022-01-25T18:04:26.611Z"
   },
   {
    "duration": 7,
    "start_time": "2022-01-25T18:04:26.627Z"
   },
   {
    "duration": 13,
    "start_time": "2022-01-25T18:04:26.636Z"
   },
   {
    "duration": 6,
    "start_time": "2022-01-25T18:04:26.651Z"
   },
   {
    "duration": 9,
    "start_time": "2022-01-25T18:04:26.659Z"
   },
   {
    "duration": 4,
    "start_time": "2022-01-25T18:04:26.698Z"
   },
   {
    "duration": 7,
    "start_time": "2022-01-25T18:04:26.704Z"
   },
   {
    "duration": 13,
    "start_time": "2022-01-25T18:04:26.712Z"
   },
   {
    "duration": 9,
    "start_time": "2022-01-25T18:04:26.727Z"
   },
   {
    "duration": 8,
    "start_time": "2022-01-25T18:04:26.737Z"
   },
   {
    "duration": 7,
    "start_time": "2022-01-25T18:04:26.746Z"
   },
   {
    "duration": 10,
    "start_time": "2022-01-25T18:04:26.755Z"
   },
   {
    "duration": 41,
    "start_time": "2022-01-25T18:04:26.766Z"
   },
   {
    "duration": 29,
    "start_time": "2022-01-25T18:04:26.808Z"
   },
   {
    "duration": 11,
    "start_time": "2022-01-25T18:04:26.838Z"
   },
   {
    "duration": 28,
    "start_time": "2022-01-25T18:04:26.851Z"
   },
   {
    "duration": 27,
    "start_time": "2022-01-25T18:04:26.880Z"
   },
   {
    "duration": 17,
    "start_time": "2022-01-25T18:50:41.065Z"
   },
   {
    "duration": 14,
    "start_time": "2022-01-25T18:51:01.120Z"
   },
   {
    "duration": 13,
    "start_time": "2022-01-25T18:51:32.113Z"
   },
   {
    "duration": 15,
    "start_time": "2022-01-25T18:52:48.873Z"
   },
   {
    "duration": 16,
    "start_time": "2022-01-25T18:54:10.976Z"
   },
   {
    "duration": 14,
    "start_time": "2022-01-25T18:54:13.609Z"
   },
   {
    "duration": 15,
    "start_time": "2022-01-25T18:54:16.160Z"
   },
   {
    "duration": 15,
    "start_time": "2022-01-25T18:54:47.072Z"
   },
   {
    "duration": 15,
    "start_time": "2022-01-25T18:59:08.648Z"
   },
   {
    "duration": 19,
    "start_time": "2022-01-25T18:59:11.097Z"
   },
   {
    "duration": 14,
    "start_time": "2022-01-25T18:59:22.264Z"
   },
   {
    "duration": 14,
    "start_time": "2022-01-25T19:00:11.352Z"
   },
   {
    "duration": 13,
    "start_time": "2022-01-25T19:00:56.152Z"
   },
   {
    "duration": 15,
    "start_time": "2022-01-25T19:00:58.312Z"
   },
   {
    "duration": 16,
    "start_time": "2022-01-25T19:01:01.495Z"
   },
   {
    "duration": 14,
    "start_time": "2022-01-25T19:01:04.207Z"
   },
   {
    "duration": 13,
    "start_time": "2022-01-25T19:01:09.193Z"
   },
   {
    "duration": 13,
    "start_time": "2022-01-25T19:01:15.144Z"
   },
   {
    "duration": 5,
    "start_time": "2022-01-25T19:04:37.623Z"
   },
   {
    "duration": 5,
    "start_time": "2022-01-25T19:05:00.095Z"
   },
   {
    "duration": 5,
    "start_time": "2022-01-25T19:05:28.127Z"
   },
   {
    "duration": 4,
    "start_time": "2022-01-25T19:05:54.375Z"
   },
   {
    "duration": 5,
    "start_time": "2022-01-25T19:06:02.111Z"
   },
   {
    "duration": 5,
    "start_time": "2022-01-25T19:06:13.271Z"
   },
   {
    "duration": 5,
    "start_time": "2022-01-25T19:07:10.199Z"
   },
   {
    "duration": 4,
    "start_time": "2022-01-25T19:14:09.439Z"
   },
   {
    "duration": 16,
    "start_time": "2022-01-25T19:42:51.816Z"
   },
   {
    "duration": 19,
    "start_time": "2022-01-25T20:05:51.607Z"
   },
   {
    "duration": 5,
    "start_time": "2022-01-25T20:14:57.995Z"
   },
   {
    "duration": 153,
    "start_time": "2022-01-25T20:15:32.132Z"
   },
   {
    "duration": 5,
    "start_time": "2022-01-25T20:15:48.323Z"
   },
   {
    "duration": 43,
    "start_time": "2022-01-25T20:21:57.802Z"
   },
   {
    "duration": 38,
    "start_time": "2022-01-25T20:22:33.643Z"
   },
   {
    "duration": 4,
    "start_time": "2022-01-25T20:22:46.050Z"
   },
   {
    "duration": 40,
    "start_time": "2022-01-25T20:22:55.995Z"
   },
   {
    "duration": 50,
    "start_time": "2022-01-25T20:23:13.914Z"
   },
   {
    "duration": 129,
    "start_time": "2022-01-25T20:23:23.747Z"
   },
   {
    "duration": 16,
    "start_time": "2022-01-25T20:26:37.410Z"
   },
   {
    "duration": 2,
    "start_time": "2022-01-25T20:30:35.314Z"
   },
   {
    "duration": 13,
    "start_time": "2022-01-25T20:30:39.521Z"
   },
   {
    "duration": 13,
    "start_time": "2022-01-25T20:32:07.913Z"
   },
   {
    "duration": 134,
    "start_time": "2022-01-25T20:34:47.753Z"
   },
   {
    "duration": 3,
    "start_time": "2022-01-25T20:35:01.954Z"
   },
   {
    "duration": 5,
    "start_time": "2022-01-25T20:35:10.929Z"
   },
   {
    "duration": 5,
    "start_time": "2022-01-25T20:35:32.585Z"
   },
   {
    "duration": 14,
    "start_time": "2022-01-25T20:36:00.106Z"
   },
   {
    "duration": 13,
    "start_time": "2022-01-25T20:36:44.417Z"
   },
   {
    "duration": 3,
    "start_time": "2022-01-25T20:37:45.625Z"
   },
   {
    "duration": 4,
    "start_time": "2022-01-25T20:37:50.569Z"
   },
   {
    "duration": 5,
    "start_time": "2022-01-25T20:38:45.081Z"
   },
   {
    "duration": 14,
    "start_time": "2022-01-25T20:38:50.417Z"
   },
   {
    "duration": 14,
    "start_time": "2022-01-25T20:39:20.897Z"
   },
   {
    "duration": 4,
    "start_time": "2022-01-25T20:40:34.057Z"
   },
   {
    "duration": 13,
    "start_time": "2022-01-25T20:40:38.801Z"
   },
   {
    "duration": 14,
    "start_time": "2022-01-25T20:41:19.881Z"
   },
   {
    "duration": 4,
    "start_time": "2022-01-25T20:41:48.272Z"
   },
   {
    "duration": 145,
    "start_time": "2022-01-25T20:43:30.593Z"
   },
   {
    "duration": 124,
    "start_time": "2022-01-25T20:45:13.873Z"
   },
   {
    "duration": 122,
    "start_time": "2022-01-25T20:46:30.729Z"
   },
   {
    "duration": 5,
    "start_time": "2022-01-25T20:46:57.393Z"
   },
   {
    "duration": 5,
    "start_time": "2022-01-25T20:46:59.713Z"
   },
   {
    "duration": 14,
    "start_time": "2022-01-25T20:47:02.841Z"
   },
   {
    "duration": 14,
    "start_time": "2022-01-25T20:47:16.969Z"
   },
   {
    "duration": 4,
    "start_time": "2022-01-25T20:47:24.097Z"
   },
   {
    "duration": 11,
    "start_time": "2022-01-25T20:55:12.547Z"
   },
   {
    "duration": 4,
    "start_time": "2022-01-25T20:56:47.515Z"
   },
   {
    "duration": 9,
    "start_time": "2022-01-25T20:56:51.913Z"
   },
   {
    "duration": 5,
    "start_time": "2022-01-25T20:59:49.693Z"
   },
   {
    "duration": 6,
    "start_time": "2022-01-25T21:00:18.301Z"
   },
   {
    "duration": 9,
    "start_time": "2022-01-25T21:00:59.492Z"
   },
   {
    "duration": 59,
    "start_time": "2022-01-25T21:01:18.818Z"
   },
   {
    "duration": 14,
    "start_time": "2022-01-25T21:01:18.879Z"
   },
   {
    "duration": 13,
    "start_time": "2022-01-25T21:01:18.896Z"
   },
   {
    "duration": 8,
    "start_time": "2022-01-25T21:01:18.911Z"
   },
   {
    "duration": 7,
    "start_time": "2022-01-25T21:01:18.920Z"
   },
   {
    "duration": 11,
    "start_time": "2022-01-25T21:01:18.929Z"
   },
   {
    "duration": 7,
    "start_time": "2022-01-25T21:01:18.941Z"
   },
   {
    "duration": 63,
    "start_time": "2022-01-25T21:01:18.950Z"
   },
   {
    "duration": 10,
    "start_time": "2022-01-25T21:01:19.016Z"
   },
   {
    "duration": 6,
    "start_time": "2022-01-25T21:01:19.027Z"
   },
   {
    "duration": 19,
    "start_time": "2022-01-25T21:01:19.034Z"
   },
   {
    "duration": 4,
    "start_time": "2022-01-25T21:01:19.054Z"
   },
   {
    "duration": 9,
    "start_time": "2022-01-25T21:01:19.059Z"
   },
   {
    "duration": 9,
    "start_time": "2022-01-25T21:01:19.097Z"
   },
   {
    "duration": 11,
    "start_time": "2022-01-25T21:01:19.107Z"
   },
   {
    "duration": 9,
    "start_time": "2022-01-25T21:01:19.120Z"
   },
   {
    "duration": 14,
    "start_time": "2022-01-25T21:01:19.131Z"
   },
   {
    "duration": 50,
    "start_time": "2022-01-25T21:01:19.147Z"
   },
   {
    "duration": 8,
    "start_time": "2022-01-25T21:01:19.199Z"
   },
   {
    "duration": 13,
    "start_time": "2022-01-25T21:01:19.208Z"
   },
   {
    "duration": 10,
    "start_time": "2022-01-25T21:01:19.222Z"
   },
   {
    "duration": 31,
    "start_time": "2022-01-25T21:01:19.234Z"
   },
   {
    "duration": 36,
    "start_time": "2022-01-25T21:01:19.269Z"
   },
   {
    "duration": 3037,
    "start_time": "2022-01-25T21:01:19.308Z"
   },
   {
    "duration": 19,
    "start_time": "2022-01-25T21:01:22.347Z"
   },
   {
    "duration": 16,
    "start_time": "2022-01-25T21:01:22.367Z"
   },
   {
    "duration": 20,
    "start_time": "2022-01-25T21:01:22.385Z"
   },
   {
    "duration": 17,
    "start_time": "2022-01-25T21:01:22.407Z"
   },
   {
    "duration": 18,
    "start_time": "2022-01-25T21:01:22.426Z"
   },
   {
    "duration": 14,
    "start_time": "2022-01-25T21:01:22.446Z"
   },
   {
    "duration": 37,
    "start_time": "2022-01-25T21:01:22.461Z"
   },
   {
    "duration": 14,
    "start_time": "2022-01-25T21:01:22.500Z"
   },
   {
    "duration": 18,
    "start_time": "2022-01-25T21:01:22.516Z"
   },
   {
    "duration": 17,
    "start_time": "2022-01-25T21:01:22.536Z"
   },
   {
    "duration": 11,
    "start_time": "2022-01-25T21:01:22.554Z"
   },
   {
    "duration": 37,
    "start_time": "2022-01-25T21:01:22.567Z"
   },
   {
    "duration": 12,
    "start_time": "2022-01-25T21:01:22.606Z"
   },
   {
    "duration": 4,
    "start_time": "2022-01-25T21:01:22.620Z"
   },
   {
    "duration": 19,
    "start_time": "2022-01-25T21:01:22.625Z"
   },
   {
    "duration": 16,
    "start_time": "2022-01-25T21:01:22.646Z"
   },
   {
    "duration": 39,
    "start_time": "2022-01-25T21:01:22.663Z"
   },
   {
    "duration": 15,
    "start_time": "2022-01-25T21:01:22.704Z"
   },
   {
    "duration": 7,
    "start_time": "2022-01-25T21:01:22.721Z"
   },
   {
    "duration": 18,
    "start_time": "2022-01-25T21:01:22.729Z"
   },
   {
    "duration": 29,
    "start_time": "2022-01-25T21:01:22.749Z"
   },
   {
    "duration": 18,
    "start_time": "2022-01-25T21:01:22.780Z"
   },
   {
    "duration": 4,
    "start_time": "2022-01-25T21:01:22.800Z"
   },
   {
    "duration": 9,
    "start_time": "2022-01-25T21:01:22.806Z"
   },
   {
    "duration": 5,
    "start_time": "2022-01-25T21:01:22.817Z"
   },
   {
    "duration": 15,
    "start_time": "2022-01-25T21:01:22.824Z"
   },
   {
    "duration": 5,
    "start_time": "2022-01-25T21:01:22.840Z"
   },
   {
    "duration": 15,
    "start_time": "2022-01-25T21:01:22.846Z"
   },
   {
    "duration": 37,
    "start_time": "2022-01-25T21:01:22.862Z"
   },
   {
    "duration": 4,
    "start_time": "2022-01-25T21:01:22.901Z"
   },
   {
    "duration": 16,
    "start_time": "2022-01-25T21:01:22.907Z"
   },
   {
    "duration": 10,
    "start_time": "2022-01-25T21:01:22.924Z"
   },
   {
    "duration": 13,
    "start_time": "2022-01-25T21:01:22.935Z"
   },
   {
    "duration": 5,
    "start_time": "2022-01-25T21:01:22.950Z"
   },
   {
    "duration": 10,
    "start_time": "2022-01-25T21:01:22.956Z"
   },
   {
    "duration": 32,
    "start_time": "2022-01-25T21:01:22.968Z"
   },
   {
    "duration": 9,
    "start_time": "2022-01-25T21:02:39.805Z"
   },
   {
    "duration": 4,
    "start_time": "2022-01-25T21:05:20.267Z"
   },
   {
    "duration": 4,
    "start_time": "2022-01-25T21:06:07.660Z"
   },
   {
    "duration": 10,
    "start_time": "2022-01-25T21:06:56.523Z"
   },
   {
    "duration": 4,
    "start_time": "2022-01-25T21:08:15.323Z"
   },
   {
    "duration": 9,
    "start_time": "2022-01-25T21:08:22.395Z"
   },
   {
    "duration": 13,
    "start_time": "2022-01-25T21:08:49.411Z"
   },
   {
    "duration": 13,
    "start_time": "2022-01-25T21:09:58.395Z"
   },
   {
    "duration": 4,
    "start_time": "2022-01-25T21:11:13.068Z"
   },
   {
    "duration": 4,
    "start_time": "2022-01-25T21:11:22.212Z"
   },
   {
    "duration": 15,
    "start_time": "2022-01-25T21:11:30.676Z"
   },
   {
    "duration": 4,
    "start_time": "2022-01-25T21:11:43.708Z"
   },
   {
    "duration": 11,
    "start_time": "2022-01-25T21:11:50.004Z"
   },
   {
    "duration": 4,
    "start_time": "2022-01-25T21:11:55.340Z"
   },
   {
    "duration": 10,
    "start_time": "2022-01-25T21:12:04.084Z"
   },
   {
    "duration": 14,
    "start_time": "2022-01-25T21:13:22.724Z"
   },
   {
    "duration": 5,
    "start_time": "2022-01-25T21:14:01.028Z"
   },
   {
    "duration": 5,
    "start_time": "2022-01-25T21:14:06.614Z"
   },
   {
    "duration": 15,
    "start_time": "2022-01-25T21:14:10.756Z"
   },
   {
    "duration": 9,
    "start_time": "2022-01-25T21:14:18.477Z"
   },
   {
    "duration": 5,
    "start_time": "2022-01-25T21:15:00.669Z"
   },
   {
    "duration": 5,
    "start_time": "2022-01-25T21:15:03.980Z"
   },
   {
    "duration": 5,
    "start_time": "2022-01-25T21:16:00.253Z"
   },
   {
    "duration": 4,
    "start_time": "2022-01-25T21:16:03.325Z"
   },
   {
    "duration": 13,
    "start_time": "2022-01-25T21:16:07.797Z"
   },
   {
    "duration": 4,
    "start_time": "2022-01-25T21:16:15.253Z"
   },
   {
    "duration": 9,
    "start_time": "2022-01-25T21:16:26.815Z"
   },
   {
    "duration": 5,
    "start_time": "2022-01-25T21:16:50.669Z"
   },
   {
    "duration": 6,
    "start_time": "2022-01-25T21:16:55.572Z"
   },
   {
    "duration": 15,
    "start_time": "2022-01-25T21:17:00.676Z"
   },
   {
    "duration": 3,
    "start_time": "2022-01-25T21:17:08.021Z"
   },
   {
    "duration": 10,
    "start_time": "2022-01-25T21:17:12.548Z"
   },
   {
    "duration": 4,
    "start_time": "2022-01-25T21:17:21.917Z"
   },
   {
    "duration": 9,
    "start_time": "2022-01-25T21:17:28.533Z"
   },
   {
    "duration": 4,
    "start_time": "2022-01-25T21:17:36.428Z"
   },
   {
    "duration": 14,
    "start_time": "2022-01-25T21:17:48.405Z"
   },
   {
    "duration": 10,
    "start_time": "2022-01-25T21:18:27.621Z"
   },
   {
    "duration": 6,
    "start_time": "2022-01-25T21:19:34.612Z"
   },
   {
    "duration": 4,
    "start_time": "2022-01-25T21:19:38.197Z"
   },
   {
    "duration": 15,
    "start_time": "2022-01-25T21:19:41.022Z"
   },
   {
    "duration": 4,
    "start_time": "2022-01-25T21:19:45.100Z"
   },
   {
    "duration": 10,
    "start_time": "2022-01-25T21:19:49.717Z"
   },
   {
    "duration": 4,
    "start_time": "2022-01-25T21:20:02.228Z"
   },
   {
    "duration": 10,
    "start_time": "2022-01-25T21:20:06.836Z"
   },
   {
    "duration": 5,
    "start_time": "2022-01-25T21:20:26.093Z"
   },
   {
    "duration": 9,
    "start_time": "2022-01-25T21:21:19.445Z"
   },
   {
    "duration": 6,
    "start_time": "2022-01-25T21:21:37.021Z"
   },
   {
    "duration": 4,
    "start_time": "2022-01-25T21:21:41.213Z"
   },
   {
    "duration": 13,
    "start_time": "2022-01-25T21:21:44.429Z"
   },
   {
    "duration": 4,
    "start_time": "2022-01-25T21:21:52.109Z"
   },
   {
    "duration": 9,
    "start_time": "2022-01-25T21:21:55.827Z"
   },
   {
    "duration": 4,
    "start_time": "2022-01-25T21:22:02.132Z"
   },
   {
    "duration": 9,
    "start_time": "2022-01-25T21:22:07.389Z"
   },
   {
    "duration": 6,
    "start_time": "2022-01-25T21:22:37.332Z"
   },
   {
    "duration": 62,
    "start_time": "2022-01-25T21:22:55.221Z"
   },
   {
    "duration": 12,
    "start_time": "2022-01-25T21:22:55.285Z"
   },
   {
    "duration": 11,
    "start_time": "2022-01-25T21:22:55.300Z"
   },
   {
    "duration": 10,
    "start_time": "2022-01-25T21:22:55.313Z"
   },
   {
    "duration": 13,
    "start_time": "2022-01-25T21:22:55.325Z"
   },
   {
    "duration": 13,
    "start_time": "2022-01-25T21:22:55.339Z"
   },
   {
    "duration": 43,
    "start_time": "2022-01-25T21:22:55.354Z"
   },
   {
    "duration": 30,
    "start_time": "2022-01-25T21:22:55.399Z"
   },
   {
    "duration": 10,
    "start_time": "2022-01-25T21:22:55.431Z"
   },
   {
    "duration": 6,
    "start_time": "2022-01-25T21:22:55.443Z"
   },
   {
    "duration": 46,
    "start_time": "2022-01-25T21:22:55.451Z"
   },
   {
    "duration": 4,
    "start_time": "2022-01-25T21:22:55.500Z"
   },
   {
    "duration": 8,
    "start_time": "2022-01-25T21:22:55.506Z"
   },
   {
    "duration": 10,
    "start_time": "2022-01-25T21:22:55.516Z"
   },
   {
    "duration": 8,
    "start_time": "2022-01-25T21:22:55.528Z"
   },
   {
    "duration": 9,
    "start_time": "2022-01-25T21:22:55.538Z"
   },
   {
    "duration": 52,
    "start_time": "2022-01-25T21:22:55.550Z"
   },
   {
    "duration": 10,
    "start_time": "2022-01-25T21:22:55.604Z"
   },
   {
    "duration": 10,
    "start_time": "2022-01-25T21:22:55.615Z"
   },
   {
    "duration": 15,
    "start_time": "2022-01-25T21:22:55.627Z"
   },
   {
    "duration": 13,
    "start_time": "2022-01-25T21:22:55.643Z"
   },
   {
    "duration": 49,
    "start_time": "2022-01-25T21:22:55.658Z"
   },
   {
    "duration": 11,
    "start_time": "2022-01-25T21:22:55.709Z"
   },
   {
    "duration": 3026,
    "start_time": "2022-01-25T21:22:55.722Z"
   },
   {
    "duration": 20,
    "start_time": "2022-01-25T21:22:58.750Z"
   },
   {
    "duration": 27,
    "start_time": "2022-01-25T21:22:58.771Z"
   },
   {
    "duration": 11,
    "start_time": "2022-01-25T21:22:58.802Z"
   },
   {
    "duration": 18,
    "start_time": "2022-01-25T21:22:58.815Z"
   },
   {
    "duration": 13,
    "start_time": "2022-01-25T21:22:58.835Z"
   },
   {
    "duration": 9,
    "start_time": "2022-01-25T21:22:58.850Z"
   },
   {
    "duration": 40,
    "start_time": "2022-01-25T21:22:58.861Z"
   },
   {
    "duration": 14,
    "start_time": "2022-01-25T21:22:58.903Z"
   },
   {
    "duration": 19,
    "start_time": "2022-01-25T21:22:58.919Z"
   },
   {
    "duration": 12,
    "start_time": "2022-01-25T21:22:58.941Z"
   },
   {
    "duration": 43,
    "start_time": "2022-01-25T21:22:58.955Z"
   },
   {
    "duration": 15,
    "start_time": "2022-01-25T21:22:59.000Z"
   },
   {
    "duration": 13,
    "start_time": "2022-01-25T21:22:59.017Z"
   },
   {
    "duration": 7,
    "start_time": "2022-01-25T21:22:59.032Z"
   },
   {
    "duration": 16,
    "start_time": "2022-01-25T21:22:59.041Z"
   },
   {
    "duration": 43,
    "start_time": "2022-01-25T21:22:59.059Z"
   },
   {
    "duration": 14,
    "start_time": "2022-01-25T21:22:59.104Z"
   },
   {
    "duration": 15,
    "start_time": "2022-01-25T21:22:59.119Z"
   },
   {
    "duration": 7,
    "start_time": "2022-01-25T21:22:59.136Z"
   },
   {
    "duration": 9,
    "start_time": "2022-01-25T21:22:59.144Z"
   },
   {
    "duration": 42,
    "start_time": "2022-01-25T21:22:59.155Z"
   },
   {
    "duration": 8,
    "start_time": "2022-01-25T21:22:59.199Z"
   },
   {
    "duration": 3,
    "start_time": "2022-01-25T21:22:59.209Z"
   },
   {
    "duration": 8,
    "start_time": "2022-01-25T21:22:59.214Z"
   },
   {
    "duration": 6,
    "start_time": "2022-01-25T21:22:59.224Z"
   },
   {
    "duration": 8,
    "start_time": "2022-01-25T21:22:59.232Z"
   },
   {
    "duration": 5,
    "start_time": "2022-01-25T21:22:59.242Z"
   },
   {
    "duration": 49,
    "start_time": "2022-01-25T21:22:59.248Z"
   },
   {
    "duration": 6,
    "start_time": "2022-01-25T21:22:59.299Z"
   },
   {
    "duration": 9,
    "start_time": "2022-01-25T21:22:59.306Z"
   },
   {
    "duration": 19,
    "start_time": "2022-01-25T21:22:59.316Z"
   },
   {
    "duration": 4,
    "start_time": "2022-01-25T21:22:59.337Z"
   },
   {
    "duration": 11,
    "start_time": "2022-01-25T21:22:59.342Z"
   },
   {
    "duration": 5,
    "start_time": "2022-01-25T21:22:59.354Z"
   },
   {
    "duration": 41,
    "start_time": "2022-01-25T21:22:59.360Z"
   },
   {
    "duration": 10,
    "start_time": "2022-01-25T21:22:59.403Z"
   },
   {
    "duration": 21,
    "start_time": "2022-01-25T21:22:59.415Z"
   },
   {
    "duration": 12,
    "start_time": "2022-01-25T21:22:59.438Z"
   },
   {
    "duration": 13,
    "start_time": "2022-01-25T21:22:59.451Z"
   },
   {
    "duration": 37,
    "start_time": "2022-01-25T21:22:59.466Z"
   },
   {
    "duration": 9,
    "start_time": "2022-01-25T21:22:59.505Z"
   },
   {
    "duration": 142,
    "start_time": "2022-01-25T21:40:38.624Z"
   },
   {
    "duration": 8,
    "start_time": "2022-01-25T21:42:41.209Z"
   },
   {
    "duration": 8,
    "start_time": "2022-01-25T21:43:08.281Z"
   },
   {
    "duration": 43,
    "start_time": "2022-01-25T21:44:08.544Z"
   },
   {
    "duration": 9,
    "start_time": "2022-01-25T21:44:37.360Z"
   },
   {
    "duration": 43,
    "start_time": "2022-01-25T21:45:19.416Z"
   },
   {
    "duration": 9,
    "start_time": "2022-01-25T21:45:46.079Z"
   },
   {
    "duration": 8,
    "start_time": "2022-01-25T21:45:55.696Z"
   },
   {
    "duration": 9,
    "start_time": "2022-01-25T21:48:17.120Z"
   },
   {
    "duration": 11,
    "start_time": "2022-01-25T21:53:54.614Z"
   },
   {
    "duration": 9,
    "start_time": "2022-01-25T21:54:21.894Z"
   },
   {
    "duration": 152,
    "start_time": "2022-01-25T22:00:08.342Z"
   },
   {
    "duration": 5,
    "start_time": "2022-01-25T22:00:58.318Z"
   },
   {
    "duration": 138,
    "start_time": "2022-01-25T22:03:48.214Z"
   },
   {
    "duration": 4,
    "start_time": "2022-01-25T22:03:54.487Z"
   },
   {
    "duration": 39,
    "start_time": "2022-01-25T22:03:56.926Z"
   },
   {
    "duration": 126,
    "start_time": "2022-01-25T22:05:10.982Z"
   },
   {
    "duration": 6,
    "start_time": "2022-01-25T22:06:48.286Z"
   },
   {
    "duration": 38,
    "start_time": "2022-01-25T22:07:30.998Z"
   },
   {
    "duration": 38,
    "start_time": "2022-01-25T22:07:37.110Z"
   },
   {
    "duration": 4,
    "start_time": "2022-01-25T22:07:55.334Z"
   },
   {
    "duration": 21,
    "start_time": "2022-01-25T22:07:56.854Z"
   },
   {
    "duration": 8,
    "start_time": "2022-01-25T22:08:39.775Z"
   },
   {
    "duration": 9,
    "start_time": "2022-01-25T22:09:41.798Z"
   },
   {
    "duration": 4,
    "start_time": "2022-01-25T22:09:50.333Z"
   },
   {
    "duration": 12,
    "start_time": "2022-01-25T22:09:52.038Z"
   },
   {
    "duration": 8,
    "start_time": "2022-01-25T22:09:53.238Z"
   },
   {
    "duration": 5,
    "start_time": "2022-01-25T22:10:53.454Z"
   },
   {
    "duration": 8,
    "start_time": "2022-01-25T22:10:55.774Z"
   },
   {
    "duration": 9,
    "start_time": "2022-01-25T22:10:57.670Z"
   },
   {
    "duration": 5,
    "start_time": "2022-01-25T22:12:27.494Z"
   },
   {
    "duration": 9,
    "start_time": "2022-01-25T22:12:29.398Z"
   },
   {
    "duration": 10,
    "start_time": "2022-01-25T22:12:31.798Z"
   },
   {
    "duration": 11,
    "start_time": "2022-01-25T22:12:47.437Z"
   },
   {
    "duration": 13,
    "start_time": "2022-01-25T22:13:54.213Z"
   },
   {
    "duration": 13,
    "start_time": "2022-01-25T22:14:09.821Z"
   },
   {
    "duration": 10,
    "start_time": "2022-01-25T22:16:23.797Z"
   },
   {
    "duration": 11,
    "start_time": "2022-01-25T22:16:37.101Z"
   },
   {
    "duration": 5,
    "start_time": "2022-01-25T22:19:00.957Z"
   },
   {
    "duration": 12,
    "start_time": "2022-01-25T22:21:03.349Z"
   },
   {
    "duration": 12,
    "start_time": "2022-01-25T22:21:05.612Z"
   },
   {
    "duration": 10,
    "start_time": "2022-01-25T22:22:15.381Z"
   },
   {
    "duration": 11,
    "start_time": "2022-01-25T22:24:12.260Z"
   },
   {
    "duration": 11,
    "start_time": "2022-01-25T22:25:39.804Z"
   },
   {
    "duration": 10,
    "start_time": "2022-01-25T22:27:17.932Z"
   },
   {
    "duration": 10,
    "start_time": "2022-01-25T22:30:32.627Z"
   },
   {
    "duration": 12,
    "start_time": "2022-01-25T22:50:44.700Z"
   },
   {
    "duration": 10,
    "start_time": "2022-01-25T22:51:34.645Z"
   },
   {
    "duration": 13,
    "start_time": "2022-01-25T22:51:57.733Z"
   },
   {
    "duration": 9,
    "start_time": "2022-01-25T22:55:03.645Z"
   },
   {
    "duration": 14,
    "start_time": "2022-01-25T22:55:05.494Z"
   },
   {
    "duration": 14,
    "start_time": "2022-01-25T22:55:59.653Z"
   },
   {
    "duration": 47,
    "start_time": "2022-01-25T22:59:34.701Z"
   },
   {
    "duration": 10,
    "start_time": "2022-01-25T22:59:55.389Z"
   },
   {
    "duration": 51,
    "start_time": "2022-01-25T23:00:18.597Z"
   },
   {
    "duration": 11,
    "start_time": "2022-01-25T23:00:29.926Z"
   },
   {
    "duration": 10,
    "start_time": "2022-01-25T23:00:39.310Z"
   },
   {
    "duration": 15,
    "start_time": "2022-01-25T23:02:55.853Z"
   },
   {
    "duration": 12,
    "start_time": "2022-01-25T23:20:25.267Z"
   },
   {
    "duration": 11,
    "start_time": "2022-01-25T23:21:51.172Z"
   },
   {
    "duration": 11,
    "start_time": "2022-01-25T23:22:02.811Z"
   },
   {
    "duration": 10,
    "start_time": "2022-01-25T23:31:26.832Z"
   },
   {
    "duration": 12,
    "start_time": "2022-01-25T23:32:15.543Z"
   },
   {
    "duration": 10,
    "start_time": "2022-01-25T23:32:36.016Z"
   },
   {
    "duration": 10,
    "start_time": "2022-01-25T23:34:12.456Z"
   },
   {
    "duration": 15,
    "start_time": "2022-01-25T23:35:07.127Z"
   },
   {
    "duration": 10,
    "start_time": "2022-01-25T23:35:20.199Z"
   },
   {
    "duration": 62,
    "start_time": "2022-01-25T23:35:55.215Z"
   },
   {
    "duration": 11,
    "start_time": "2022-01-25T23:35:55.279Z"
   },
   {
    "duration": 9,
    "start_time": "2022-01-25T23:35:55.292Z"
   },
   {
    "duration": 7,
    "start_time": "2022-01-25T23:35:55.303Z"
   },
   {
    "duration": 8,
    "start_time": "2022-01-25T23:35:55.312Z"
   },
   {
    "duration": 7,
    "start_time": "2022-01-25T23:35:55.321Z"
   },
   {
    "duration": 12,
    "start_time": "2022-01-25T23:35:55.330Z"
   },
   {
    "duration": 61,
    "start_time": "2022-01-25T23:35:55.345Z"
   },
   {
    "duration": 10,
    "start_time": "2022-01-25T23:35:55.408Z"
   },
   {
    "duration": 12,
    "start_time": "2022-01-25T23:35:55.419Z"
   },
   {
    "duration": 15,
    "start_time": "2022-01-25T23:35:55.433Z"
   },
   {
    "duration": 3,
    "start_time": "2022-01-25T23:35:55.450Z"
   },
   {
    "duration": 11,
    "start_time": "2022-01-25T23:35:55.455Z"
   },
   {
    "duration": 36,
    "start_time": "2022-01-25T23:35:55.468Z"
   },
   {
    "duration": 15,
    "start_time": "2022-01-25T23:35:55.505Z"
   },
   {
    "duration": 14,
    "start_time": "2022-01-25T23:35:55.522Z"
   },
   {
    "duration": 17,
    "start_time": "2022-01-25T23:35:55.538Z"
   },
   {
    "duration": 14,
    "start_time": "2022-01-25T23:35:55.557Z"
   },
   {
    "duration": 29,
    "start_time": "2022-01-25T23:35:55.572Z"
   },
   {
    "duration": 10,
    "start_time": "2022-01-25T23:35:55.603Z"
   },
   {
    "duration": 11,
    "start_time": "2022-01-25T23:35:55.615Z"
   },
   {
    "duration": 31,
    "start_time": "2022-01-25T23:35:55.628Z"
   },
   {
    "duration": 15,
    "start_time": "2022-01-25T23:35:55.663Z"
   },
   {
    "duration": 2990,
    "start_time": "2022-01-25T23:35:55.696Z"
   },
   {
    "duration": 26,
    "start_time": "2022-01-25T23:35:58.688Z"
   },
   {
    "duration": 28,
    "start_time": "2022-01-25T23:35:58.716Z"
   },
   {
    "duration": 10,
    "start_time": "2022-01-25T23:35:58.746Z"
   },
   {
    "duration": 15,
    "start_time": "2022-01-25T23:35:58.758Z"
   },
   {
    "duration": 14,
    "start_time": "2022-01-25T23:35:58.775Z"
   },
   {
    "duration": 18,
    "start_time": "2022-01-25T23:35:58.790Z"
   },
   {
    "duration": 14,
    "start_time": "2022-01-25T23:35:58.810Z"
   },
   {
    "duration": 12,
    "start_time": "2022-01-25T23:35:58.826Z"
   },
   {
    "duration": 14,
    "start_time": "2022-01-25T23:35:58.840Z"
   },
   {
    "duration": 48,
    "start_time": "2022-01-25T23:35:58.855Z"
   },
   {
    "duration": 13,
    "start_time": "2022-01-25T23:35:58.905Z"
   },
   {
    "duration": 17,
    "start_time": "2022-01-25T23:35:58.920Z"
   },
   {
    "duration": 13,
    "start_time": "2022-01-25T23:35:58.938Z"
   },
   {
    "duration": 6,
    "start_time": "2022-01-25T23:35:58.952Z"
   },
   {
    "duration": 46,
    "start_time": "2022-01-25T23:35:58.960Z"
   },
   {
    "duration": 15,
    "start_time": "2022-01-25T23:35:59.008Z"
   },
   {
    "duration": 15,
    "start_time": "2022-01-25T23:35:59.025Z"
   },
   {
    "duration": 14,
    "start_time": "2022-01-25T23:35:59.042Z"
   },
   {
    "duration": 7,
    "start_time": "2022-01-25T23:35:59.057Z"
   },
   {
    "duration": 34,
    "start_time": "2022-01-25T23:35:59.066Z"
   },
   {
    "duration": 10,
    "start_time": "2022-01-25T23:35:59.101Z"
   },
   {
    "duration": 8,
    "start_time": "2022-01-25T23:35:59.112Z"
   },
   {
    "duration": 3,
    "start_time": "2022-01-25T23:35:59.122Z"
   },
   {
    "duration": 9,
    "start_time": "2022-01-25T23:35:59.127Z"
   },
   {
    "duration": 12,
    "start_time": "2022-01-25T23:35:59.138Z"
   },
   {
    "duration": 18,
    "start_time": "2022-01-25T23:35:59.152Z"
   },
   {
    "duration": 28,
    "start_time": "2022-01-25T23:35:59.172Z"
   },
   {
    "duration": 9,
    "start_time": "2022-01-25T23:35:59.202Z"
   },
   {
    "duration": 7,
    "start_time": "2022-01-25T23:35:59.212Z"
   },
   {
    "duration": 15,
    "start_time": "2022-01-25T23:35:59.220Z"
   },
   {
    "duration": 10,
    "start_time": "2022-01-25T23:35:59.237Z"
   },
   {
    "duration": 10,
    "start_time": "2022-01-25T23:35:59.249Z"
   },
   {
    "duration": 42,
    "start_time": "2022-01-25T23:35:59.260Z"
   },
   {
    "duration": 13,
    "start_time": "2022-01-25T23:35:59.304Z"
   },
   {
    "duration": 9,
    "start_time": "2022-01-25T23:35:59.319Z"
   },
   {
    "duration": 13,
    "start_time": "2022-01-25T23:35:59.329Z"
   },
   {
    "duration": 19,
    "start_time": "2022-01-25T23:35:59.344Z"
   },
   {
    "duration": 35,
    "start_time": "2022-01-25T23:35:59.365Z"
   },
   {
    "duration": 10,
    "start_time": "2022-01-25T23:35:59.402Z"
   },
   {
    "duration": 19,
    "start_time": "2022-01-25T23:35:59.414Z"
   },
   {
    "duration": 17,
    "start_time": "2022-01-25T23:35:59.435Z"
   },
   {
    "duration": 9,
    "start_time": "2022-01-25T23:35:59.453Z"
   },
   {
    "duration": 19,
    "start_time": "2022-01-25T23:35:59.463Z"
   },
   {
    "duration": 10,
    "start_time": "2022-01-25T23:35:59.500Z"
   },
   {
    "duration": 54,
    "start_time": "2022-01-25T23:43:30.589Z"
   },
   {
    "duration": 11,
    "start_time": "2022-01-25T23:43:30.645Z"
   },
   {
    "duration": 17,
    "start_time": "2022-01-25T23:43:30.658Z"
   },
   {
    "duration": 22,
    "start_time": "2022-01-25T23:43:30.676Z"
   },
   {
    "duration": 20,
    "start_time": "2022-01-25T23:43:30.700Z"
   },
   {
    "duration": 13,
    "start_time": "2022-01-25T23:43:30.722Z"
   },
   {
    "duration": 10,
    "start_time": "2022-01-25T23:43:30.737Z"
   },
   {
    "duration": 36,
    "start_time": "2022-01-25T23:43:30.749Z"
   },
   {
    "duration": 9,
    "start_time": "2022-01-25T23:43:30.798Z"
   },
   {
    "duration": 13,
    "start_time": "2022-01-25T23:43:30.809Z"
   },
   {
    "duration": 20,
    "start_time": "2022-01-25T23:43:30.824Z"
   },
   {
    "duration": 4,
    "start_time": "2022-01-25T23:43:30.846Z"
   },
   {
    "duration": 8,
    "start_time": "2022-01-25T23:43:30.852Z"
   },
   {
    "duration": 15,
    "start_time": "2022-01-25T23:43:30.862Z"
   },
   {
    "duration": 21,
    "start_time": "2022-01-25T23:43:30.879Z"
   },
   {
    "duration": 10,
    "start_time": "2022-01-25T23:43:30.901Z"
   },
   {
    "duration": 14,
    "start_time": "2022-01-25T23:43:30.913Z"
   },
   {
    "duration": 14,
    "start_time": "2022-01-25T23:43:30.928Z"
   },
   {
    "duration": 11,
    "start_time": "2022-01-25T23:43:30.943Z"
   },
   {
    "duration": 13,
    "start_time": "2022-01-25T23:43:30.956Z"
   },
   {
    "duration": 31,
    "start_time": "2022-01-25T23:43:30.971Z"
   },
   {
    "duration": 35,
    "start_time": "2022-01-25T23:43:31.004Z"
   },
   {
    "duration": 10,
    "start_time": "2022-01-25T23:43:31.044Z"
   },
   {
    "duration": 3101,
    "start_time": "2022-01-25T23:43:31.057Z"
   },
   {
    "duration": 21,
    "start_time": "2022-01-25T23:43:34.160Z"
   },
   {
    "duration": 22,
    "start_time": "2022-01-25T23:43:34.183Z"
   },
   {
    "duration": 12,
    "start_time": "2022-01-25T23:43:34.207Z"
   },
   {
    "duration": 13,
    "start_time": "2022-01-25T23:43:34.220Z"
   },
   {
    "duration": 14,
    "start_time": "2022-01-25T23:43:34.235Z"
   },
   {
    "duration": 48,
    "start_time": "2022-01-25T23:43:34.251Z"
   },
   {
    "duration": 18,
    "start_time": "2022-01-25T23:43:34.301Z"
   },
   {
    "duration": 13,
    "start_time": "2022-01-25T23:43:34.321Z"
   },
   {
    "duration": 16,
    "start_time": "2022-01-25T23:43:34.336Z"
   },
   {
    "duration": 49,
    "start_time": "2022-01-25T23:43:34.353Z"
   },
   {
    "duration": 12,
    "start_time": "2022-01-25T23:43:34.403Z"
   },
   {
    "duration": 10,
    "start_time": "2022-01-25T23:43:34.416Z"
   },
   {
    "duration": 17,
    "start_time": "2022-01-25T23:43:34.427Z"
   },
   {
    "duration": 4,
    "start_time": "2022-01-25T23:43:34.446Z"
   },
   {
    "duration": 16,
    "start_time": "2022-01-25T23:43:34.451Z"
   },
   {
    "duration": 39,
    "start_time": "2022-01-25T23:43:34.469Z"
   },
   {
    "duration": 14,
    "start_time": "2022-01-25T23:43:34.510Z"
   },
   {
    "duration": 14,
    "start_time": "2022-01-25T23:43:34.526Z"
   },
   {
    "duration": 7,
    "start_time": "2022-01-25T23:43:34.542Z"
   },
   {
    "duration": 8,
    "start_time": "2022-01-25T23:43:34.551Z"
   },
   {
    "duration": 7,
    "start_time": "2022-01-25T23:43:34.598Z"
   },
   {
    "duration": 8,
    "start_time": "2022-01-25T23:43:34.607Z"
   },
   {
    "duration": 5,
    "start_time": "2022-01-25T23:43:34.616Z"
   },
   {
    "duration": 9,
    "start_time": "2022-01-25T23:43:34.623Z"
   },
   {
    "duration": 8,
    "start_time": "2022-01-25T23:43:34.634Z"
   },
   {
    "duration": 8,
    "start_time": "2022-01-25T23:43:34.644Z"
   },
   {
    "duration": 4,
    "start_time": "2022-01-25T23:43:34.654Z"
   },
   {
    "duration": 42,
    "start_time": "2022-01-25T23:43:34.660Z"
   },
   {
    "duration": 12,
    "start_time": "2022-01-25T23:43:34.704Z"
   },
   {
    "duration": 29,
    "start_time": "2022-01-25T23:43:34.718Z"
   },
   {
    "duration": 15,
    "start_time": "2022-01-25T23:43:34.749Z"
   },
   {
    "duration": 15,
    "start_time": "2022-01-25T23:43:34.765Z"
   },
   {
    "duration": 15,
    "start_time": "2022-01-25T23:43:34.782Z"
   },
   {
    "duration": 10,
    "start_time": "2022-01-25T23:43:34.799Z"
   },
   {
    "duration": 8,
    "start_time": "2022-01-25T23:43:34.811Z"
   },
   {
    "duration": 24,
    "start_time": "2022-01-25T23:43:34.820Z"
   },
   {
    "duration": 26,
    "start_time": "2022-01-25T23:43:34.846Z"
   },
   {
    "duration": 18,
    "start_time": "2022-01-25T23:43:34.874Z"
   },
   {
    "duration": 21,
    "start_time": "2022-01-25T23:43:34.893Z"
   },
   {
    "duration": 17,
    "start_time": "2022-01-25T23:43:34.916Z"
   },
   {
    "duration": 19,
    "start_time": "2022-01-25T23:43:34.934Z"
   },
   {
    "duration": 25,
    "start_time": "2022-01-25T23:43:34.954Z"
   },
   {
    "duration": 22,
    "start_time": "2022-01-25T23:43:34.980Z"
   },
   {
    "duration": 14,
    "start_time": "2022-01-25T23:43:35.007Z"
   },
   {
    "duration": 785,
    "start_time": "2022-06-19T10:13:30.828Z"
   },
   {
    "duration": 23,
    "start_time": "2022-06-19T10:13:31.617Z"
   },
   {
    "duration": 23,
    "start_time": "2022-06-19T10:13:31.642Z"
   },
   {
    "duration": 8,
    "start_time": "2022-06-19T10:13:31.668Z"
   },
   {
    "duration": 32,
    "start_time": "2022-06-19T10:13:31.677Z"
   },
   {
    "duration": 35,
    "start_time": "2022-06-19T10:13:31.711Z"
   },
   {
    "duration": 10,
    "start_time": "2022-06-19T10:13:31.748Z"
   },
   {
    "duration": 24,
    "start_time": "2022-06-19T10:13:31.760Z"
   },
   {
    "duration": 15,
    "start_time": "2022-06-19T10:13:31.786Z"
   },
   {
    "duration": 21,
    "start_time": "2022-06-19T10:13:31.806Z"
   },
   {
    "duration": 24,
    "start_time": "2022-06-19T10:13:31.829Z"
   },
   {
    "duration": 4,
    "start_time": "2022-06-19T10:13:31.856Z"
   },
   {
    "duration": 11,
    "start_time": "2022-06-19T10:13:31.862Z"
   },
   {
    "duration": 12,
    "start_time": "2022-06-19T10:13:31.875Z"
   },
   {
    "duration": 52,
    "start_time": "2022-06-19T10:13:31.889Z"
   },
   {
    "duration": 12,
    "start_time": "2022-06-19T10:13:31.942Z"
   },
   {
    "duration": 16,
    "start_time": "2022-06-19T10:13:31.956Z"
   },
   {
    "duration": 10,
    "start_time": "2022-06-19T10:13:31.974Z"
   },
   {
    "duration": 45,
    "start_time": "2022-06-19T10:13:31.987Z"
   },
   {
    "duration": 20,
    "start_time": "2022-06-19T10:13:32.033Z"
   },
   {
    "duration": 17,
    "start_time": "2022-06-19T10:13:32.055Z"
   },
   {
    "duration": 54,
    "start_time": "2022-06-19T10:13:32.074Z"
   },
   {
    "duration": 8,
    "start_time": "2022-06-19T10:13:32.130Z"
   },
   {
    "duration": 2788,
    "start_time": "2022-06-19T10:13:32.139Z"
   }
  ],
  "kernelspec": {
   "display_name": "Python 3 (ipykernel)",
   "language": "python",
   "name": "python3"
  },
  "language_info": {
   "codemirror_mode": {
    "name": "ipython",
    "version": 3
   },
   "file_extension": ".py",
   "mimetype": "text/x-python",
   "name": "python",
   "nbconvert_exporter": "python",
   "pygments_lexer": "ipython3",
   "version": "3.9.7"
  },
  "toc": {
   "base_numbering": 1,
   "nav_menu": {},
   "number_sections": true,
   "sideBar": true,
   "skip_h1_title": true,
   "title_cell": "Table of Contents",
   "title_sidebar": "Contents",
   "toc_cell": false,
   "toc_position": {
    "height": "calc(100% - 180px)",
    "left": "10px",
    "top": "150px",
    "width": "247px"
   },
   "toc_section_display": true,
   "toc_window_display": true
  }
 },
 "nbformat": 4,
 "nbformat_minor": 2
}
